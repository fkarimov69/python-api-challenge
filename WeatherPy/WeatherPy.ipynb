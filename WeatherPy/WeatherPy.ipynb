{
 "cells": [
  {
   "cell_type": "markdown",
   "metadata": {},
   "source": [
    "# WeatherPy\n",
    "----\n",
    "\n",
    "#### Note\n",
    "* Instructions have been included for each segment. You do not have to follow them exactly, but they are included to help you think through the steps."
   ]
  },
  {
   "cell_type": "code",
   "execution_count": 71,
   "metadata": {
    "scrolled": true
   },
   "outputs": [],
   "source": [
    "# Dependencies and Setup\n",
    "import matplotlib.pyplot as plt\n",
    "import pandas as pd\n",
    "import numpy as np\n",
    "import requests\n",
    "import json\n",
    "import time\n",
    "from scipy.stats import linregress\n",
    "from citipy import citipy\n",
    "# Import API key\n",
    "#from api_keys import weather_api_key\n",
    "from config import api_key\n",
    "# Incorporated citipy to determine city based on latitude and longitude\n",
    "\n",
    "\n",
    "# Output File (CSV)\n",
    "output_data_file = \"output_data/cities.csv\"\n",
    "\n",
    "# Range of latitudes and longitudes\n",
    "lat_range = (-90, 90)\n",
    "lng_range = (-180, 180)"
   ]
  },
  {
   "cell_type": "markdown",
   "metadata": {},
   "source": [
    "## Generate Cities List"
   ]
  },
  {
   "cell_type": "code",
   "execution_count": 72,
   "metadata": {},
   "outputs": [
    {
     "data": {
      "text/plain": [
       "621"
      ]
     },
     "execution_count": 72,
     "metadata": {},
     "output_type": "execute_result"
    }
   ],
   "source": [
    "# List for holding lat_lngs and cities\n",
    "lat_lngs = []\n",
    "cities = []\n",
    "# Create a set of random lat and lng combinations\n",
    "lats = np.random.uniform(low=-90.000, high=90.000, size=1500)\n",
    "lngs = np.random.uniform(low=-180.000, high=180.000, size=1500)\n",
    "lat_lngs = zip(lats, lngs)\n",
    "\n",
    "# Identify nearest city for each lat, lng combination\n",
    "for lat_lng in lat_lngs:\n",
    "    city = citipy.nearest_city(lat_lng[0], lat_lng[1]).city_name\n",
    "    \n",
    "    # If the city is unique, then add it to a our cities list\n",
    "    if city not in cities:\n",
    "        cities.append(city)\n",
    "\n",
    "# Print the city count to confirm sufficient count\n",
    "len(cities)\n"
   ]
  },
  {
   "cell_type": "code",
   "execution_count": 116,
   "metadata": {},
   "outputs": [],
   "source": [
    "url=\"http://api.openweathermap.org/data/2.5/weather?\"\n",
    "\n",
    "query_url=f\"{url}appid={api_key}&q=\"\n",
    "#response=requests.get(query_url+city+\"&units=imperial\").json()\n",
    "#response"
   ]
  },
  {
   "cell_type": "code",
   "execution_count": 117,
   "metadata": {},
   "outputs": [
    {
     "name": "stdout",
     "output_type": "stream",
     "text": [
      "Begining Data retrieval\n",
      "Procesing record 1:upernavik\n",
      "Procesing record 2:carnarvon\n",
      "Procesing record 3:bethel\n",
      "Procesing record 4:aripuana\n",
      "Procesing record 5:hobyo\n",
      "Procesing record 6:mataura\n",
      "Procesing record 7:hobart\n",
      "Nothing\n",
      "Procesing record 8:qaanaaq\n",
      "Procesing record 9:bengkulu\n",
      "Procesing record 10:flinders\n",
      "Procesing record 11:novouzensk\n",
      "Procesing record 12:nishihara\n",
      "Nothing\n",
      "Procesing record 13:ushuaia\n",
      "Procesing record 14:rikitea\n",
      "Procesing record 15:leh\n",
      "Procesing record 16:matalom\n",
      "Procesing record 17:mantua\n",
      "Procesing record 18:itarema\n",
      "Procesing record 19:albany\n",
      "Procesing record 20:noshiro\n",
      "Procesing record 21:busselton\n",
      "Procesing record 22:mwingi\n",
      "Procesing record 23:zambezi\n",
      "Procesing record 24:bandarbeyla\n",
      "Nothing\n",
      "Procesing record 25:chokurdakh\n",
      "Procesing record 26:port blair\n",
      "Procesing record 27:tudela\n",
      "Procesing record 28:butaritari\n",
      "Procesing record 29:vaini\n",
      "Procesing record 30:reitz\n",
      "Nothing\n",
      "Procesing record 31:santa maria\n",
      "Procesing record 32:chuy\n",
      "Procesing record 33:tasiilaq\n",
      "Procesing record 34:port hardy\n",
      "Procesing record 35:seminole\n",
      "Nothing\n",
      "Procesing record 36:kapaa\n",
      "Procesing record 37:thurso\n",
      "Procesing record 38:shitanjing\n",
      "Procesing record 39:pisco\n",
      "Procesing record 40:touros\n",
      "Procesing record 41:plavinas\n",
      "Procesing record 42:aksarka\n",
      "Procesing record 43:port alfred\n",
      "Procesing record 44:ancud\n",
      "Procesing record 45:yellowknife\n",
      "Procesing record 46:hermanus\n",
      "Procesing record 47:struer\n",
      "Procesing record 48:lebu\n",
      "Procesing record 49:kamenka\n",
      "Procesing record 50:noumea\n",
      "Procesing record 51:eureka\n",
      "Procesing record 52:gusau\n",
      "Procesing record 53:katsuura\n",
      "Procesing record 54:milicz\n",
      "Procesing record 55:comodoro rivadavia\n",
      "Procesing record 56:husavik\n",
      "Procesing record 57:gambela\n",
      "Procesing record 58:beboto\n",
      "Procesing record 59:riberalta\n",
      "Procesing record 60:chor\n",
      "Procesing record 61:punta arenas\n",
      "Procesing record 62:tuktoyaktuk\n",
      "Procesing record 63:yulara\n",
      "Procesing record 64:okha\n",
      "Procesing record 65:guerrero negro\n",
      "Procesing record 66:queimadas\n",
      "Procesing record 67:alofi\n",
      "Procesing record 68:bluff\n",
      "Procesing record 69:escanaba\n",
      "Procesing record 70:saint-philippe\n",
      "Procesing record 71:atar\n",
      "Procesing record 72:new norfolk\n",
      "Procesing record 73:hithadhoo\n",
      "Procesing record 74:puerto ayora\n",
      "Procesing record 75:srednekolymsk\n",
      "Procesing record 76:nome\n",
      "Procesing record 77:chicama\n",
      "Nothing\n",
      "Procesing record 78:meulaboh\n",
      "Procesing record 79:cabarroguis\n",
      "Procesing record 80:deputatskiy\n",
      "Procesing record 81:russell\n",
      "Procesing record 82:bredasdorp\n",
      "Procesing record 83:asfi\n",
      "Procesing record 84:bilibino\n",
      "Procesing record 85:saint-joseph\n",
      "Procesing record 86:mikkeli\n",
      "Procesing record 87:avarua\n",
      "Nothing\n",
      "Procesing record 88:huicheng\n",
      "Procesing record 89:kaitangata\n",
      "Procesing record 90:irbeyskoye\n",
      "Nothing\n",
      "Procesing record 91:jamestown\n",
      "Procesing record 92:vestmannaeyjar\n",
      "Procesing record 93:georgetown\n",
      "Procesing record 94:okhotsk\n",
      "Procesing record 95:atuona\n",
      "Procesing record 96:arraial do cabo\n",
      "Nothing\n",
      "Procesing record 97:anuchino\n",
      "Procesing record 98:oussouye\n",
      "Procesing record 99:hilo\n",
      "Procesing record 100:umm lajj\n",
      "Procesing record 101:port lincoln\n",
      "Procesing record 102:mocoa\n",
      "Procesing record 103:isangel\n",
      "Procesing record 104:vestmanna\n",
      "Procesing record 105:hamilton\n",
      "Procesing record 106:half moon bay\n",
      "Procesing record 107:cape town\n",
      "Procesing record 108:kaya\n",
      "Procesing record 109:geraldton\n",
      "Procesing record 110:olafsvik\n",
      "Procesing record 111:castro\n",
      "Procesing record 112:sorkjosen\n",
      "Procesing record 113:pitimbu\n",
      "Procesing record 114:coos bay\n",
      "Procesing record 115:saldanha\n",
      "Procesing record 116:opuwo\n",
      "Nothing\n",
      "Nothing\n",
      "Procesing record 117:sidney\n",
      "Procesing record 118:provideniya\n",
      "Procesing record 119:coxquihui\n",
      "Procesing record 120:canavieiras\n",
      "Procesing record 121:duminichi\n",
      "Procesing record 122:east london\n",
      "Procesing record 123:srandakan\n",
      "Procesing record 124:valparaiso\n",
      "Procesing record 125:esperance\n",
      "Procesing record 126:norman wells\n",
      "Procesing record 127:pangnirtung\n",
      "Procesing record 128:broome\n",
      "Nothing\n",
      "Procesing record 129:yueyang\n",
      "Procesing record 130:elizabethton\n",
      "Procesing record 131:bullhead city\n",
      "Procesing record 132:lorengau\n",
      "Procesing record 133:labuhan\n",
      "Procesing record 134:dikson\n",
      "Procesing record 135:kaeo\n",
      "Procesing record 136:tahta\n",
      "Procesing record 137:mahibadhoo\n",
      "Procesing record 138:walvis bay\n",
      "Procesing record 139:aklavik\n",
      "Procesing record 140:ilulissat\n",
      "Procesing record 141:bolzano\n",
      "Procesing record 142:dhidhdhoo\n",
      "Procesing record 143:mittagong\n",
      "Procesing record 144:sinnamary\n",
      "Procesing record 145:kargat\n",
      "Nothing\n",
      "Procesing record 146:kirakira\n",
      "Procesing record 147:boralday\n",
      "Procesing record 148:nikolskoye\n",
      "Nothing\n",
      "Procesing record 149:tiarei\n",
      "Procesing record 150:khandyga\n",
      "Procesing record 151:skjervoy\n",
      "Procesing record 152:airai\n",
      "Procesing record 153:dublin\n",
      "Procesing record 154:viedma\n",
      "Nothing\n",
      "Procesing record 155:sidvokodvo\n",
      "Procesing record 156:port augusta\n",
      "Procesing record 157:xining\n",
      "Procesing record 158:bambous virieux\n",
      "Procesing record 159:lagoa\n",
      "Procesing record 160:mudigere\n",
      "Nothing\n",
      "Procesing record 161:huejuquilla el alto\n",
      "Procesing record 162:kidal\n",
      "Nothing\n",
      "Procesing record 163:egvekinot\n",
      "Procesing record 164:fangshan\n",
      "Procesing record 165:mahebourg\n",
      "Procesing record 166:hay river\n",
      "Procesing record 167:amazar\n",
      "Procesing record 168:san patricio\n",
      "Procesing record 169:garmsar\n",
      "Procesing record 170:acarau\n",
      "Procesing record 171:clyde river\n",
      "Nothing\n",
      "Procesing record 172:elban\n",
      "Procesing record 173:saskylakh\n",
      "Procesing record 174:linxia\n",
      "Procesing record 175:daule\n",
      "Nothing\n",
      "Procesing record 176:college\n",
      "Procesing record 177:poum\n",
      "Procesing record 178:thompson\n",
      "Procesing record 179:sao bernardo\n",
      "Procesing record 180:talnakh\n",
      "Procesing record 181:hammerfest\n",
      "Procesing record 182:waipawa\n",
      "Procesing record 183:victoria\n",
      "Procesing record 184:codrington\n",
      "Procesing record 185:bathsheba\n",
      "Procesing record 186:fortuna\n",
      "Nothing\n",
      "Procesing record 187:indianola\n",
      "Procesing record 188:san felipe\n",
      "Procesing record 189:pangai\n",
      "Procesing record 190:terrace\n",
      "Procesing record 191:bria\n",
      "Procesing record 192:portland\n",
      "Procesing record 193:guarenas\n",
      "Procesing record 194:asyut\n",
      "Procesing record 195:bayonet point\n",
      "Procesing record 196:yar-sale\n",
      "Procesing record 197:casablanca\n",
      "Procesing record 198:batagay-alyta\n",
      "Procesing record 199:ribeira grande\n",
      "Procesing record 200:areia branca\n",
      "Procesing record 201:khatanga\n",
      "Procesing record 202:luderitz\n",
      "Procesing record 203:kahului\n",
      "Procesing record 204:loiza\n",
      "Procesing record 205:rabat\n",
      "Procesing record 206:muzhi\n",
      "Procesing record 207:pevek\n",
      "Procesing record 208:klichka\n",
      "Procesing record 209:asau\n",
      "Procesing record 210:andra\n",
      "Procesing record 211:broken hill\n",
      "Procesing record 212:cayenne\n",
      "Procesing record 213:tarakan\n",
      "Procesing record 214:dunedin\n",
      "Procesing record 215:hirekerur\n",
      "Procesing record 216:kruisfontein\n",
      "Procesing record 217:chatham\n",
      "Nothing\n",
      "Procesing record 218:abonnema\n",
      "Procesing record 219:san francisco\n",
      "Procesing record 220:barrow\n",
      "Procesing record 221:cabo san lucas\n",
      "Procesing record 222:altay\n",
      "Procesing record 223:halifax\n",
      "Procesing record 224:kavieng\n",
      "Procesing record 225:lakes entrance\n",
      "Nothing\n",
      "Procesing record 226:keuruu\n",
      "Procesing record 227:ponta do sol\n",
      "Procesing record 228:siavonga\n",
      "Procesing record 229:rawson\n",
      "Procesing record 230:kodiak\n",
      "Procesing record 231:adiake\n",
      "Procesing record 232:assomada\n",
      "Procesing record 233:oranjestad\n",
      "Procesing record 234:jefferson city\n",
      "Procesing record 235:cidreira\n",
      "Procesing record 236:cap malheureux\n",
      "Procesing record 237:masterton\n",
      "Procesing record 238:los llanos de aridane\n",
      "Procesing record 239:chapais\n",
      "Procesing record 240:port victoria\n",
      "Procesing record 241:sao filipe\n",
      "Nothing\n",
      "Procesing record 242:sao sebastiao\n",
      "Nothing\n",
      "Procesing record 243:takaka\n",
      "Procesing record 244:lavrentiya\n",
      "Nothing\n",
      "Nothing\n",
      "Procesing record 245:chistogorskiy\n",
      "Procesing record 246:harper\n",
      "Procesing record 247:kupino\n",
      "Nothing\n",
      "Procesing record 248:klaksvik\n",
      "Procesing record 249:tacoronte\n",
      "Procesing record 250:hovd\n",
      "Procesing record 251:palmer\n",
      "Procesing record 252:san quintin\n",
      "Procesing record 253:mar del plata\n",
      "Procesing record 254:xuddur\n",
      "Nothing\n",
      "Procesing record 255:luba\n",
      "Procesing record 256:paraiso\n",
      "Procesing record 257:vega de alatorre\n",
      "Nothing\n",
      "Procesing record 258:quatre cocos\n",
      "Procesing record 259:taoudenni\n",
      "Procesing record 260:sitka\n",
      "Procesing record 261:khabary\n",
      "Procesing record 262:port elizabeth\n",
      "Procesing record 263:coquimbo\n",
      "Procesing record 264:avera\n",
      "Procesing record 265:sept-iles\n",
      "Procesing record 266:severo-kurilsk\n"
     ]
    },
    {
     "name": "stdout",
     "output_type": "stream",
     "text": [
      "Procesing record 267:mitu\n",
      "Procesing record 268:moron\n",
      "Procesing record 269:valle de allende\n",
      "Procesing record 270:constitucion\n",
      "Procesing record 271:huarmey\n",
      "Procesing record 272:kupang\n",
      "Procesing record 273:stellenbosch\n",
      "Procesing record 274:namibe\n",
      "Procesing record 275:luganville\n",
      "Procesing record 276:adrar\n",
      "Procesing record 277:rocha\n",
      "Procesing record 278:manicore\n",
      "Procesing record 279:tommot\n",
      "Procesing record 280:bowen\n",
      "Procesing record 281:merauke\n",
      "Procesing record 282:karratha\n",
      "Procesing record 283:colares\n",
      "Procesing record 284:pauini\n",
      "Nothing\n",
      "Procesing record 285:norwich\n",
      "Procesing record 286:abha\n",
      "Procesing record 287:yuzhno-sukhokumsk\n",
      "Procesing record 288:filingue\n",
      "Procesing record 289:henties bay\n",
      "Nothing\n",
      "Procesing record 290:cabedelo\n",
      "Procesing record 291:praia\n",
      "Procesing record 292:sao jose da coroa grande\n",
      "Procesing record 293:muros\n",
      "Procesing record 294:la sarre\n",
      "Nothing\n",
      "Procesing record 295:san andres\n",
      "Procesing record 296:kushima\n",
      "Procesing record 297:rapar\n",
      "Procesing record 298:hofn\n",
      "Procesing record 299:baran\n",
      "Procesing record 300:verkhnevilyuysk\n",
      "Procesing record 301:phan thiet\n",
      "Procesing record 302:guilin\n",
      "Procesing record 303:lata\n",
      "Procesing record 304:mahendragarh\n",
      "Procesing record 305:soavinandriana\n",
      "Procesing record 306:iqaluit\n",
      "Nothing\n",
      "Procesing record 307:atlantic beach\n",
      "Procesing record 308:kosonsoy\n",
      "Nothing\n",
      "Procesing record 309:sambava\n",
      "Procesing record 310:sulangan\n",
      "Procesing record 311:padang\n",
      "Nothing\n",
      "Procesing record 312:mount gambier\n",
      "Procesing record 313:bubaque\n",
      "Procesing record 314:vardo\n",
      "Procesing record 315:sapa\n",
      "Procesing record 316:santana do acarau\n",
      "Procesing record 317:wajima\n",
      "Procesing record 318:chumikan\n",
      "Procesing record 319:north bend\n",
      "Procesing record 320:sembe\n",
      "Procesing record 321:todos santos\n",
      "Procesing record 322:inhambane\n",
      "Procesing record 323:nemuro\n",
      "Procesing record 324:abbeville\n",
      "Procesing record 325:nanortalik\n",
      "Procesing record 326:bansang\n",
      "Nothing\n",
      "Procesing record 327:sechura\n",
      "Procesing record 328:tansen\n",
      "Nothing\n",
      "Procesing record 329:valley city\n",
      "Procesing record 330:thinadhoo\n",
      "Procesing record 331:sao joao da barra\n",
      "Procesing record 332:kirensk\n",
      "Procesing record 333:buchanan\n",
      "Procesing record 334:sesheke\n",
      "Procesing record 335:newberry\n",
      "Procesing record 336:seoul\n",
      "Procesing record 337:vostok\n",
      "Procesing record 338:xiuyan\n",
      "Procesing record 339:snyatyn\n",
      "Procesing record 340:mount isa\n",
      "Procesing record 341:fare\n",
      "Procesing record 342:smithers\n",
      "Nothing\n",
      "Procesing record 343:tual\n",
      "Procesing record 344:hasaki\n",
      "Procesing record 345:ketchikan\n",
      "Procesing record 346:buraydah\n",
      "Nothing\n",
      "Procesing record 347:faanui\n",
      "Procesing record 348:ust-tsilma\n",
      "Procesing record 349:kaputa\n",
      "Procesing record 350:laguna\n",
      "Procesing record 351:tondano\n",
      "Procesing record 352:doha\n",
      "Nothing\n",
      "Nothing\n",
      "Procesing record 353:beisfjord\n",
      "Procesing record 354:stokmarknes\n",
      "Procesing record 355:havelock\n",
      "Nothing\n",
      "Procesing record 356:moose factory\n",
      "Procesing record 357:nalut\n",
      "Procesing record 358:torbay\n",
      "Procesing record 359:sioux lookout\n",
      "Procesing record 360:erdenet\n",
      "Procesing record 361:gandajika\n",
      "Procesing record 362:kargasok\n",
      "Procesing record 363:raub\n",
      "Procesing record 364:sabha\n",
      "Procesing record 365:chivay\n",
      "Procesing record 366:ahipara\n",
      "Procesing record 367:concepcion\n",
      "Procesing record 368:jerusalem\n",
      "Procesing record 369:santa vitoria do palmar\n",
      "Procesing record 370:lubu\n",
      "Procesing record 371:jasper\n",
      "Procesing record 372:boa vista\n",
      "Procesing record 373:flin flon\n",
      "Procesing record 374:churapcha\n",
      "Procesing record 375:port-gentil\n",
      "Procesing record 376:limoges\n",
      "Procesing record 377:fairbanks\n",
      "Procesing record 378:hirara\n",
      "Nothing\n",
      "Procesing record 379:pahrump\n",
      "Procesing record 380:tuy hoa\n",
      "Procesing record 381:kuala terengganu\n",
      "Procesing record 382:buala\n",
      "Procesing record 383:san javier\n",
      "Procesing record 384:takhtamygda\n",
      "Procesing record 385:urengoy\n",
      "Procesing record 386:camargo\n",
      "Procesing record 387:shenjiamen\n",
      "Procesing record 388:envira\n",
      "Procesing record 389:hecun\n",
      "Procesing record 390:jiexiu\n",
      "Procesing record 391:belaya gora\n",
      "Procesing record 392:mehamn\n",
      "Nothing\n",
      "Procesing record 393:sangar\n",
      "Nothing\n",
      "Procesing record 394:san luis\n",
      "Nothing\n",
      "Procesing record 395:maralal\n",
      "Procesing record 396:louga\n",
      "Procesing record 397:la asuncion\n",
      "Procesing record 398:vila franca do campo\n",
      "Procesing record 399:zlobin\n",
      "Procesing record 400:tiksi\n",
      "Procesing record 401:chiang rai\n",
      "Procesing record 402:caravelas\n",
      "Procesing record 403:sibolga\n",
      "Procesing record 404:akdepe\n",
      "Procesing record 405:wattegama\n",
      "Procesing record 406:neuquen\n",
      "Procesing record 407:lucapa\n",
      "Procesing record 408:berlevag\n",
      "Procesing record 409:lima\n",
      "Procesing record 410:manbij\n",
      "Procesing record 411:esna\n",
      "Procesing record 412:vila velha\n",
      "Procesing record 413:slupsk\n",
      "Procesing record 414:beringovskiy\n",
      "Procesing record 415:carlsbad\n",
      "Procesing record 416:ibra\n",
      "Procesing record 417:quthing\n",
      "Nothing\n",
      "Nothing\n",
      "Procesing record 418:maxixe\n",
      "Procesing record 419:dabakala\n",
      "Procesing record 420:kununurra\n",
      "Procesing record 421:kabanjahe\n",
      "Procesing record 422:rodrigues alves\n",
      "Procesing record 423:venado tuerto\n",
      "Procesing record 424:dwarka\n",
      "Procesing record 425:tiznit\n",
      "Procesing record 426:vengerovo\n",
      "Procesing record 427:price\n",
      "Procesing record 428:dekar\n",
      "Procesing record 429:port moresby\n",
      "Procesing record 430:boende\n",
      "Procesing record 431:lixourion\n",
      "Procesing record 432:chegdomyn\n",
      "Procesing record 433:arlit\n",
      "Procesing record 434:kiama\n",
      "Nothing\n",
      "Procesing record 435:murovane\n",
      "Procesing record 436:podyuga\n",
      "Procesing record 437:longyearbyen\n",
      "Procesing record 438:contamana\n",
      "Procesing record 439:lasa\n",
      "Procesing record 440:shimoda\n",
      "Nothing\n",
      "Procesing record 441:dongsheng\n",
      "Nothing\n",
      "Procesing record 442:sao raimundo nonato\n",
      "Procesing record 443:bar harbor\n",
      "Procesing record 444:high level\n",
      "Procesing record 445:balkhash\n",
      "Procesing record 446:podgornoye\n",
      "Procesing record 447:orbetello\n",
      "Procesing record 448:marzuq\n",
      "Procesing record 449:upington\n",
      "Procesing record 450:ostrovnoy\n",
      "Procesing record 451:dingle\n",
      "Nothing\n",
      "Procesing record 452:cockburn town\n",
      "Procesing record 453:komsomolskiy\n",
      "Procesing record 454:marsh harbour\n",
      "Procesing record 455:westport\n",
      "Nothing\n",
      "Procesing record 456:inirida\n",
      "Procesing record 457:scottsboro\n",
      "Procesing record 458:hare bay\n",
      "Procesing record 459:konstantinovskaya\n",
      "Procesing record 460:bartica\n",
      "Procesing record 461:makakilo city\n",
      "Procesing record 462:punta de piedra\n",
      "Procesing record 463:nova olimpia\n",
      "Procesing record 464:morondava\n",
      "Nothing\n",
      "Procesing record 465:andenes\n",
      "Procesing record 466:susanville\n",
      "Nothing\n",
      "Procesing record 467:yacuiba\n",
      "Procesing record 468:bilma\n",
      "Procesing record 469:beira\n",
      "Procesing record 470:yaqui\n",
      "Procesing record 471:aasiaat\n",
      "Procesing record 472:mulanje\n",
      "Procesing record 473:abu dhabi\n",
      "Procesing record 474:nzega\n",
      "Procesing record 475:otradnoye\n",
      "Procesing record 476:vanimo\n",
      "Procesing record 477:araouane\n",
      "Procesing record 478:kalmar\n",
      "Procesing record 479:kangaba\n",
      "Procesing record 480:preobrazheniye\n",
      "Procesing record 481:abu samrah\n",
      "Procesing record 482:tomatlan\n",
      "Procesing record 483:malakal\n",
      "Procesing record 484:namwala\n",
      "Procesing record 485:fuxin\n",
      "Procesing record 486:gourcy\n",
      "Procesing record 487:bageshwar\n",
      "Procesing record 488:barrhead\n",
      "Procesing record 489:snezhnogorsk\n",
      "Procesing record 490:nuuk\n",
      "Procesing record 491:sofiyivka\n",
      "Procesing record 492:jiwani\n",
      "Procesing record 493:ambulu\n",
      "Procesing record 494:sankt johann im pongau\n",
      "Procesing record 495:gabu\n",
      "Procesing record 496:narsaq\n",
      "Procesing record 497:voznesenye\n",
      "Procesing record 498:marawi\n",
      "Procesing record 499:coihaique\n",
      "Procesing record 500:manjacaze\n",
      "Procesing record 501:banda aceh\n",
      "Procesing record 502:kisanga\n",
      "Procesing record 503:orito\n",
      "Procesing record 504:korla\n",
      "Procesing record 505:kanbe\n",
      "Nothing\n",
      "Procesing record 506:caxias\n",
      "Procesing record 507:cape girardeau\n",
      "Procesing record 508:port hedland\n",
      "Procesing record 509:farah\n",
      "Nothing\n",
      "Procesing record 510:alyangula\n",
      "Nothing\n",
      "Procesing record 511:salalah\n",
      "Procesing record 512:kaliganj\n",
      "Procesing record 513:birao\n",
      "Nothing\n",
      "Procesing record 514:luanda\n",
      "Procesing record 515:luocheng\n",
      "Procesing record 516:mercedes\n",
      "Procesing record 517:hami\n",
      "Procesing record 518:elko\n",
      "Procesing record 519:verkhnyaya inta\n",
      "Procesing record 520:margate\n",
      "Procesing record 521:cururupu\n",
      "Procesing record 522:astoria\n",
      "Procesing record 523:malanje\n",
      "Procesing record 524:barbastro\n",
      "Procesing record 525:taveta\n",
      "Procesing record 526:mogadouro\n",
      "Procesing record 527:gat\n",
      "Procesing record 528:auki\n",
      "Procesing record 529:toora-khem\n",
      "Procesing record 530:humberto de campos\n",
      "Procesing record 531:calama\n"
     ]
    },
    {
     "name": "stdout",
     "output_type": "stream",
     "text": [
      "Procesing record 532:havre-saint-pierre\n",
      "Procesing record 533:haikou\n",
      "Procesing record 534:guarapari\n",
      "Procesing record 535:saint-francois\n",
      "Procesing record 536:biak\n",
      "Procesing record 537:assesse\n",
      "Procesing record 538:garowe\n",
      "Procesing record 539:acari\n",
      "Procesing record 540:zhigansk\n",
      "Procesing record 541:leningradskiy\n",
      "Procesing record 542:isla mujeres\n",
      "Procesing record 543:teguldet\n",
      "Procesing record 544:coslada\n",
      "Procesing record 545:rayadrug\n",
      "Procesing record 546:seymchan\n",
      "Procesing record 547:gornopravdinsk\n",
      "Procesing record 548:petropavlovsk-kamchatskiy\n",
      "Procesing record 549:keffi\n",
      "Procesing record 550:naze\n",
      "Procesing record 551:enumclaw\n",
      "Procesing record 552:tahe\n",
      "Procesing record 553:charleston\n",
      "Procesing record 554:the valley\n",
      "Procesing record 555:brumunddal\n",
      "Procesing record 556:hervey bay\n",
      "Procesing record 557:sebezh\n",
      "Procesing record 558:vanavara\n",
      "Procesing record 559:eirunepe\n",
      "Procesing record 560:acapulco\n",
      "Procesing record 561:yorosso\n",
      "Procesing record 562:batagay\n"
     ]
    }
   ],
   "source": [
    "temp=[]\n",
    "lat=[]\n",
    "hum=[]\n",
    "cloud=[]\n",
    "wind=[]\n",
    "max_temp=[]\n",
    "print(f\"Begining Data retrieval\")\n",
    "for city in cities:\n",
    "    response_r=requests.get(query_url+city+\"&units=imperial\")\n",
    "    response=response_r.json()\n",
    "    try:\n",
    "        temp.append(response['main']['temp'])\n",
    "        lat.append(response['coord']['lat'])\n",
    "        hum.append(response['main']['humidity'])\n",
    "        cloud.append(response['clouds']['all'])\n",
    "        wind.append(response['wind']['speed'])\n",
    "        max_temp.append(response['main']['temp_max'])\n",
    "        print(f\"Procesing record {len(temp)}:{city}\")\n",
    "    except:\n",
    "        print('Nothing')\n",
    "        pass\n",
    "    \n"
   ]
  },
  {
   "cell_type": "code",
   "execution_count": null,
   "metadata": {},
   "outputs": [],
   "source": []
  },
  {
   "cell_type": "markdown",
   "metadata": {},
   "source": [
    "### Perform API Calls\n",
    "* Perform a weather check on each city using a series of successive API calls.\n",
    "* Include a print log of each city as it'sbeing processed (with the city number and city name).\n"
   ]
  },
  {
   "cell_type": "code",
   "execution_count": null,
   "metadata": {},
   "outputs": [],
   "source": []
  },
  {
   "cell_type": "markdown",
   "metadata": {},
   "source": [
    "### Convert Raw Data to DataFrame\n",
    "* Export the city data into a .csv.\n",
    "* Display the DataFrame"
   ]
  },
  {
   "cell_type": "code",
   "execution_count": 118,
   "metadata": {},
   "outputs": [
    {
     "data": {
      "text/html": [
       "<div>\n",
       "<style scoped>\n",
       "    .dataframe tbody tr th:only-of-type {\n",
       "        vertical-align: middle;\n",
       "    }\n",
       "\n",
       "    .dataframe tbody tr th {\n",
       "        vertical-align: top;\n",
       "    }\n",
       "\n",
       "    .dataframe thead th {\n",
       "        text-align: right;\n",
       "    }\n",
       "</style>\n",
       "<table border=\"1\" class=\"dataframe\">\n",
       "  <thead>\n",
       "    <tr style=\"text-align: right;\">\n",
       "      <th></th>\n",
       "      <th>City</th>\n",
       "      <th>Latitude</th>\n",
       "      <th>Temp</th>\n",
       "      <th>Max Temp</th>\n",
       "      <th>Cloudiness</th>\n",
       "      <th>Humidity</th>\n",
       "      <th>Wind</th>\n",
       "    </tr>\n",
       "  </thead>\n",
       "  <tbody>\n",
       "    <tr>\n",
       "      <td>0</td>\n",
       "      <td>upernavik</td>\n",
       "      <td>72.79</td>\n",
       "      <td>0.57</td>\n",
       "      <td>0.57</td>\n",
       "      <td>100.0</td>\n",
       "      <td>94.0</td>\n",
       "      <td>7.96</td>\n",
       "    </tr>\n",
       "    <tr>\n",
       "      <td>1</td>\n",
       "      <td>carnarvon</td>\n",
       "      <td>-24.87</td>\n",
       "      <td>73.40</td>\n",
       "      <td>73.40</td>\n",
       "      <td>0.0</td>\n",
       "      <td>78.0</td>\n",
       "      <td>21.92</td>\n",
       "    </tr>\n",
       "    <tr>\n",
       "      <td>2</td>\n",
       "      <td>bethel</td>\n",
       "      <td>41.37</td>\n",
       "      <td>31.62</td>\n",
       "      <td>35.01</td>\n",
       "      <td>1.0</td>\n",
       "      <td>39.0</td>\n",
       "      <td>5.82</td>\n",
       "    </tr>\n",
       "    <tr>\n",
       "      <td>3</td>\n",
       "      <td>aripuana</td>\n",
       "      <td>-9.17</td>\n",
       "      <td>86.22</td>\n",
       "      <td>86.22</td>\n",
       "      <td>99.0</td>\n",
       "      <td>78.0</td>\n",
       "      <td>4.81</td>\n",
       "    </tr>\n",
       "    <tr>\n",
       "      <td>4</td>\n",
       "      <td>hobyo</td>\n",
       "      <td>5.35</td>\n",
       "      <td>78.73</td>\n",
       "      <td>78.73</td>\n",
       "      <td>16.0</td>\n",
       "      <td>74.0</td>\n",
       "      <td>19.30</td>\n",
       "    </tr>\n",
       "    <tr>\n",
       "      <td>...</td>\n",
       "      <td>...</td>\n",
       "      <td>...</td>\n",
       "      <td>...</td>\n",
       "      <td>...</td>\n",
       "      <td>...</td>\n",
       "      <td>...</td>\n",
       "      <td>...</td>\n",
       "    </tr>\n",
       "    <tr>\n",
       "      <td>557</td>\n",
       "      <td>orito</td>\n",
       "      <td>60.34</td>\n",
       "      <td>-19.39</td>\n",
       "      <td>-19.39</td>\n",
       "      <td>47.0</td>\n",
       "      <td>97.0</td>\n",
       "      <td>5.75</td>\n",
       "    </tr>\n",
       "    <tr>\n",
       "      <td>558</td>\n",
       "      <td>korla</td>\n",
       "      <td>-6.66</td>\n",
       "      <td>93.54</td>\n",
       "      <td>93.54</td>\n",
       "      <td>35.0</td>\n",
       "      <td>45.0</td>\n",
       "      <td>4.76</td>\n",
       "    </tr>\n",
       "    <tr>\n",
       "      <td>559</td>\n",
       "      <td>kanbe</td>\n",
       "      <td>16.86</td>\n",
       "      <td>82.40</td>\n",
       "      <td>82.40</td>\n",
       "      <td>5.0</td>\n",
       "      <td>69.0</td>\n",
       "      <td>6.93</td>\n",
       "    </tr>\n",
       "    <tr>\n",
       "      <td>560</td>\n",
       "      <td>tubruq</td>\n",
       "      <td>12.35</td>\n",
       "      <td>92.41</td>\n",
       "      <td>92.41</td>\n",
       "      <td>78.0</td>\n",
       "      <td>17.0</td>\n",
       "      <td>6.49</td>\n",
       "    </tr>\n",
       "    <tr>\n",
       "      <td>561</td>\n",
       "      <td>caxias</td>\n",
       "      <td>67.63</td>\n",
       "      <td>-24.95</td>\n",
       "      <td>-24.95</td>\n",
       "      <td>100.0</td>\n",
       "      <td>96.0</td>\n",
       "      <td>2.17</td>\n",
       "    </tr>\n",
       "  </tbody>\n",
       "</table>\n",
       "<p>562 rows × 7 columns</p>\n",
       "</div>"
      ],
      "text/plain": [
       "          City  Latitude   Temp  Max Temp  Cloudiness  Humidity   Wind\n",
       "0    upernavik     72.79   0.57      0.57       100.0      94.0   7.96\n",
       "1    carnarvon    -24.87  73.40     73.40         0.0      78.0  21.92\n",
       "2       bethel     41.37  31.62     35.01         1.0      39.0   5.82\n",
       "3     aripuana     -9.17  86.22     86.22        99.0      78.0   4.81\n",
       "4        hobyo      5.35  78.73     78.73        16.0      74.0  19.30\n",
       "..         ...       ...    ...       ...         ...       ...    ...\n",
       "557      orito     60.34 -19.39    -19.39        47.0      97.0   5.75\n",
       "558      korla     -6.66  93.54     93.54        35.0      45.0   4.76\n",
       "559      kanbe     16.86  82.40     82.40         5.0      69.0   6.93\n",
       "560     tubruq     12.35  92.41     92.41        78.0      17.0   6.49\n",
       "561     caxias     67.63 -24.95    -24.95       100.0      96.0   2.17\n",
       "\n",
       "[562 rows x 7 columns]"
      ]
     },
     "execution_count": 118,
     "metadata": {},
     "output_type": "execute_result"
    }
   ],
   "source": [
    "city_dict={\"City\":cities,\n",
    "         \"Latitude\":lat,\n",
    "         \"Temp\":temp,\n",
    "         \"Max Temp\":max_temp,\n",
    "         \"Cloudiness\":cloud,\n",
    "         \"Humidity\":hum,\n",
    "         \"Wind\":wind }\n",
    "            \n",
    "        \n",
    "city_temp=pd.concat([pd.Series(v,name=k) for k,v in city_dict.items()],axis=1)\n",
    "city_temp=city_temp.dropna()\n",
    "city_temp"
   ]
  },
  {
   "cell_type": "code",
   "execution_count": 119,
   "metadata": {},
   "outputs": [],
   "source": [
    "city_temp.to_csv('ouput_data_file')"
   ]
  },
  {
   "cell_type": "markdown",
   "metadata": {},
   "source": [
    "### Plotting the Data\n",
    "* Use proper labeling of the plots using plot titles (including date of analysis) and axes labels.\n",
    "* Save the plotted figures as .pngs."
   ]
  },
  {
   "cell_type": "markdown",
   "metadata": {},
   "source": [
    "#### Latitude vs. Temperature Plot"
   ]
  },
  {
   "cell_type": "code",
   "execution_count": 144,
   "metadata": {
    "scrolled": true
   },
   "outputs": [
    {
     "data": {
      "text/plain": [
       "Text(0.5, 1.0, 'Latitude vs. Temperature Plot')"
      ]
     },
     "execution_count": 144,
     "metadata": {},
     "output_type": "execute_result"
    },
    {
     "data": {
      "image/png": "[encoded data removed]",
      "text/plain": [
       "<Figure size 432x288 with 1 Axes>"
      ]
     },
     "metadata": {
      "needs_background": "light"
     },
     "output_type": "display_data"
    }
   ],
   "source": [
    "plt.scatter(lat,temp)\n",
    "plt.xlabel('Latitude')\n",
    "plt.ylabel('Temperature')\n",
    "plt.title('Latitude vs. Temperature Plot')"
   ]
  },
  {
   "cell_type": "markdown",
   "metadata": {},
   "source": [
    "#### Latitude vs. Humidity Plot"
   ]
  },
  {
   "cell_type": "code",
   "execution_count": 121,
   "metadata": {},
   "outputs": [
    {
     "data": {
      "text/plain": [
       "Text(0, 0.5, 'Humidity')"
      ]
     },
     "execution_count": 121,
     "metadata": {},
     "output_type": "execute_result"
    },
    {
     "data": {
      "image/png": "[encoded data removed]",
      "text/plain": [
       "<Figure size 432x288 with 1 Axes>"
      ]
     },
     "metadata": {
      "needs_background": "light"
     },
     "output_type": "display_data"
    }
   ],
   "source": [
    "plt.scatter(lat,hum)\n",
    "plt.xlabel('Latitude')\n",
    "plt.ylabel('Humidity')\n",
    "plt.title('Latitude vs. Humidity Plot')"
   ]
  },
  {
   "cell_type": "markdown",
   "metadata": {},
   "source": [
    "#### Latitude vs. Cloudiness Plot"
   ]
  },
  {
   "cell_type": "code",
   "execution_count": 122,
   "metadata": {},
   "outputs": [
    {
     "data": {
      "text/plain": [
       "Text(0, 0.5, 'Cloudiness')"
      ]
     },
     "execution_count": 122,
     "metadata": {},
     "output_type": "execute_result"
    },
    {
     "data": {
      "image/png": "[encoded data removed]",
      "text/plain": [
       "<Figure size 432x288 with 1 Axes>"
      ]
     },
     "metadata": {
      "needs_background": "light"
     },
     "output_type": "display_data"
    }
   ],
   "source": [
    "plt.scatter(lat,cloud)\n",
    "plt.xlabel('Latitude')\n",
    "plt.ylabel('Cloudiness')\n",
    "plt.title('Latitude vs. Cloudiness Plot')"
   ]
  },
  {
   "cell_type": "markdown",
   "metadata": {},
   "source": [
    "#### Latitude vs. Wind Speed Plot"
   ]
  },
  {
   "cell_type": "code",
   "execution_count": 145,
   "metadata": {},
   "outputs": [
    {
     "data": {
      "text/plain": [
       "Text(0.5, 1.0, 'Latitude vs. Wind Speed')"
      ]
     },
     "execution_count": 145,
     "metadata": {},
     "output_type": "execute_result"
    },
    {
     "data": {
      "image/png": "[encoded data removed]",
      "text/plain": [
       "<Figure size 432x288 with 1 Axes>"
      ]
     },
     "metadata": {
      "needs_background": "light"
     },
     "output_type": "display_data"
    }
   ],
   "source": [
    "plt.scatter(lat,wind)\n",
    "plt.xlabel('Latitude')\n",
    "plt.ylabel('Wind Speed')\n",
    "plt.title('Latitude vs. Wind Speed')"
   ]
  },
  {
   "cell_type": "markdown",
   "metadata": {},
   "source": [
    "## Linear Regression"
   ]
  },
  {
   "cell_type": "code",
   "execution_count": 124,
   "metadata": {},
   "outputs": [],
   "source": [
    "# OPTIONAL: Create a function to create Linear Regression plots\n"
   ]
  },
  {
   "cell_type": "code",
   "execution_count": 125,
   "metadata": {},
   "outputs": [],
   "source": [
    "# Create Northern and Southern Hemisphere DataFrames\n",
    "city_north=city_temp[city_temp['Latitude']>=0]"
   ]
  },
  {
   "cell_type": "markdown",
   "metadata": {},
   "source": [
    "####  Northern Hemisphere - Max Temp vs. Latitude Linear Regression"
   ]
  },
  {
   "cell_type": "code",
   "execution_count": 127,
   "metadata": {},
   "outputs": [
    {
     "name": "stdout",
     "output_type": "stream",
     "text": [
      "R squard: -0.8696268974204675\n"
     ]
    },
    {
     "data": {
      "image/png": "[encoded data removed]",
      "text/plain": [
       "<Figure size 432x288 with 1 Axes>"
      ]
     },
     "metadata": {
      "needs_background": "light"
     },
     "output_type": "display_data"
    }
   ],
   "source": [
    "x_values = city_north['Latitude'].astype('float')\n",
    "y_values = city_north['Max Temp'].astype('float')\n",
    "\n",
    "# Run linear regression\n",
    "(slope, intercept, rvalue, pvalue, stderr) = linregress(x_values, y_values)\n",
    "regress_values = x_values * slope + intercept\n",
    "line_eq = \"y = \" + str(round(slope,2)) + \"x + \" + str(round(intercept,2))\n",
    "plt.scatter(x_values,y_values)\n",
    "\n",
    "# Plot regression line\n",
    "plt.plot(x_values,regress_values,\"r-\")\n",
    "plt.annotate(line_eq,(10,0),fontsize=15,color=\"red\")\n",
    "\n",
    "# Label plot\n",
    "plt.title('Northern Hemisphere - Max Temp vs. Latitude Linear Regression')\n",
    "plt.xlabel('Latitude')\n",
    "plt.ylabel('Max Temperature')\n",
    "\n",
    "# Print r square value\n",
    "print(f\"R squard: {rvalue}\")\n",
    "\n",
    "# Show plot\n",
    "plt.show()"
   ]
  },
  {
   "cell_type": "markdown",
   "metadata": {},
   "source": [
    "####  Southern Hemisphere - Max Temp vs. Latitude Linear Regression"
   ]
  },
  {
   "cell_type": "code",
   "execution_count": 129,
   "metadata": {},
   "outputs": [
    {
     "name": "stdout",
     "output_type": "stream",
     "text": [
      "R squard: 0.46560056102420605\n"
     ]
    },
    {
     "data": {
      "image/png": "[encoded data removed]",
      "text/plain": [
       "<Figure size 432x288 with 1 Axes>"
      ]
     },
     "metadata": {
      "needs_background": "light"
     },
     "output_type": "display_data"
    }
   ],
   "source": [
    "city_south=city_temp[city_temp['Latitude']<0]\n",
    "x_values = city_south['Latitude'].astype('float')\n",
    "y_values = city_south['Max Temp'].astype('float')\n",
    "\n",
    "# Run linear regression\n",
    "(slope, intercept, rvalue, pvalue, stderr) = linregress(x_values, y_values)\n",
    "regress_values = x_values * slope + intercept\n",
    "line_eq = \"y = \" + str(round(slope,2)) + \"x + \" + str(round(intercept,2))\n",
    "plt.scatter(x_values,y_values)\n",
    "\n",
    "# Plot regression line\n",
    "plt.plot(x_values,regress_values,\"r-\")\n",
    "plt.annotate(line_eq,(-50,90),fontsize=15,color=\"red\")\n",
    "\n",
    "# Label plot\n",
    "plt.title('Southern Hemisphere - Max Temp vs. Latitude Linear Regression')\n",
    "plt.xlabel('Latitude')\n",
    "plt.ylabel('Max Temperature')\n",
    "\n",
    "# Print r square value\n",
    "print(f\"R squard: {rvalue}\")\n",
    "\n",
    "# Show plot\n",
    "plt.show()"
   ]
  },
  {
   "cell_type": "markdown",
   "metadata": {},
   "source": [
    "####  Northern Hemisphere - Humidity (%) vs. Latitude Linear Regression"
   ]
  },
  {
   "cell_type": "code",
   "execution_count": 146,
   "metadata": {},
   "outputs": [
    {
     "name": "stdout",
     "output_type": "stream",
     "text": [
      "R squard: 0.4497039092428591\n"
     ]
    },
    {
     "data": {
      "image/png": "[encoded data removed]",
      "text/plain": [
       "<Figure size 432x288 with 1 Axes>"
      ]
     },
     "metadata": {
      "needs_background": "light"
     },
     "output_type": "display_data"
    }
   ],
   "source": [
    "x_values = city_north['Latitude'].astype('float')\n",
    "y_values = city_north['Humidity'].astype('float')\n",
    "\n",
    "# Run linear regression\n",
    "(slope, intercept, rvalue, pvalue, stderr) = linregress(x_values, y_values)\n",
    "regress_values = x_values * slope + intercept\n",
    "line_eq = \"y = \" + str(round(slope,2)) + \"x + \" + str(round(intercept,2))\n",
    "plt.scatter(x_values,y_values)\n",
    "\n",
    "# Plot regression line\n",
    "plt.plot(x_values,regress_values,\"r-\")\n",
    "plt.annotate(line_eq,(40,20),fontsize=15,color=\"red\")\n",
    "\n",
    "# Label plot\n",
    "plt.title('Northern Hemisphere - Humidity vs. Latitude Linear Regression')\n",
    "plt.xlabel('Latitude')\n",
    "plt.ylabel('Humidity')\n",
    "\n",
    "# Print r square value\n",
    "print(f\"R squard: {rvalue}\")\n",
    "\n",
    "# Show plot\n",
    "plt.show()"
   ]
  },
  {
   "cell_type": "markdown",
   "metadata": {},
   "source": [
    "####  Southern Hemisphere - Humidity (%) vs. Latitude Linear Regression"
   ]
  },
  {
   "cell_type": "code",
   "execution_count": 147,
   "metadata": {},
   "outputs": [
    {
     "name": "stdout",
     "output_type": "stream",
     "text": [
      "R squard: 0.13748595145952422\n"
     ]
    },
    {
     "data": {
      "image/png": "[encoded data removed]",
      "text/plain": [
       "<Figure size 432x288 with 1 Axes>"
      ]
     },
     "metadata": {
      "needs_background": "light"
     },
     "output_type": "display_data"
    }
   ],
   "source": [
    "x_values = city_south['Latitude'].astype('float')\n",
    "y_values = city_south['Humidity'].astype('float')\n",
    "\n",
    "# Run linear regression\n",
    "(slope, intercept, rvalue, pvalue, stderr) = linregress(x_values, y_values)\n",
    "regress_values = x_values * slope + intercept\n",
    "line_eq = \"y = \" + str(round(slope,2)) + \"x + \" + str(round(intercept,2))\n",
    "plt.scatter(x_values,y_values)\n",
    "\n",
    "# Plot regression line\n",
    "plt.plot(x_values,regress_values,\"r-\")\n",
    "plt.annotate(line_eq,(-20,20),fontsize=15,color=\"red\")\n",
    "\n",
    "# Label plot\n",
    "plt.title('Southern Hemisphere - Humidity vs. Latitude Linear Regression')\n",
    "plt.xlabel('Latitude')\n",
    "plt.ylabel('Humidity')\n",
    "\n",
    "# Print r square value\n",
    "print(f\"R squard: {rvalue}\")\n",
    "\n",
    "# Show plot\n",
    "plt.show()"
   ]
  },
  {
   "cell_type": "markdown",
   "metadata": {},
   "source": [
    "####  Northern Hemisphere - Cloudiness (%) vs. Latitude Linear Regression"
   ]
  },
  {
   "cell_type": "code",
   "execution_count": 148,
   "metadata": {},
   "outputs": [
    {
     "name": "stdout",
     "output_type": "stream",
     "text": [
      "R squard: 0.30270494991864766\n"
     ]
    },
    {
     "data": {
      "image/png": "[encoded data removed]",
      "text/plain": [
       "<Figure size 432x288 with 1 Axes>"
      ]
     },
     "metadata": {
      "needs_background": "light"
     },
     "output_type": "display_data"
    }
   ],
   "source": [
    "x_values = city_north['Latitude'].astype('float')\n",
    "y_values = city_north['Cloudiness'].astype('float')\n",
    "\n",
    "# Run linear regression\n",
    "(slope, intercept, rvalue, pvalue, stderr) = linregress(x_values, y_values)\n",
    "regress_values = x_values * slope + intercept\n",
    "line_eq = \"y = \" + str(round(slope,2)) + \"x + \" + str(round(intercept,2))\n",
    "plt.scatter(x_values,y_values)\n",
    "\n",
    "# Plot regression line\n",
    "plt.plot(x_values,regress_values,\"r-\")\n",
    "plt.annotate(line_eq,(40,20),fontsize=15,color=\"red\")\n",
    "\n",
    "# Label plot\n",
    "plt.title('Northern Hemisphere - Cloudiness vs. Latitude Linear Regression')\n",
    "plt.xlabel('Latitude')\n",
    "plt.ylabel('Cloudiness(%)')\n",
    "\n",
    "# Print r square value\n",
    "print(f\"R squard: {rvalue}\")\n",
    "\n",
    "# Show plot\n",
    "plt.show()"
   ]
  },
  {
   "cell_type": "markdown",
   "metadata": {},
   "source": [
    "####  Southern Hemisphere - Cloudiness (%) vs. Latitude Linear Regression"
   ]
  },
  {
   "cell_type": "code",
   "execution_count": 143,
   "metadata": {},
   "outputs": [
    {
     "name": "stdout",
     "output_type": "stream",
     "text": [
      "R squard: 0.27207963599905727\n"
     ]
    },
    {
     "data": {
      "image/png": "[encoded data removed]",
      "text/plain": [
       "<Figure size 432x288 with 1 Axes>"
      ]
     },
     "metadata": {
      "needs_background": "light"
     },
     "output_type": "display_data"
    }
   ],
   "source": [
    "x_values = city_south['Latitude'].astype('float')\n",
    "y_values = city_south['Cloudiness'].astype('float')\n",
    "\n",
    "# Run linear regression\n",
    "(slope, intercept, rvalue, pvalue, stderr) = linregress(x_values, y_values)\n",
    "regress_values = x_values * slope + intercept\n",
    "line_eq = \"y = \" + str(round(slope,2)) + \"x + \" + str(round(intercept,2))\n",
    "plt.scatter(x_values,y_values)\n",
    "\n",
    "# Plot regression line\n",
    "plt.plot(x_values,regress_values,\"r-\")\n",
    "plt.annotate(line_eq,(-50,100),fontsize=15,color=\"red\")\n",
    "\n",
    "# Label plot\n",
    "plt.title('Southern Hemisphere - Cloudiness (%) vs. Latitude Linear Regression')\n",
    "plt.xlabel('Latitude')\n",
    "plt.ylabel('Cloudiness(%)')\n",
    "\n",
    "# Print r square value\n",
    "print(f\"R squard: {rvalue}\")\n",
    "\n",
    "# Show plot\n",
    "plt.show()"
   ]
  },
  {
   "cell_type": "markdown",
   "metadata": {},
   "source": [
    "####  Northern Hemisphere - Wind Speed (mph) vs. Latitude Linear Regression"
   ]
  },
  {
   "cell_type": "code",
   "execution_count": 149,
   "metadata": {},
   "outputs": [
    {
     "name": "stdout",
     "output_type": "stream",
     "text": [
      "R squard: 0.1636385460929408\n"
     ]
    },
    {
     "data": {
      "image/png": "[encoded data removed]",
      "text/plain": [
       "<Figure size 432x288 with 1 Axes>"
      ]
     },
     "metadata": {
      "needs_background": "light"
     },
     "output_type": "display_data"
    }
   ],
   "source": [
    "x_values = city_north['Latitude'].astype('float')\n",
    "y_values = city_north['Wind'].astype('float')\n",
    "\n",
    "# Run linear regression\n",
    "(slope, intercept, rvalue, pvalue, stderr) = linregress(x_values, y_values)\n",
    "regress_values = x_values * slope + intercept\n",
    "line_eq = \"y = \" + str(round(slope,2)) + \"x + \" + str(round(intercept,2))\n",
    "plt.scatter(x_values,y_values)\n",
    "\n",
    "# Plot regression line\n",
    "plt.plot(x_values,regress_values,\"r-\")\n",
    "plt.annotate(line_eq,(20,40),fontsize=15,color=\"red\")\n",
    "\n",
    "# Label plot\n",
    "plt.title('Northern Hemisphere - Wind Speed vs. Latitude Linear Regression')\n",
    "plt.xlabel('Latitude')\n",
    "plt.ylabel('Wind Speed (mph)')\n",
    "\n",
    "# Print r square value\n",
    "print(f\"R squard: {rvalue}\")\n",
    "\n",
    "# Show plot\n",
    "plt.show()"
   ]
  },
  {
   "cell_type": "markdown",
   "metadata": {},
   "source": [
    "####  Southern Hemisphere - Wind Speed (mph) vs. Latitude Linear Regression"
   ]
  },
  {
   "cell_type": "code",
   "execution_count": 150,
   "metadata": {},
   "outputs": [
    {
     "name": "stdout",
     "output_type": "stream",
     "text": [
      "R squard: -0.23723352646000095\n"
     ]
    },
    {
     "data": {
      "image/png": "[encoded data removed]",
      "text/plain": [
       "<Figure size 432x288 with 1 Axes>"
      ]
     },
     "metadata": {
      "needs_background": "light"
     },
     "output_type": "display_data"
    }
   ],
   "source": [
    "x_values = city_south['Latitude'].astype('float')\n",
    "y_values = city_south['Wind'].astype('float')\n",
    "\n",
    "# Run linear regression\n",
    "(slope, intercept, rvalue, pvalue, stderr) = linregress(x_values, y_values)\n",
    "regress_values = x_values * slope + intercept\n",
    "line_eq = \"y = \" + str(round(slope,2)) + \"x + \" + str(round(intercept,2))\n",
    "plt.scatter(x_values,y_values)\n",
    "\n",
    "# Plot regression line\n",
    "plt.plot(x_values,regress_values,\"r-\")\n",
    "plt.annotate(line_eq,(-50,20),fontsize=15,color=\"red\")\n",
    "\n",
    "# Label plot\n",
    "plt.title('Southern Hemisphere - Wind Speed vs. Latitude Linear Regression')\n",
    "plt.xlabel('Latitude')\n",
    "plt.ylabel('Wind Speed (mph)')\n",
    "\n",
    "# Print r square value\n",
    "print(f\"R squard: {rvalue}\")\n",
    "\n",
    "# Show plot\n",
    "plt.show()"
   ]
  },
  {
   "cell_type": "code",
   "execution_count": null,
   "metadata": {},
   "outputs": [],
   "source": []
  }
 ],
 "metadata": {
  "anaconda-cloud": {},
  "kernel_info": {
   "name": "python3"
  },
  "kernelspec": {
   "display_name": "Python 3",
   "language": "python",
   "name": "python3"
  },
  "language_info": {
   "codemirror_mode": {
    "name": "ipython",
    "version": 3
   },
   "file_extension": ".py",
   "mimetype": "text/x-python",
   "name": "python",
   "nbconvert_exporter": "python",
   "pygments_lexer": "ipython3",
   "version": "3.7.4"
  },
  "latex_envs": {
   "LaTeX_envs_menu_present": true,
   "autoclose": false,
   "autocomplete": true,
   "bibliofile": "biblio.bib",
   "cite_by": "apalike",
   "current_citInitial": 1,
   "eqLabelWithNumbers": true,
   "eqNumInitial": 1,
   "hotkeys": {
    "equation": "Ctrl-E",
    "itemize": "Ctrl-I"
   },
   "labels_anchors": false,
   "latex_user_defs": false,
   "report_style_numbering": false,
   "user_envs_cfg": false
  },
  "nteract": {
   "version": "0.12.3"
  }
 },
 "nbformat": 4,
 "nbformat_minor": 2
}
