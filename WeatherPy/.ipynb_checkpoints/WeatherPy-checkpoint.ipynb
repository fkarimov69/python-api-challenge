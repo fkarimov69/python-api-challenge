{
 "cells": [
  {
   "cell_type": "markdown",
   "metadata": {},
   "source": [
    "# WeatherPy\n",
    "----\n",
    "\n",
    "#### Note\n",
    "* Instructions have been included for each segment. You do not have to follow them exactly, but they are included to help you think through the steps."
   ]
  },
  {
   "cell_type": "code",
   "execution_count": 35,
   "metadata": {
    "scrolled": true
   },
   "outputs": [],
   "source": [
    "# Dependencies and Setup\n",
    "import matplotlib.pyplot as plt\n",
    "import pandas as pd\n",
    "import numpy as np\n",
    "import requests\n",
    "import json\n",
    "import time\n",
    "from scipy.stats import linregress\n",
    "from citipy import citipy\n",
    "# Import API key\n",
    "#from api_keys import weather_api_key\n",
    "from config import api_key\n",
    "# Incorporated citipy to determine city based on latitude and longitude\n",
    "\n",
    "\n",
    "# Output File (CSV)\n",
    "output_data_file = \"output_data/cities.csv\"\n",
    "\n",
    "# Range of latitudes and longitudes\n",
    "lat_range = (-90, 90)\n",
    "lng_range = (-180, 180)"
   ]
  },
  {
   "cell_type": "markdown",
   "metadata": {},
   "source": [
    "## Generate Cities List"
   ]
  },
  {
   "cell_type": "code",
   "execution_count": 30,
   "metadata": {},
   "outputs": [
    {
     "data": {
      "text/plain": [
       "604"
      ]
     },
     "execution_count": 30,
     "metadata": {},
     "output_type": "execute_result"
    }
   ],
   "source": [
    "# List for holding lat_lngs and cities\n",
    "lat_lngs = []\n",
    "cities = []\n",
    "# Create a set of random lat and lng combinations\n",
    "lats = np.random.uniform(low=-90.000, high=90.000, size=1500)\n",
    "lngs = np.random.uniform(low=-180.000, high=180.000, size=1500)\n",
    "lat_lngs = zip(lats, lngs)\n",
    "\n",
    "# Identify nearest city for each lat, lng combination\n",
    "for lat_lng in lat_lngs:\n",
    "    city = citipy.nearest_city(lat_lng[0], lat_lng[1]).city_name\n",
    "    \n",
    "    # If the city is unique, then add it to a our cities list\n",
    "    if city not in cities:\n",
    "        cities.append(city)\n",
    "\n",
    "# Print the city count to confirm sufficient count\n",
    "len(cities)\n"
   ]
  },
  {
   "cell_type": "code",
   "execution_count": 39,
   "metadata": {},
   "outputs": [
    {
     "data": {
      "text/plain": [
       "{'coord': {'lon': 22.35, 'lat': 70.24},\n",
       " 'weather': [{'id': 521,\n",
       "   'main': 'Rain',\n",
       "   'description': 'shower rain',\n",
       "   'icon': '09n'}],\n",
       " 'base': 'stations',\n",
       " 'main': {'temp': 27.23,\n",
       "  'feels_like': 12.2,\n",
       "  'temp_min': 24.8,\n",
       "  'temp_max': 28.4,\n",
       "  'pressure': 1010,\n",
       "  'humidity': 63},\n",
       " 'visibility': 10000,\n",
       " 'wind': {'speed': 17.22, 'deg': 340},\n",
       " 'clouds': {'all': 75},\n",
       " 'dt': 1579717221,\n",
       " 'sys': {'type': 1,\n",
       "  'id': 1634,\n",
       "  'country': 'NO',\n",
       "  'sunrise': 1579685672,\n",
       "  'sunset': 1579693746},\n",
       " 'timezone': 3600,\n",
       " 'id': 778362,\n",
       " 'name': 'Oksfjord',\n",
       " 'cod': 200}"
      ]
     },
     "execution_count": 39,
     "metadata": {},
     "output_type": "execute_result"
    }
   ],
   "source": [
    "url=\"http://api.openweathermap.org/data/2.5/weather?\"\n",
    "\n",
    "query_url=f\"{url}appid={api_key}&q=\"\n",
    "#response=requests.get(query_url+city+\"&units=imperial\").json()\n",
    "response"
   ]
  },
  {
   "cell_type": "code",
   "execution_count": 43,
   "metadata": {},
   "outputs": [
    {
     "name": "stdout",
     "output_type": "stream",
     "text": [
      "Begining Data retrieval\n",
      "Procesing record 1:luanda\n",
      "Procesing record 2:leiyang\n",
      "Procesing record 3:yellowknife\n",
      "Procesing record 4:hermanus\n",
      "Procesing record 5:kharan\n",
      "Procesing record 6:quimper\n",
      "Procesing record 7:rikitea\n",
      "Procesing record 8:constitucion\n",
      "Procesing record 9:ushuaia\n",
      "Procesing record 10:bonavista\n",
      "Procesing record 11:darhan\n",
      "Procesing record 12:san patricio\n",
      "Procesing record 13:busselton\n",
      "Procesing record 14:saint-philippe\n",
      "Procesing record 15:barrow\n",
      "Procesing record 16:atuona\n",
      "Procesing record 17:port alfred\n",
      "Procesing record 18:cape town\n",
      "Nothing\n",
      "Procesing record 19:norman wells\n",
      "Procesing record 20:mpika\n",
      "Procesing record 21:erzin\n",
      "Procesing record 22:jamestown\n",
      "Procesing record 23:ranong\n",
      "Procesing record 24:bikaner\n",
      "Procesing record 25:nuuk\n",
      "Procesing record 26:nikolskoye\n",
      "Procesing record 27:pontianak\n",
      "Procesing record 28:ostrovnoy\n",
      "Procesing record 29:faanui\n",
      "Procesing record 30:punta cardon\n",
      "Nothing\n",
      "Nothing\n",
      "Procesing record 31:tiksi\n",
      "Procesing record 32:tasiilaq\n",
      "Procesing record 33:qaanaaq\n",
      "Procesing record 34:punta arenas\n",
      "Nothing\n",
      "Nothing\n",
      "Procesing record 35:bambous virieux\n",
      "Procesing record 36:castro\n",
      "Procesing record 37:sitka\n",
      "Procesing record 38:port hardy\n",
      "Procesing record 39:kupang\n",
      "Procesing record 40:bredasdorp\n",
      "Procesing record 41:college\n",
      "Procesing record 42:longyearbyen\n",
      "Nothing\n",
      "Procesing record 43:kapaa\n",
      "Nothing\n",
      "Procesing record 44:sao filipe\n",
      "Procesing record 45:klaksvik\n",
      "Procesing record 46:tuktoyaktuk\n",
      "Procesing record 47:hobart\n",
      "Procesing record 48:hilo\n",
      "Procesing record 49:torbay\n",
      "Procesing record 50:polson\n",
      "Procesing record 51:khatanga\n",
      "Procesing record 52:butaritari\n",
      "Procesing record 53:winnemucca\n",
      "Procesing record 54:bengkulu\n",
      "Procesing record 55:kavaratti\n",
      "Procesing record 56:nantucket\n",
      "Procesing record 57:barra patuca\n",
      "Procesing record 58:namatanai\n",
      "Procesing record 59:thompson\n",
      "Procesing record 60:ancud\n",
      "Procesing record 61:los llanos de aridane\n",
      "Procesing record 62:bethanien\n",
      "Procesing record 63:vaini\n",
      "Procesing record 64:saint george\n",
      "Procesing record 65:hithadhoo\n",
      "Procesing record 66:oistins\n",
      "Procesing record 67:jiangyou\n",
      "Procesing record 68:new norfolk\n",
      "Procesing record 69:dunedin\n",
      "Procesing record 70:biak\n",
      "Procesing record 71:ust-kuyga\n",
      "Procesing record 72:nome\n",
      "Procesing record 73:yaan\n",
      "Procesing record 74:bluff\n",
      "Procesing record 75:avarua\n",
      "Procesing record 76:haines junction\n",
      "Procesing record 77:yumen\n",
      "Procesing record 78:whitehorse\n",
      "Procesing record 79:fengcheng\n",
      "Procesing record 80:rio gallegos\n",
      "Procesing record 81:berlevag\n",
      "Procesing record 82:wicklow\n",
      "Procesing record 83:kholm-zhirkovskiy\n",
      "Procesing record 84:bilibino\n",
      "Procesing record 85:donauworth\n",
      "Procesing record 86:kamenka\n",
      "Procesing record 87:kahului\n",
      "Procesing record 88:nanortalik\n",
      "Procesing record 89:luderitz\n",
      "Procesing record 90:cabo san lucas\n",
      "Procesing record 91:rawson\n",
      "Procesing record 92:nioro\n",
      "Procesing record 93:kaitangata\n",
      "Procesing record 94:protivin\n",
      "Procesing record 95:itarema\n",
      "Procesing record 96:airai\n",
      "Procesing record 97:qaqortoq\n",
      "Procesing record 98:tigil\n",
      "Nothing\n",
      "Procesing record 99:cherskiy\n",
      "Procesing record 100:mahebourg\n",
      "Procesing record 101:pisco\n",
      "Procesing record 102:vardo\n",
      "Procesing record 103:arman\n",
      "Procesing record 104:hasaki\n",
      "Procesing record 105:kavieng\n",
      "Procesing record 106:tapejara\n",
      "Procesing record 107:jalu\n",
      "Procesing record 108:talnakh\n",
      "Procesing record 109:matagami\n",
      "Procesing record 110:alindao\n",
      "Procesing record 111:severo-kurilsk\n",
      "Procesing record 112:chaman\n",
      "Procesing record 113:albany\n",
      "Procesing record 114:aberdeen\n",
      "Nothing\n",
      "Procesing record 115:east london\n",
      "Procesing record 116:lebu\n",
      "Procesing record 117:mayor pablo lagerenza\n",
      "Procesing record 118:luwingu\n",
      "Nothing\n",
      "Procesing record 119:chapais\n",
      "Procesing record 120:chokurdakh\n",
      "Procesing record 121:bethel\n",
      "Procesing record 122:mataura\n",
      "Procesing record 123:guasdualito\n",
      "Procesing record 124:sorong\n",
      "Procesing record 125:victoria\n",
      "Procesing record 126:anloga\n",
      "Procesing record 127:hofn\n",
      "Procesing record 128:necochea\n",
      "Procesing record 129:mar del plata\n",
      "Procesing record 130:salalah\n",
      "Procesing record 131:buraydah\n",
      "Procesing record 132:arraial do cabo\n",
      "Procesing record 133:rock falls\n",
      "Procesing record 134:pevek\n",
      "Procesing record 135:cockburn town\n",
      "Procesing record 136:walvis bay\n",
      "Procesing record 137:lorengau\n",
      "Procesing record 138:jatiroto\n",
      "Procesing record 139:zabol\n",
      "Procesing record 140:kerman\n",
      "Nothing\n",
      "Procesing record 141:batagay\n",
      "Procesing record 142:xining\n",
      "Procesing record 143:aykhal\n",
      "Procesing record 144:rundu\n",
      "Procesing record 145:innisfail\n",
      "Procesing record 146:kruisfontein\n",
      "Procesing record 147:georgetown\n",
      "Procesing record 148:aklavik\n",
      "Procesing record 149:lagoa\n",
      "Procesing record 150:teya\n",
      "Procesing record 151:canton\n",
      "Procesing record 152:challapata\n",
      "Procesing record 153:zambezi\n",
      "Procesing record 154:dingle\n",
      "Procesing record 155:cidreira\n",
      "Procesing record 156:tautira\n",
      "Nothing\n",
      "Procesing record 157:khovu-aksy\n",
      "Nothing\n",
      "Procesing record 158:shingu\n",
      "Procesing record 159:sistranda\n",
      "Procesing record 160:ponta do sol\n",
      "Procesing record 161:kuri\n",
      "Procesing record 162:broken hill\n",
      "Procesing record 163:ayan\n",
      "Procesing record 164:turan\n",
      "Procesing record 165:nabire\n",
      "Procesing record 166:maningrida\n",
      "Procesing record 167:kendari\n",
      "Procesing record 168:port elizabeth\n",
      "Nothing\n",
      "Procesing record 169:sawtell\n",
      "Procesing record 170:nykoping\n",
      "Procesing record 171:kenai\n",
      "Procesing record 172:ghanzi\n",
      "Procesing record 173:puerto ayora\n",
      "Procesing record 174:grand gaube\n",
      "Procesing record 175:yamasaki\n",
      "Procesing record 176:newton stewart\n",
      "Nothing\n",
      "Procesing record 177:ponta delgada\n",
      "Procesing record 178:vestmannaeyjar\n",
      "Procesing record 179:sosnovo-ozerskoye\n",
      "Procesing record 180:komsomolskiy\n",
      "Procesing record 181:igarka\n",
      "Procesing record 182:champerico\n",
      "Procesing record 183:kuhdasht\n",
      "Procesing record 184:japura\n",
      "Nothing\n",
      "Procesing record 185:ust-nera\n",
      "Procesing record 186:goderich\n",
      "Procesing record 187:areal\n",
      "Procesing record 188:hamilton\n",
      "Procesing record 189:port macquarie\n",
      "Nothing\n",
      "Procesing record 190:tucuman\n",
      "Procesing record 191:umea\n",
      "Procesing record 192:mount gambier\n",
      "Procesing record 193:peleduy\n",
      "Procesing record 194:araouane\n",
      "Procesing record 195:neyshabur\n",
      "Procesing record 196:bagh\n",
      "Nothing\n",
      "Procesing record 197:phalodi\n",
      "Procesing record 198:yanam\n",
      "Procesing record 199:hengshui\n",
      "Procesing record 200:ribeira grande\n",
      "Procesing record 201:provideniya\n",
      "Procesing record 202:pemangkat\n",
      "Procesing record 203:iqaluit\n",
      "Nothing\n",
      "Procesing record 204:yashkul\n",
      "Nothing\n",
      "Procesing record 205:korla\n",
      "Procesing record 206:erechim\n",
      "Procesing record 207:saskylakh\n",
      "Procesing record 208:indaiatuba\n",
      "Procesing record 209:naples\n",
      "Procesing record 210:herat\n",
      "Procesing record 211:urusha\n",
      "Procesing record 212:xuzhou\n",
      "Procesing record 213:varzea da palma\n",
      "Procesing record 214:nerchinskiy zavod\n",
      "Procesing record 215:behbahan\n",
      "Procesing record 216:vostok\n",
      "Procesing record 217:rosetta\n",
      "Nothing\n",
      "Procesing record 218:hauterive\n",
      "Procesing record 219:khasan\n",
      "Procesing record 220:adrar\n",
      "Procesing record 221:asuncion nochixtlan\n",
      "Procesing record 222:polyarnyy\n",
      "Procesing record 223:yulara\n",
      "Procesing record 224:kodiak\n",
      "Procesing record 225:upernavik\n",
      "Procesing record 226:gannan\n",
      "Procesing record 227:ishinomaki\n",
      "Procesing record 228:arlit\n",
      "Procesing record 229:ahuimanu\n",
      "Nothing\n",
      "Procesing record 230:bonthe\n",
      "Procesing record 231:ironton\n",
      "Procesing record 232:watsa\n",
      "Procesing record 233:ilulissat\n",
      "Procesing record 234:bud\n",
      "Procesing record 235:abu dhabi\n",
      "Procesing record 236:kandrian\n",
      "Procesing record 237:phultala\n",
      "Procesing record 238:sokolo\n",
      "Procesing record 239:noumea\n",
      "Procesing record 240:bose\n",
      "Procesing record 241:george town\n",
      "Procesing record 242:springfield\n",
      "Procesing record 243:russell\n",
      "Procesing record 244:dauphin\n",
      "Procesing record 245:burgeo\n",
      "Procesing record 246:verkhoyansk\n",
      "Procesing record 247:nuristan\n",
      "Procesing record 248:soligalich\n",
      "Procesing record 249:dikson\n",
      "Nothing\n",
      "Procesing record 250:dillon\n",
      "Procesing record 251:iberia\n",
      "Nothing\n",
      "Procesing record 252:shediac\n",
      "Procesing record 253:saint-louis\n",
      "Procesing record 254:almaznyy\n",
      "Procesing record 255:hirara\n",
      "Procesing record 256:naze\n",
      "Procesing record 257:hurricane\n",
      "Nothing\n",
      "Procesing record 258:tuatapere\n",
      "Procesing record 259:taoudenni\n",
      "Procesing record 260:ambilobe\n",
      "Procesing record 261:marystown\n",
      "Procesing record 262:port lincoln\n",
      "Procesing record 263:bloomingdale\n",
      "Procesing record 264:persianovskiy\n",
      "Procesing record 265:waipawa\n",
      "Procesing record 266:fayaoue\n",
      "Procesing record 267:danjiangkou\n",
      "Procesing record 268:taltal\n",
      "Procesing record 269:katsuura\n"
     ]
    },
    {
     "name": "stdout",
     "output_type": "stream",
     "text": [
      "Procesing record 270:rapid valley\n",
      "Procesing record 271:hualmay\n",
      "Procesing record 272:avera\n",
      "Procesing record 273:labuhan\n",
      "Procesing record 274:fereydun kenar\n",
      "Procesing record 275:fortuna\n",
      "Procesing record 276:beloha\n",
      "Procesing record 277:havelock\n",
      "Procesing record 278:rivera\n",
      "Procesing record 279:sao jose da coroa grande\n",
      "Nothing\n",
      "Procesing record 280:rietavas\n",
      "Procesing record 281:namie\n",
      "Procesing record 282:slidell\n",
      "Procesing record 283:alofi\n",
      "Procesing record 284:sao miguel do araguaia\n",
      "Procesing record 285:belmopan\n",
      "Procesing record 286:veraval\n",
      "Procesing record 287:khorramshahr\n",
      "Procesing record 288:chuy\n",
      "Procesing record 289:kisangani\n",
      "Procesing record 290:cap malheureux\n",
      "Procesing record 291:vao\n",
      "Procesing record 292:tura\n",
      "Nothing\n",
      "Procesing record 293:mtwara\n",
      "Procesing record 294:bathsheba\n",
      "Procesing record 295:apatin\n",
      "Procesing record 296:andenes\n",
      "Procesing record 297:bantry\n",
      "Procesing record 298:zempoala\n",
      "Procesing record 299:vallenar\n",
      "Nothing\n",
      "Procesing record 300:gizo\n",
      "Procesing record 301:paamiut\n",
      "Procesing record 302:north bend\n",
      "Nothing\n",
      "Procesing record 303:manaus\n",
      "Procesing record 304:tilichiki\n",
      "Procesing record 305:namibe\n",
      "Procesing record 306:padang\n",
      "Procesing record 307:oxelosund\n",
      "Procesing record 308:mandalgovi\n",
      "Procesing record 309:antofagasta\n",
      "Procesing record 310:tha chang\n",
      "Procesing record 311:umm lajj\n",
      "Procesing record 312:wanaka\n",
      "Procesing record 313:ugoofaaru\n",
      "Procesing record 314:dosso\n",
      "Procesing record 315:urumqi\n",
      "Procesing record 316:ishigaki\n",
      "Procesing record 317:seymchan\n",
      "Procesing record 318:san vicente\n",
      "Procesing record 319:shelburne\n",
      "Procesing record 320:nouakchott\n",
      "Procesing record 321:rafai\n",
      "Procesing record 322:samarai\n",
      "Procesing record 323:dakar\n",
      "Procesing record 324:puerto santander\n",
      "Procesing record 325:san lorenzo\n",
      "Procesing record 326:jardim\n",
      "Procesing record 327:bunbury\n",
      "Procesing record 328:marawi\n",
      "Procesing record 329:suclayin\n",
      "Procesing record 330:galle\n",
      "Procesing record 331:sobolevo\n",
      "Procesing record 332:kosh-agach\n",
      "Procesing record 333:port hedland\n",
      "Procesing record 334:anadyr\n",
      "Procesing record 335:lethem\n",
      "Procesing record 336:sarkand\n",
      "Procesing record 337:te anau\n",
      "Nothing\n",
      "Procesing record 338:barcelos\n",
      "Procesing record 339:raga\n",
      "Procesing record 340:westport\n",
      "Procesing record 341:pacifica\n",
      "Procesing record 342:north druid hills\n",
      "Nothing\n",
      "Procesing record 343:bireun\n",
      "Procesing record 344:guerrero negro\n",
      "Procesing record 345:lewistown\n",
      "Procesing record 346:troitsko-pechorsk\n",
      "Procesing record 347:bubaque\n",
      "Procesing record 348:meulaboh\n",
      "Procesing record 349:singaparna\n",
      "Procesing record 350:slave lake\n",
      "Procesing record 351:kovdor\n",
      "Procesing record 352:omsukchan\n",
      "Procesing record 353:touros\n",
      "Nothing\n",
      "Procesing record 354:uralets\n",
      "Procesing record 355:shu\n",
      "Nothing\n",
      "Procesing record 356:saquena\n",
      "Procesing record 357:jawhar\n",
      "Procesing record 358:portree\n",
      "Procesing record 359:wetaskiwin\n",
      "Procesing record 360:acapulco\n",
      "Procesing record 361:mocuba\n",
      "Procesing record 362:bontang\n",
      "Procesing record 363:saldanha\n",
      "Procesing record 364:abilene\n",
      "Procesing record 365:mattru\n",
      "Procesing record 366:porto novo\n",
      "Procesing record 367:poum\n",
      "Procesing record 368:vanavara\n",
      "Procesing record 369:qingdao\n",
      "Nothing\n",
      "Procesing record 370:hailar\n",
      "Procesing record 371:newcastleton\n",
      "Procesing record 372:comitancillo\n",
      "Procesing record 373:rzhaksa\n",
      "Procesing record 374:saint-francois\n",
      "Nothing\n",
      "Procesing record 375:doka\n",
      "Procesing record 376:souillac\n",
      "Procesing record 377:pangnirtung\n",
      "Nothing\n",
      "Procesing record 378:barabinsk\n",
      "Procesing record 379:geraldton\n",
      "Procesing record 380:caravelas\n",
      "Procesing record 381:gobabis\n",
      "Procesing record 382:rocha\n",
      "Procesing record 383:fairbanks\n",
      "Procesing record 384:beberibe\n",
      "Procesing record 385:ekibastuz\n",
      "Procesing record 386:damietta\n",
      "Procesing record 387:grindavik\n",
      "Procesing record 388:tromso\n",
      "Procesing record 389:imeni poliny osipenko\n",
      "Procesing record 390:vacaria\n",
      "Procesing record 391:lompoc\n",
      "Procesing record 392:plouzane\n",
      "Procesing record 393:opuwo\n",
      "Nothing\n",
      "Procesing record 394:el fuerte\n",
      "Procesing record 395:kalabo\n",
      "Procesing record 396:bandarbeyla\n",
      "Procesing record 397:bagdarin\n",
      "Procesing record 398:la palma\n",
      "Procesing record 399:mount isa\n",
      "Procesing record 400:kloulklubed\n",
      "Procesing record 401:san quintin\n",
      "Nothing\n",
      "Procesing record 402:hoa binh\n",
      "Procesing record 403:oranjemund\n",
      "Procesing record 404:susangerd\n",
      "Procesing record 405:king city\n",
      "Procesing record 406:zhigansk\n",
      "Procesing record 407:buala\n",
      "Procesing record 408:riberalta\n",
      "Procesing record 409:praia da vitoria\n",
      "Procesing record 410:coihaique\n",
      "Procesing record 411:yeppoon\n",
      "Procesing record 412:saint-augustin\n",
      "Nothing\n",
      "Procesing record 413:gainesville\n",
      "Procesing record 414:deori\n",
      "Procesing record 415:mitu\n",
      "Procesing record 416:davila\n",
      "Procesing record 417:bol\n",
      "Procesing record 418:poopo\n",
      "Procesing record 419:pangkalanbuun\n",
      "Procesing record 420:villa juarez\n",
      "Procesing record 421:san cristobal\n",
      "Procesing record 422:isiro\n",
      "Procesing record 423:bertoua\n",
      "Procesing record 424:kolhapur\n",
      "Procesing record 425:husavik\n",
      "Nothing\n",
      "Procesing record 426:cururupu\n",
      "Procesing record 427:lyuban\n",
      "Procesing record 428:oussouye\n",
      "Procesing record 429:mackenzie\n",
      "Procesing record 430:juba\n",
      "Procesing record 431:vestmanna\n",
      "Procesing record 432:puerto baquerizo moreno\n",
      "Procesing record 433:nizhniy odes\n",
      "Procesing record 434:ulaangom\n",
      "Procesing record 435:isabela\n",
      "Procesing record 436:kudahuvadhoo\n",
      "Procesing record 437:general roca\n",
      "Procesing record 438:saravan\n",
      "Procesing record 439:kirovskiy\n",
      "Procesing record 440:monrovia\n",
      "Procesing record 441:nouadhibou\n",
      "Procesing record 442:paita\n",
      "Procesing record 443:turukhansk\n",
      "Procesing record 444:moss vale\n",
      "Procesing record 445:palmer\n",
      "Procesing record 446:manggar\n",
      "Procesing record 447:charters towers\n",
      "Procesing record 448:cayenne\n",
      "Procesing record 449:codrington\n",
      "Procesing record 450:morant bay\n",
      "Procesing record 451:san luis\n",
      "Procesing record 452:pipar\n",
      "Nothing\n",
      "Procesing record 453:isla vista\n",
      "Procesing record 454:narsaq\n",
      "Procesing record 455:yerofey pavlovich\n",
      "Procesing record 456:leningradskiy\n",
      "Procesing record 457:nanyang\n",
      "Procesing record 458:najran\n",
      "Procesing record 459:misratah\n",
      "Nothing\n",
      "Procesing record 460:usinsk\n",
      "Procesing record 461:torbat-e jam\n",
      "Procesing record 462:faya\n",
      "Procesing record 463:shenzhen\n",
      "Procesing record 464:vila velha\n",
      "Procesing record 465:smithers\n",
      "Procesing record 466:gusinoye ozero\n",
      "Procesing record 467:okhotsk\n",
      "Procesing record 468:ballina\n",
      "Procesing record 469:hovd\n",
      "Nothing\n",
      "Procesing record 470:gualeguay\n",
      "Procesing record 471:kuusamo\n",
      "Procesing record 472:lixourion\n",
      "Procesing record 473:plettenberg bay\n",
      "Procesing record 474:zhuhai\n",
      "Procesing record 475:arkul\n",
      "Procesing record 476:santarem\n",
      "Procesing record 477:narasannapeta\n",
      "Procesing record 478:fernandina beach\n",
      "Procesing record 479:kiunga\n",
      "Procesing record 480:mandal\n",
      "Procesing record 481:mecca\n",
      "Procesing record 482:leh\n",
      "Nothing\n",
      "Procesing record 483:amahai\n",
      "Procesing record 484:puerto rico\n",
      "Procesing record 485:quatre cocos\n",
      "Procesing record 486:tocache\n",
      "Procesing record 487:shimoda\n",
      "Procesing record 488:thinadhoo\n",
      "Procesing record 489:new castle\n",
      "Procesing record 490:mormugao\n",
      "Nothing\n",
      "Procesing record 491:moldava nad bodvou\n",
      "Procesing record 492:victor harbor\n",
      "Procesing record 493:fukue\n",
      "Procesing record 494:carnarvon\n",
      "Procesing record 495:diu\n",
      "Procesing record 496:ondjiva\n",
      "Procesing record 497:barahona\n",
      "Procesing record 498:shache\n",
      "Procesing record 499:warrington\n",
      "Procesing record 500:kattivakkam\n",
      "Procesing record 501:port augusta\n",
      "Procesing record 502:mitsamiouli\n",
      "Procesing record 503:elin pelin\n",
      "Procesing record 504:conde\n",
      "Procesing record 505:laibin\n",
      "Procesing record 506:miyata\n",
      "Procesing record 507:roma\n",
      "Procesing record 508:cangzhou\n",
      "Procesing record 509:aripuana\n",
      "Nothing\n",
      "Procesing record 510:zhezkazgan\n",
      "Procesing record 511:cuamba\n",
      "Nothing\n",
      "Procesing record 512:saint anthony\n",
      "Procesing record 513:aranzazu\n",
      "Procesing record 514:praya\n",
      "Procesing record 515:beringovskiy\n",
      "Procesing record 516:mayo\n",
      "Procesing record 517:bayburt\n",
      "Procesing record 518:boende\n",
      "Procesing record 519:nizwa\n",
      "Procesing record 520:oskarshamn\n",
      "Procesing record 521:ucluelet\n",
      "Procesing record 522:areosa\n",
      "Procesing record 523:gari\n",
      "Procesing record 524:juazeiro\n",
      "Procesing record 525:moree\n",
      "Procesing record 526:saint-pierre\n",
      "Procesing record 527:kuruman\n",
      "Nothing\n",
      "Procesing record 528:nemuro\n",
      "Procesing record 529:alta floresta\n",
      "Procesing record 530:aktau\n",
      "Nothing\n",
      "Procesing record 531:amta\n",
      "Procesing record 532:providencia\n",
      "Procesing record 533:lerwick\n"
     ]
    },
    {
     "name": "stdout",
     "output_type": "stream",
     "text": [
      "Procesing record 534:caba\n",
      "Procesing record 535:chicama\n",
      "Procesing record 536:hit\n",
      "Procesing record 537:saint-georges\n",
      "Procesing record 538:alice springs\n",
      "Procesing record 539:isangel\n",
      "Procesing record 540:gasa\n",
      "Procesing record 541:kingman\n",
      "Procesing record 542:liberal\n",
      "Procesing record 543:irbil\n",
      "Procesing record 544:mareeba\n",
      "Procesing record 545:superior\n",
      "Nothing\n",
      "Procesing record 546:revelstoke\n",
      "Procesing record 547:kalmar\n",
      "Procesing record 548:praia\n",
      "Procesing record 549:elizabeth city\n",
      "Nothing\n",
      "Procesing record 550:chingirlau\n",
      "Procesing record 551:wenling\n",
      "Nothing\n",
      "Procesing record 552:oksfjord\n"
     ]
    }
   ],
   "source": [
    "temp=[]\n",
    "lat=[]\n",
    "lon=[]\n",
    "hum=[]\n",
    "cloud=[]\n",
    "wind=[]\n",
    "max_temp=[]\n",
    "print(f\"Begining Data retrieval\")\n",
    "for city in cities:\n",
    "    response_r=requests.get(query_url+city+\"&units=imperial\")\n",
    "    response=response_r.json()\n",
    "    try:\n",
    "        temp.append(response['main']['temp'])\n",
    "        lat.append(response['coord']['lat'])\n",
    "        lon.append(response['coord']['lon'])\n",
    "        hum.append(response['main']['humidity'])\n",
    "        cloud.append(response['clouds']['all'])\n",
    "        wind.append(response['wind']['speed'])\n",
    "        max_temp.append(response['main']['temp_max'])\n",
    "        print(f\"Procesing record {len(temp)}:{city}\")\n",
    "    except:\n",
    "        print('Nothing')\n",
    "        pass\n",
    "    \n"
   ]
  },
  {
   "cell_type": "code",
   "execution_count": null,
   "metadata": {},
   "outputs": [],
   "source": []
  },
  {
   "cell_type": "markdown",
   "metadata": {},
   "source": [
    "### Perform API Calls\n",
    "* Perform a weather check on each city using a series of successive API calls.\n",
    "* Include a print log of each city as it'sbeing processed (with the city number and city name).\n"
   ]
  },
  {
   "cell_type": "code",
   "execution_count": null,
   "metadata": {},
   "outputs": [],
   "source": []
  },
  {
   "cell_type": "markdown",
   "metadata": {},
   "source": [
    "### Convert Raw Data to DataFrame\n",
    "* Export the city data into a .csv.\n",
    "* Display the DataFrame"
   ]
  },
  {
   "cell_type": "code",
   "execution_count": 44,
   "metadata": {},
   "outputs": [
    {
     "data": {
      "text/html": [
       "<div>\n",
       "<style scoped>\n",
       "    .dataframe tbody tr th:only-of-type {\n",
       "        vertical-align: middle;\n",
       "    }\n",
       "\n",
       "    .dataframe tbody tr th {\n",
       "        vertical-align: top;\n",
       "    }\n",
       "\n",
       "    .dataframe thead th {\n",
       "        text-align: right;\n",
       "    }\n",
       "</style>\n",
       "<table border=\"1\" class=\"dataframe\">\n",
       "  <thead>\n",
       "    <tr style=\"text-align: right;\">\n",
       "      <th></th>\n",
       "      <th>City</th>\n",
       "      <th>Latitude</th>\n",
       "      <th>Longtitude</th>\n",
       "      <th>Temp</th>\n",
       "      <th>Max Temp</th>\n",
       "      <th>Cloudiness</th>\n",
       "      <th>Humidity</th>\n",
       "      <th>Wind</th>\n",
       "    </tr>\n",
       "  </thead>\n",
       "  <tbody>\n",
       "    <tr>\n",
       "      <td>0</td>\n",
       "      <td>luanda</td>\n",
       "      <td>-8.84</td>\n",
       "      <td>13.23</td>\n",
       "      <td>84.20</td>\n",
       "      <td>84.20</td>\n",
       "      <td>75.0</td>\n",
       "      <td>74.0</td>\n",
       "      <td>13.87</td>\n",
       "    </tr>\n",
       "    <tr>\n",
       "      <td>1</td>\n",
       "      <td>leiyang</td>\n",
       "      <td>26.40</td>\n",
       "      <td>112.86</td>\n",
       "      <td>49.14</td>\n",
       "      <td>49.14</td>\n",
       "      <td>95.0</td>\n",
       "      <td>90.0</td>\n",
       "      <td>3.76</td>\n",
       "    </tr>\n",
       "    <tr>\n",
       "      <td>2</td>\n",
       "      <td>yellowknife</td>\n",
       "      <td>62.46</td>\n",
       "      <td>-114.35</td>\n",
       "      <td>-2.74</td>\n",
       "      <td>-2.20</td>\n",
       "      <td>75.0</td>\n",
       "      <td>77.0</td>\n",
       "      <td>16.11</td>\n",
       "    </tr>\n",
       "    <tr>\n",
       "      <td>3</td>\n",
       "      <td>hermanus</td>\n",
       "      <td>-34.42</td>\n",
       "      <td>19.23</td>\n",
       "      <td>67.80</td>\n",
       "      <td>70.00</td>\n",
       "      <td>49.0</td>\n",
       "      <td>80.0</td>\n",
       "      <td>5.99</td>\n",
       "    </tr>\n",
       "    <tr>\n",
       "      <td>4</td>\n",
       "      <td>kharan</td>\n",
       "      <td>28.58</td>\n",
       "      <td>65.42</td>\n",
       "      <td>54.64</td>\n",
       "      <td>54.64</td>\n",
       "      <td>0.0</td>\n",
       "      <td>47.0</td>\n",
       "      <td>8.43</td>\n",
       "    </tr>\n",
       "    <tr>\n",
       "      <td>...</td>\n",
       "      <td>...</td>\n",
       "      <td>...</td>\n",
       "      <td>...</td>\n",
       "      <td>...</td>\n",
       "      <td>...</td>\n",
       "      <td>...</td>\n",
       "      <td>...</td>\n",
       "      <td>...</td>\n",
       "    </tr>\n",
       "    <tr>\n",
       "      <td>547</td>\n",
       "      <td>elin pelin</td>\n",
       "      <td>14.92</td>\n",
       "      <td>-23.51</td>\n",
       "      <td>77.00</td>\n",
       "      <td>77.00</td>\n",
       "      <td>100.0</td>\n",
       "      <td>47.0</td>\n",
       "      <td>13.87</td>\n",
       "    </tr>\n",
       "    <tr>\n",
       "      <td>548</td>\n",
       "      <td>conde</td>\n",
       "      <td>36.29</td>\n",
       "      <td>-76.25</td>\n",
       "      <td>42.04</td>\n",
       "      <td>46.40</td>\n",
       "      <td>1.0</td>\n",
       "      <td>52.0</td>\n",
       "      <td>8.05</td>\n",
       "    </tr>\n",
       "    <tr>\n",
       "      <td>549</td>\n",
       "      <td>laibin</td>\n",
       "      <td>51.09</td>\n",
       "      <td>54.08</td>\n",
       "      <td>31.12</td>\n",
       "      <td>31.12</td>\n",
       "      <td>100.0</td>\n",
       "      <td>92.0</td>\n",
       "      <td>15.17</td>\n",
       "    </tr>\n",
       "    <tr>\n",
       "      <td>550</td>\n",
       "      <td>miyata</td>\n",
       "      <td>28.37</td>\n",
       "      <td>121.36</td>\n",
       "      <td>57.00</td>\n",
       "      <td>57.00</td>\n",
       "      <td>95.0</td>\n",
       "      <td>90.0</td>\n",
       "      <td>7.85</td>\n",
       "    </tr>\n",
       "    <tr>\n",
       "      <td>551</td>\n",
       "      <td>roma</td>\n",
       "      <td>70.24</td>\n",
       "      <td>22.35</td>\n",
       "      <td>27.25</td>\n",
       "      <td>28.40</td>\n",
       "      <td>75.0</td>\n",
       "      <td>63.0</td>\n",
       "      <td>17.22</td>\n",
       "    </tr>\n",
       "  </tbody>\n",
       "</table>\n",
       "<p>552 rows × 8 columns</p>\n",
       "</div>"
      ],
      "text/plain": [
       "            City  Latitude  Longtitude   Temp  Max Temp  Cloudiness  Humidity  \\\n",
       "0         luanda     -8.84       13.23  84.20     84.20        75.0      74.0   \n",
       "1        leiyang     26.40      112.86  49.14     49.14        95.0      90.0   \n",
       "2    yellowknife     62.46     -114.35  -2.74     -2.20        75.0      77.0   \n",
       "3       hermanus    -34.42       19.23  67.80     70.00        49.0      80.0   \n",
       "4         kharan     28.58       65.42  54.64     54.64         0.0      47.0   \n",
       "..           ...       ...         ...    ...       ...         ...       ...   \n",
       "547   elin pelin     14.92      -23.51  77.00     77.00       100.0      47.0   \n",
       "548        conde     36.29      -76.25  42.04     46.40         1.0      52.0   \n",
       "549       laibin     51.09       54.08  31.12     31.12       100.0      92.0   \n",
       "550       miyata     28.37      121.36  57.00     57.00        95.0      90.0   \n",
       "551         roma     70.24       22.35  27.25     28.40        75.0      63.0   \n",
       "\n",
       "      Wind  \n",
       "0    13.87  \n",
       "1     3.76  \n",
       "2    16.11  \n",
       "3     5.99  \n",
       "4     8.43  \n",
       "..     ...  \n",
       "547  13.87  \n",
       "548   8.05  \n",
       "549  15.17  \n",
       "550   7.85  \n",
       "551  17.22  \n",
       "\n",
       "[552 rows x 8 columns]"
      ]
     },
     "execution_count": 44,
     "metadata": {},
     "output_type": "execute_result"
    }
   ],
   "source": [
    "city_dict={\"City\":cities,\n",
    "         \"Latitude\":lat,\n",
    "         \"Longtitude\":lon,\n",
    "         \"Temp\":temp,\n",
    "         \"Max Temp\":max_temp,\n",
    "         \"Cloudiness\":cloud,\n",
    "         \"Humidity\":hum,\n",
    "         \"Wind\":wind }\n",
    "            \n",
    "        \n",
    "city_temp=pd.concat([pd.Series(v,name=k) for k,v in city_dict.items()],axis=1)\n",
    "city_temp=city_temp.dropna()\n",
    "city_temp"
   ]
  },
  {
   "cell_type": "code",
   "execution_count": 45,
   "metadata": {},
   "outputs": [],
   "source": [
    "city_temp.to_csv('cities.csv')"
   ]
  },
  {
   "cell_type": "markdown",
   "metadata": {},
   "source": [
    "### Plotting the Data\n",
    "* Use proper labeling of the plots using plot titles (including date of analysis) and axes labels.\n",
    "* Save the plotted figures as .pngs."
   ]
  },
  {
   "cell_type": "markdown",
   "metadata": {},
   "source": [
    "#### Latitude vs. Temperature Plot"
   ]
  },
  {
   "cell_type": "code",
   "execution_count": 46,
   "metadata": {
    "scrolled": true
   },
   "outputs": [
    {
     "data": {
      "text/plain": [
       "Text(0.5, 1.0, 'Latitude vs. Temperature Plot')"
      ]
     },
     "execution_count": 46,
     "metadata": {},
     "output_type": "execute_result"
    },
    {
     "data": {
      "image/png": "[encoded data removed]",
      "text/plain": [
       "<Figure size 432x288 with 1 Axes>"
      ]
     },
     "metadata": {
      "needs_background": "light"
     },
     "output_type": "display_data"
    }
   ],
   "source": [
    "plt.scatter(lat,temp)\n",
    "plt.xlabel('Latitude')\n",
    "plt.ylabel('Temperature')\n",
    "plt.title('Latitude vs. Temperature Plot')"
   ]
  },
  {
   "cell_type": "markdown",
   "metadata": {},
   "source": [
    "#### Latitude vs. Humidity Plot"
   ]
  },
  {
   "cell_type": "code",
   "execution_count": 47,
   "metadata": {},
   "outputs": [
    {
     "data": {
      "text/plain": [
       "Text(0.5, 1.0, 'Latitude vs. Humidity Plot')"
      ]
     },
     "execution_count": 47,
     "metadata": {},
     "output_type": "execute_result"
    },
    {
     "data": {
      "image/png": "[encoded data removed]",
      "text/plain": [
       "<Figure size 432x288 with 1 Axes>"
      ]
     },
     "metadata": {
      "needs_background": "light"
     },
     "output_type": "display_data"
    }
   ],
   "source": [
    "plt.scatter(lat,hum)\n",
    "plt.xlabel('Latitude')\n",
    "plt.ylabel('Humidity')\n",
    "plt.title('Latitude vs. Humidity Plot')"
   ]
  },
  {
   "cell_type": "markdown",
   "metadata": {},
   "source": [
    "#### Latitude vs. Cloudiness Plot"
   ]
  },
  {
   "cell_type": "code",
   "execution_count": 48,
   "metadata": {},
   "outputs": [
    {
     "data": {
      "text/plain": [
       "Text(0.5, 1.0, 'Latitude vs. Cloudiness Plot')"
      ]
     },
     "execution_count": 48,
     "metadata": {},
     "output_type": "execute_result"
    },
    {
     "data": {
      "image/png": "[encoded data removed]",
      "text/plain": [
       "<Figure size 432x288 with 1 Axes>"
      ]
     },
     "metadata": {
      "needs_background": "light"
     },
     "output_type": "display_data"
    }
   ],
   "source": [
    "plt.scatter(lat,cloud)\n",
    "plt.xlabel('Latitude')\n",
    "plt.ylabel('Cloudiness')\n",
    "plt.title('Latitude vs. Cloudiness Plot')"
   ]
  },
  {
   "cell_type": "markdown",
   "metadata": {},
   "source": [
    "#### Latitude vs. Wind Speed Plot"
   ]
  },
  {
   "cell_type": "code",
   "execution_count": 49,
   "metadata": {},
   "outputs": [
    {
     "data": {
      "text/plain": [
       "Text(0.5, 1.0, 'Latitude vs. Wind Speed')"
      ]
     },
     "execution_count": 49,
     "metadata": {},
     "output_type": "execute_result"
    },
    {
     "data": {
      "image/png": "[encoded data removed]",
      "text/plain": [
       "<Figure size 432x288 with 1 Axes>"
      ]
     },
     "metadata": {
      "needs_background": "light"
     },
     "output_type": "display_data"
    }
   ],
   "source": [
    "plt.scatter(lat,wind)\n",
    "plt.xlabel('Latitude')\n",
    "plt.ylabel('Wind Speed')\n",
    "plt.title('Latitude vs. Wind Speed')"
   ]
  },
  {
   "cell_type": "markdown",
   "metadata": {},
   "source": [
    "## Linear Regression"
   ]
  },
  {
   "cell_type": "code",
   "execution_count": 50,
   "metadata": {},
   "outputs": [],
   "source": [
    "# OPTIONAL: Create a function to create Linear Regression plots\n"
   ]
  },
  {
   "cell_type": "code",
   "execution_count": 51,
   "metadata": {},
   "outputs": [],
   "source": [
    "# Create Northern and Southern Hemisphere DataFrames\n",
    "city_north=city_temp[city_temp['Latitude']>=0]"
   ]
  },
  {
   "cell_type": "markdown",
   "metadata": {},
   "source": [
    "####  Northern Hemisphere - Max Temp vs. Latitude Linear Regression"
   ]
  },
  {
   "cell_type": "code",
   "execution_count": 52,
   "metadata": {},
   "outputs": [
    {
     "name": "stdout",
     "output_type": "stream",
     "text": [
      "R squard: -0.8566525121737951\n"
     ]
    },
    {
     "data": {
      "image/png": "[encoded data removed]",
      "text/plain": [
       "<Figure size 432x288 with 1 Axes>"
      ]
     },
     "metadata": {
      "needs_background": "light"
     },
     "output_type": "display_data"
    }
   ],
   "source": [
    "x_values = city_north['Latitude'].astype('float')\n",
    "y_values = city_north['Max Temp'].astype('float')\n",
    "\n",
    "# Run linear regression\n",
    "(slope, intercept, rvalue, pvalue, stderr) = linregress(x_values, y_values)\n",
    "regress_values = x_values * slope + intercept\n",
    "line_eq = \"y = \" + str(round(slope,2)) + \"x + \" + str(round(intercept,2))\n",
    "plt.scatter(x_values,y_values)\n",
    "\n",
    "# Plot regression line\n",
    "plt.plot(x_values,regress_values,\"r-\")\n",
    "plt.annotate(line_eq,(10,0),fontsize=15,color=\"red\")\n",
    "\n",
    "# Label plot\n",
    "plt.title('Northern Hemisphere - Max Temp vs. Latitude Linear Regression')\n",
    "plt.xlabel('Latitude')\n",
    "plt.ylabel('Max Temperature')\n",
    "\n",
    "# Print r square value\n",
    "print(f\"R squard: {rvalue}\")\n",
    "\n",
    "# Show plot\n",
    "plt.show()"
   ]
  },
  {
   "cell_type": "markdown",
   "metadata": {},
   "source": [
    "####  Southern Hemisphere - Max Temp vs. Latitude Linear Regression"
   ]
  },
  {
   "cell_type": "code",
   "execution_count": 53,
   "metadata": {},
   "outputs": [
    {
     "name": "stdout",
     "output_type": "stream",
     "text": [
      "R squard: 0.49136119302652354\n"
     ]
    },
    {
     "data": {
      "image/png": "[encoded data removed]",
      "text/plain": [
       "<Figure size 432x288 with 1 Axes>"
      ]
     },
     "metadata": {
      "needs_background": "light"
     },
     "output_type": "display_data"
    }
   ],
   "source": [
    "city_south=city_temp[city_temp['Latitude']<0]\n",
    "x_values = city_south['Latitude'].astype('float')\n",
    "y_values = city_south['Max Temp'].astype('float')\n",
    "\n",
    "# Run linear regression\n",
    "(slope, intercept, rvalue, pvalue, stderr) = linregress(x_values, y_values)\n",
    "regress_values = x_values * slope + intercept\n",
    "line_eq = \"y = \" + str(round(slope,2)) + \"x + \" + str(round(intercept,2))\n",
    "plt.scatter(x_values,y_values)\n",
    "\n",
    "# Plot regression line\n",
    "plt.plot(x_values,regress_values,\"r-\")\n",
    "plt.annotate(line_eq,(-50,90),fontsize=15,color=\"red\")\n",
    "\n",
    "# Label plot\n",
    "plt.title('Southern Hemisphere - Max Temp vs. Latitude Linear Regression')\n",
    "plt.xlabel('Latitude')\n",
    "plt.ylabel('Max Temperature')\n",
    "\n",
    "# Print r square value\n",
    "print(f\"R squard: {rvalue}\")\n",
    "\n",
    "# Show plot\n",
    "plt.show()"
   ]
  },
  {
   "cell_type": "markdown",
   "metadata": {},
   "source": [
    "####  Northern Hemisphere - Humidity (%) vs. Latitude Linear Regression"
   ]
  },
  {
   "cell_type": "code",
   "execution_count": 54,
   "metadata": {},
   "outputs": [
    {
     "name": "stdout",
     "output_type": "stream",
     "text": [
      "R squard: 0.41041259232510696\n"
     ]
    },
    {
     "data": {
      "image/png": "[encoded data removed]",
      "text/plain": [
       "<Figure size 432x288 with 1 Axes>"
      ]
     },
     "metadata": {
      "needs_background": "light"
     },
     "output_type": "display_data"
    }
   ],
   "source": [
    "x_values = city_north['Latitude'].astype('float')\n",
    "y_values = city_north['Humidity'].astype('float')\n",
    "\n",
    "# Run linear regression\n",
    "(slope, intercept, rvalue, pvalue, stderr) = linregress(x_values, y_values)\n",
    "regress_values = x_values * slope + intercept\n",
    "line_eq = \"y = \" + str(round(slope,2)) + \"x + \" + str(round(intercept,2))\n",
    "plt.scatter(x_values,y_values)\n",
    "\n",
    "# Plot regression line\n",
    "plt.plot(x_values,regress_values,\"r-\")\n",
    "plt.annotate(line_eq,(40,20),fontsize=15,color=\"red\")\n",
    "\n",
    "# Label plot\n",
    "plt.title('Northern Hemisphere - Humidity vs. Latitude Linear Regression')\n",
    "plt.xlabel('Latitude')\n",
    "plt.ylabel('Humidity')\n",
    "\n",
    "# Print r square value\n",
    "print(f\"R squard: {rvalue}\")\n",
    "\n",
    "# Show plot\n",
    "plt.show()"
   ]
  },
  {
   "cell_type": "markdown",
   "metadata": {},
   "source": [
    "####  Southern Hemisphere - Humidity (%) vs. Latitude Linear Regression"
   ]
  },
  {
   "cell_type": "code",
   "execution_count": 55,
   "metadata": {},
   "outputs": [
    {
     "name": "stdout",
     "output_type": "stream",
     "text": [
      "R squard: 0.1632294153380404\n"
     ]
    },
    {
     "data": {
      "image/png": "[encoded data removed]",
      "text/plain": [
       "<Figure size 432x288 with 1 Axes>"
      ]
     },
     "metadata": {
      "needs_background": "light"
     },
     "output_type": "display_data"
    }
   ],
   "source": [
    "x_values = city_south['Latitude'].astype('float')\n",
    "y_values = city_south['Humidity'].astype('float')\n",
    "\n",
    "# Run linear regression\n",
    "(slope, intercept, rvalue, pvalue, stderr) = linregress(x_values, y_values)\n",
    "regress_values = x_values * slope + intercept\n",
    "line_eq = \"y = \" + str(round(slope,2)) + \"x + \" + str(round(intercept,2))\n",
    "plt.scatter(x_values,y_values)\n",
    "\n",
    "# Plot regression line\n",
    "plt.plot(x_values,regress_values,\"r-\")\n",
    "plt.annotate(line_eq,(-20,20),fontsize=15,color=\"red\")\n",
    "\n",
    "# Label plot\n",
    "plt.title('Southern Hemisphere - Humidity vs. Latitude Linear Regression')\n",
    "plt.xlabel('Latitude')\n",
    "plt.ylabel('Humidity')\n",
    "\n",
    "# Print r square value\n",
    "print(f\"R squard: {rvalue}\")\n",
    "\n",
    "# Show plot\n",
    "plt.show()"
   ]
  },
  {
   "cell_type": "markdown",
   "metadata": {},
   "source": [
    "####  Northern Hemisphere - Cloudiness (%) vs. Latitude Linear Regression"
   ]
  },
  {
   "cell_type": "code",
   "execution_count": 56,
   "metadata": {},
   "outputs": [
    {
     "name": "stdout",
     "output_type": "stream",
     "text": [
      "R squard: 0.22630260349539583\n"
     ]
    },
    {
     "data": {
      "image/png": "[encoded data removed]",
      "text/plain": [
       "<Figure size 432x288 with 1 Axes>"
      ]
     },
     "metadata": {
      "needs_background": "light"
     },
     "output_type": "display_data"
    }
   ],
   "source": [
    "x_values = city_north['Latitude'].astype('float')\n",
    "y_values = city_north['Cloudiness'].astype('float')\n",
    "\n",
    "# Run linear regression\n",
    "(slope, intercept, rvalue, pvalue, stderr) = linregress(x_values, y_values)\n",
    "regress_values = x_values * slope + intercept\n",
    "line_eq = \"y = \" + str(round(slope,2)) + \"x + \" + str(round(intercept,2))\n",
    "plt.scatter(x_values,y_values)\n",
    "\n",
    "# Plot regression line\n",
    "plt.plot(x_values,regress_values,\"r-\")\n",
    "plt.annotate(line_eq,(40,20),fontsize=15,color=\"red\")\n",
    "\n",
    "# Label plot\n",
    "plt.title('Northern Hemisphere - Cloudiness vs. Latitude Linear Regression')\n",
    "plt.xlabel('Latitude')\n",
    "plt.ylabel('Cloudiness(%)')\n",
    "\n",
    "# Print r square value\n",
    "print(f\"R squard: {rvalue}\")\n",
    "\n",
    "# Show plot\n",
    "plt.show()"
   ]
  },
  {
   "cell_type": "markdown",
   "metadata": {},
   "source": [
    "####  Southern Hemisphere - Cloudiness (%) vs. Latitude Linear Regression"
   ]
  },
  {
   "cell_type": "code",
   "execution_count": 57,
   "metadata": {},
   "outputs": [
    {
     "name": "stdout",
     "output_type": "stream",
     "text": [
      "R squard: 0.09845443228391156\n"
     ]
    },
    {
     "data": {
      "image/png": "[encoded data removed]",
      "text/plain": [
       "<Figure size 432x288 with 1 Axes>"
      ]
     },
     "metadata": {
      "needs_background": "light"
     },
     "output_type": "display_data"
    }
   ],
   "source": [
    "x_values = city_south['Latitude'].astype('float')\n",
    "y_values = city_south['Cloudiness'].astype('float')\n",
    "\n",
    "# Run linear regression\n",
    "(slope, intercept, rvalue, pvalue, stderr) = linregress(x_values, y_values)\n",
    "regress_values = x_values * slope + intercept\n",
    "line_eq = \"y = \" + str(round(slope,2)) + \"x + \" + str(round(intercept,2))\n",
    "plt.scatter(x_values,y_values)\n",
    "\n",
    "# Plot regression line\n",
    "plt.plot(x_values,regress_values,\"r-\")\n",
    "plt.annotate(line_eq,(-50,100),fontsize=15,color=\"red\")\n",
    "\n",
    "# Label plot\n",
    "plt.title('Southern Hemisphere - Cloudiness (%) vs. Latitude Linear Regression')\n",
    "plt.xlabel('Latitude')\n",
    "plt.ylabel('Cloudiness(%)')\n",
    "\n",
    "# Print r square value\n",
    "print(f\"R squard: {rvalue}\")\n",
    "\n",
    "# Show plot\n",
    "plt.show()"
   ]
  },
  {
   "cell_type": "markdown",
   "metadata": {},
   "source": [
    "####  Northern Hemisphere - Wind Speed (mph) vs. Latitude Linear Regression"
   ]
  },
  {
   "cell_type": "code",
   "execution_count": 58,
   "metadata": {},
   "outputs": [
    {
     "name": "stdout",
     "output_type": "stream",
     "text": [
      "R squard: 0.1459726195338753\n"
     ]
    },
    {
     "data": {
      "image/png": "[encoded data removed]",
      "text/plain": [
       "<Figure size 432x288 with 1 Axes>"
      ]
     },
     "metadata": {
      "needs_background": "light"
     },
     "output_type": "display_data"
    }
   ],
   "source": [
    "x_values = city_north['Latitude'].astype('float')\n",
    "y_values = city_north['Wind'].astype('float')\n",
    "\n",
    "# Run linear regression\n",
    "(slope, intercept, rvalue, pvalue, stderr) = linregress(x_values, y_values)\n",
    "regress_values = x_values * slope + intercept\n",
    "line_eq = \"y = \" + str(round(slope,2)) + \"x + \" + str(round(intercept,2))\n",
    "plt.scatter(x_values,y_values)\n",
    "\n",
    "# Plot regression line\n",
    "plt.plot(x_values,regress_values,\"r-\")\n",
    "plt.annotate(line_eq,(20,40),fontsize=15,color=\"red\")\n",
    "\n",
    "# Label plot\n",
    "plt.title('Northern Hemisphere - Wind Speed vs. Latitude Linear Regression')\n",
    "plt.xlabel('Latitude')\n",
    "plt.ylabel('Wind Speed (mph)')\n",
    "\n",
    "# Print r square value\n",
    "print(f\"R squard: {rvalue}\")\n",
    "\n",
    "# Show plot\n",
    "plt.show()"
   ]
  },
  {
   "cell_type": "markdown",
   "metadata": {},
   "source": [
    "####  Southern Hemisphere - Wind Speed (mph) vs. Latitude Linear Regression"
   ]
  },
  {
   "cell_type": "code",
   "execution_count": 59,
   "metadata": {},
   "outputs": [
    {
     "name": "stdout",
     "output_type": "stream",
     "text": [
      "R squard: -0.36161643071447447\n"
     ]
    },
    {
     "data": {
      "image/png": "[encoded data removed]",
      "text/plain": [
       "<Figure size 432x288 with 1 Axes>"
      ]
     },
     "metadata": {
      "needs_background": "light"
     },
     "output_type": "display_data"
    }
   ],
   "source": [
    "x_values = city_south['Latitude'].astype('float')\n",
    "y_values = city_south['Wind'].astype('float')\n",
    "\n",
    "# Run linear regression\n",
    "(slope, intercept, rvalue, pvalue, stderr) = linregress(x_values, y_values)\n",
    "regress_values = x_values * slope + intercept\n",
    "line_eq = \"y = \" + str(round(slope,2)) + \"x + \" + str(round(intercept,2))\n",
    "plt.scatter(x_values,y_values)\n",
    "\n",
    "# Plot regression line\n",
    "plt.plot(x_values,regress_values,\"r-\")\n",
    "plt.annotate(line_eq,(-50,20),fontsize=15,color=\"red\")\n",
    "\n",
    "# Label plot\n",
    "plt.title('Southern Hemisphere - Wind Speed vs. Latitude Linear Regression')\n",
    "plt.xlabel('Latitude')\n",
    "plt.ylabel('Wind Speed (mph)')\n",
    "\n",
    "# Print r square value\n",
    "print(f\"R squard: {rvalue}\")\n",
    "\n",
    "# Show plot\n",
    "plt.show()"
   ]
  }
 ],
 "metadata": {
  "anaconda-cloud": {},
  "kernel_info": {
   "name": "python3"
  },
  "kernelspec": {
   "display_name": "Python 3",
   "language": "python",
   "name": "python3"
  },
  "language_info": {
   "codemirror_mode": {
    "name": "ipython",
    "version": 3
   },
   "file_extension": ".py",
   "mimetype": "text/x-python",
   "name": "python",
   "nbconvert_exporter": "python",
   "pygments_lexer": "ipython3",
   "version": "3.7.4"
  },
  "latex_envs": {
   "LaTeX_envs_menu_present": true,
   "autoclose": false,
   "autocomplete": true,
   "bibliofile": "biblio.bib",
   "cite_by": "apalike",
   "current_citInitial": 1,
   "eqLabelWithNumbers": true,
   "eqNumInitial": 1,
   "hotkeys": {
    "equation": "Ctrl-E",
    "itemize": "Ctrl-I"
   },
   "labels_anchors": false,
   "latex_user_defs": false,
   "report_style_numbering": false,
   "user_envs_cfg": false
  },
  "nteract": {
   "version": "0.12.3"
  }
 },
 "nbformat": 4,
 "nbformat_minor": 2
}
