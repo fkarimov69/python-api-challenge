{
 "cells": [
  {
   "cell_type": "markdown",
   "metadata": {},
   "source": [
    "# WeatherPy\n",
    "----\n",
    "\n",
    "#### Note\n",
    "* Instructions have been included for each segment. You do not have to follow them exactly, but they are included to help you think through the steps."
   ]
  },
  {
   "cell_type": "code",
   "execution_count": 3,
   "metadata": {
    "scrolled": true
   },
   "outputs": [],
   "source": [
    "# Dependencies and Setup\n",
    "import matplotlib.pyplot as plt\n",
    "import pandas as pd\n",
    "import numpy as np\n",
    "import requests\n",
    "import json\n",
    "import time\n",
    "from scipy.stats import linregress\n",
    "from citipy import citipy\n",
    "from config import api_key\n",
    "# Incorporated citipy to determine city based on latitude and longitude\n",
    "\n",
    "\n",
    "# Output File (CSV)\n",
    "output_data_file = \"output_data/cities.csv\"\n",
    "\n",
    "# Range of latitudes and longitudes\n",
    "lat_range = (-90, 90)\n",
    "lng_range = (-180, 180)"
   ]
  },
  {
   "cell_type": "markdown",
   "metadata": {},
   "source": [
    "## Generate Cities List"
   ]
  },
  {
   "cell_type": "code",
   "execution_count": 4,
   "metadata": {},
   "outputs": [
    {
     "data": {
      "text/plain": [
       "614"
      ]
     },
     "execution_count": 4,
     "metadata": {},
     "output_type": "execute_result"
    }
   ],
   "source": [
    "# List for holding lat_lngs and cities\n",
    "lat_lngs = []\n",
    "cities = []\n",
    "# Create a set of random lat and lng combinations\n",
    "lats = np.random.uniform(low=-90.000, high=90.000, size=1500)\n",
    "lngs = np.random.uniform(low=-180.000, high=180.000, size=1500)\n",
    "lat_lngs = zip(lats, lngs)\n",
    "\n",
    "# Identify nearest city for each lat, lng combination\n",
    "for lat_lng in lat_lngs:\n",
    "    city = citipy.nearest_city(lat_lng[0], lat_lng[1]).city_name\n",
    "    \n",
    "    # If the city is unique, then add it to a our cities list\n",
    "    if city not in cities:\n",
    "        cities.append(city)\n",
    "\n",
    "# Print the city count to confirm sufficient count\n",
    "len(cities)\n"
   ]
  },
  {
   "cell_type": "code",
   "execution_count": 6,
   "metadata": {},
   "outputs": [],
   "source": [
    "url=\"http://api.openweathermap.org/data/2.5/weather?\"\n",
    "\n",
    "query_url=f\"{url}appid={api_key}&q=\"\n",
    "#response=requests.get(query_url+city+\"&units=imperial\").json()\n",
    "#response"
   ]
  },
  {
   "cell_type": "code",
   "execution_count": null,
   "metadata": {},
   "outputs": [
    {
     "name": "stdout",
     "output_type": "stream",
     "text": [
      "Begining Data retrieval\n",
      "Nothing\n",
      "Procesing record 1:narsaq\n",
      "Procesing record 2:atuona\n",
      "Procesing record 3:victoria\n",
      "Procesing record 4:cape town\n",
      "Procesing record 5:rikitea\n",
      "Procesing record 6:chapais\n",
      "Procesing record 7:mataura\n",
      "Procesing record 8:la palma\n",
      "Procesing record 9:koson\n",
      "Procesing record 10:new norfolk\n",
      "Nothing\n",
      "Procesing record 11:esperance\n",
      "Nothing\n",
      "Procesing record 12:puerto ayora\n",
      "Procesing record 13:busselton\n",
      "Procesing record 14:hobart\n",
      "Procesing record 15:gazimurskiy zavod\n",
      "Procesing record 16:hambantota\n",
      "Procesing record 17:ribeira grande\n",
      "Procesing record 18:bahia blanca\n",
      "Procesing record 19:katangli\n",
      "Procesing record 20:sakakah\n",
      "Procesing record 21:shawinigan\n",
      "Procesing record 22:kapaa\n",
      "Nothing\n",
      "Nothing\n",
      "Procesing record 23:bluff\n",
      "Procesing record 24:tuktoyaktuk\n",
      "Procesing record 25:sao filipe\n",
      "Procesing record 26:srednekolymsk\n",
      "Procesing record 27:havoysund\n",
      "Procesing record 28:lasa\n",
      "Procesing record 29:thompson\n",
      "Procesing record 30:tanout\n",
      "Procesing record 31:georgetown\n",
      "Procesing record 32:hilo\n",
      "Procesing record 33:pokhara\n",
      "Procesing record 34:torbay\n",
      "Procesing record 35:mbaiki\n",
      "Procesing record 36:vao\n",
      "Procesing record 37:mehamn\n",
      "Procesing record 38:coquimbo\n",
      "Procesing record 39:chokurdakh\n",
      "Procesing record 40:kaitangata\n",
      "Procesing record 41:upernavik\n",
      "Procesing record 42:jamestown\n",
      "Procesing record 43:airai\n",
      "Procesing record 44:ushuaia\n",
      "Procesing record 45:verkhnyaya inta\n",
      "Procesing record 46:bambous virieux\n",
      "Procesing record 47:andra\n",
      "Procesing record 48:ilulissat\n",
      "Procesing record 49:punta arenas\n",
      "Procesing record 50:butaritari\n",
      "Procesing record 51:hermanus\n",
      "Procesing record 52:caraquet\n",
      "Procesing record 53:weligama\n",
      "Procesing record 54:la asuncion\n",
      "Procesing record 55:clyde river\n",
      "Procesing record 56:vaini\n",
      "Procesing record 57:longyearbyen\n",
      "Procesing record 58:avera\n",
      "Procesing record 59:cozumel\n",
      "Procesing record 60:sur\n",
      "Procesing record 61:bida\n",
      "Procesing record 62:saint-philippe\n",
      "Procesing record 63:port-gentil\n",
      "Procesing record 64:norman wells\n",
      "Procesing record 65:katsuura\n",
      "Procesing record 66:savelugu\n",
      "Procesing record 67:inta\n",
      "Procesing record 68:iranshahr\n",
      "Procesing record 69:bethel\n",
      "Procesing record 70:port macquarie\n",
      "Procesing record 71:provideniya\n",
      "Procesing record 72:mzimba\n",
      "Procesing record 73:nihommatsu\n",
      "Procesing record 74:tura\n",
      "Procesing record 75:namibe\n",
      "Procesing record 76:satka\n",
      "Procesing record 77:cabo san lucas\n",
      "Procesing record 78:northam\n",
      "Nothing\n",
      "Procesing record 79:padang\n",
      "Nothing\n",
      "Procesing record 80:kodiak\n",
      "Procesing record 81:snasa\n",
      "Procesing record 82:port alfred\n",
      "Procesing record 83:vitim\n",
      "Procesing record 84:wanaka\n",
      "Procesing record 85:bengkulu\n",
      "Procesing record 86:sitka\n",
      "Procesing record 87:saint george\n",
      "Procesing record 88:podgorenskiy\n",
      "Procesing record 89:nikolskoye\n",
      "Procesing record 90:cassilandia\n",
      "Procesing record 91:tuatapere\n",
      "Procesing record 92:kruisfontein\n",
      "Procesing record 93:cururupu\n",
      "Procesing record 94:verkhoyansk\n",
      "Procesing record 95:san quintin\n",
      "Procesing record 96:kavaratti\n",
      "Nothing\n",
      "Procesing record 97:khatanga\n",
      "Procesing record 98:khasan\n",
      "Procesing record 99:banda aceh\n",
      "Procesing record 100:barrow\n",
      "Procesing record 101:botwood\n",
      "Procesing record 102:tasiilaq\n",
      "Procesing record 103:qaanaaq\n",
      "Procesing record 104:cidreira\n",
      "Procesing record 105:kirakira\n",
      "Procesing record 106:albany\n",
      "Procesing record 107:praia da vitoria\n",
      "Nothing\n",
      "Procesing record 108:balkhash\n",
      "Procesing record 109:geraldton\n",
      "Procesing record 110:hami\n",
      "Procesing record 111:maniitsoq\n",
      "Procesing record 112:talcahuano\n",
      "Nothing\n",
      "Procesing record 113:avarua\n",
      "Procesing record 114:kamenka\n",
      "Procesing record 115:mongu\n",
      "Procesing record 116:muzhi\n",
      "Procesing record 117:dalby\n",
      "Procesing record 118:naze\n",
      "Procesing record 119:kuminskiy\n",
      "Procesing record 120:bredasdorp\n",
      "Procesing record 121:portland\n",
      "Procesing record 122:pevek\n",
      "Nothing\n",
      "Procesing record 123:coxim\n",
      "Procesing record 124:dubna\n",
      "Nothing\n",
      "Procesing record 125:hithadhoo\n",
      "Procesing record 126:lakes entrance\n",
      "Procesing record 127:mar del plata\n",
      "Procesing record 128:arraial do cabo\n",
      "Procesing record 129:chitipa\n",
      "Nothing\n",
      "Procesing record 130:arlit\n",
      "Procesing record 131:port elizabeth\n",
      "Procesing record 132:komsomolskiy\n",
      "Nothing\n",
      "Procesing record 133:eidsvag\n",
      "Procesing record 134:saskylakh\n",
      "Nothing\n",
      "Procesing record 135:coihaique\n",
      "Procesing record 136:meulaboh\n",
      "Procesing record 137:viedma\n",
      "Procesing record 138:yanji\n",
      "Procesing record 139:seybaplaya\n",
      "Procesing record 140:huarmey\n",
      "Procesing record 141:dikson\n",
      "Procesing record 142:fairbanks\n",
      "Procesing record 143:libertador general san martin\n",
      "Procesing record 144:sao joao da barra\n",
      "Procesing record 145:salalah\n",
      "Procesing record 146:nanortalik\n",
      "Procesing record 147:vanavara\n",
      "Procesing record 148:chumikan\n",
      "Procesing record 149:moron\n",
      "Procesing record 150:estevan\n",
      "Procesing record 151:tommot\n",
      "Procesing record 152:port hueneme\n",
      "Procesing record 153:vila franca do campo\n",
      "Procesing record 154:xining\n",
      "Procesing record 155:luderitz\n",
      "Procesing record 156:ovsyanka\n",
      "Nothing\n",
      "Nothing\n",
      "Procesing record 157:carnarvon\n",
      "Procesing record 158:taoudenni\n",
      "Procesing record 159:catia la mar\n",
      "Procesing record 160:kavieng\n",
      "Procesing record 161:axim\n",
      "Nothing\n",
      "Procesing record 162:jaggayyapeta\n",
      "Procesing record 163:otuzco\n",
      "Procesing record 164:east london\n",
      "Procesing record 165:turtas\n",
      "Procesing record 166:otradnoye\n",
      "Procesing record 167:tulagi\n",
      "Procesing record 168:san cristobal\n",
      "Procesing record 169:port blair\n",
      "Procesing record 170:andenes\n",
      "Procesing record 171:cran-gevrier\n",
      "Procesing record 172:cherskiy\n",
      "Procesing record 173:peace river\n",
      "Procesing record 174:manokwari\n",
      "Procesing record 175:coolum beach\n",
      "Procesing record 176:grindavik\n",
      "Nothing\n",
      "Procesing record 177:conakry\n",
      "Procesing record 178:seoul\n",
      "Procesing record 179:sangre grande\n",
      "Procesing record 180:lebu\n",
      "Procesing record 181:hasaki\n",
      "Procesing record 182:mount gambier\n",
      "Procesing record 183:yulara\n",
      "Procesing record 184:porto santo\n",
      "Procesing record 185:tiksi\n",
      "Procesing record 186:atambua\n",
      "Nothing\n",
      "Procesing record 187:alugan\n",
      "Procesing record 188:lopukhiv\n",
      "Procesing record 189:nacala\n",
      "Procesing record 190:benghazi\n",
      "Procesing record 191:kalat\n",
      "Procesing record 192:tiznit\n",
      "Procesing record 193:the pas\n",
      "Nothing\n",
      "Procesing record 194:bonavista\n",
      "Procesing record 195:oistins\n",
      "Procesing record 196:suntar\n",
      "Procesing record 197:partizanskoye\n",
      "Procesing record 198:mayumba\n",
      "Procesing record 199:malakal\n",
      "Nothing\n",
      "Procesing record 200:yellowknife\n",
      "Procesing record 201:okhotsk\n",
      "Procesing record 202:eenhana\n",
      "Procesing record 203:ancud\n",
      "Procesing record 204:beringovskiy\n",
      "Procesing record 205:port keats\n",
      "Nothing\n",
      "Procesing record 206:mahebourg\n",
      "Procesing record 207:abu dhabi\n",
      "Procesing record 208:severo-kurilsk\n",
      "Procesing record 209:kaseda\n",
      "Procesing record 210:krasnoselkup\n",
      "Procesing record 211:olafsvik\n",
      "Procesing record 212:mahibadhoo\n",
      "Procesing record 213:plettenberg bay\n",
      "Procesing record 214:kungurtug\n",
      "Procesing record 215:darhan\n",
      "Procesing record 216:west plains\n",
      "Procesing record 217:ponta do sol\n",
      "Procesing record 218:tokoroa\n",
      "Procesing record 219:barra patuca\n",
      "Nothing\n",
      "Procesing record 220:puro\n",
      "Procesing record 221:labytnangi\n",
      "Procesing record 222:peniche\n",
      "Procesing record 223:cabedelo\n",
      "Procesing record 224:sistranda\n",
      "Procesing record 225:pierre\n",
      "Procesing record 226:yilan\n",
      "Procesing record 227:okakarara\n",
      "Procesing record 228:dukat\n",
      "Procesing record 229:madang\n",
      "Procesing record 230:churu\n",
      "Procesing record 231:vung tau\n",
      "Nothing\n",
      "Procesing record 232:codrington\n",
      "Procesing record 233:goderich\n",
      "Procesing record 234:anan\n",
      "Procesing record 235:klaksvik\n",
      "Procesing record 236:ushibuka\n",
      "Procesing record 237:marovoay\n",
      "Procesing record 238:alekseyevka\n",
      "Procesing record 239:impfondo\n",
      "Procesing record 240:adrar\n",
      "Procesing record 241:kastornoye\n",
      "Procesing record 242:apiai\n",
      "Nothing\n",
      "Procesing record 243:isangel\n",
      "Procesing record 244:chuy\n",
      "Procesing record 245:leh\n"
     ]
    }
   ],
   "source": [
    "temp=[]\n",
    "lat=[]\n",
    "lon=[]\n",
    "hum=[]\n",
    "cloud=[]\n",
    "wind=[]\n",
    "max_temp=[]\n",
    "print(f\"Begining Data retrieval\")\n",
    "for city in cities:\n",
    "    response_r=requests.get(query_url+city+\"&units=imperial\")\n",
    "    response=response_r.json()\n",
    "    try:\n",
    "        temp.append(response['main']['temp'])\n",
    "        lat.append(response['coord']['lat'])\n",
    "        lon.append(response['coord']['lon'])\n",
    "        hum.append(response['main']['humidity'])\n",
    "        cloud.append(response['clouds']['all'])\n",
    "        wind.append(response['wind']['speed'])\n",
    "        max_temp.append(response['main']['temp_max'])\n",
    "        print(f\"Procesing record {len(temp)}:{city}\")\n",
    "    except:\n",
    "        print('Nothing')\n",
    "        pass\n",
    "    \n"
   ]
  },
  {
   "cell_type": "code",
   "execution_count": null,
   "metadata": {},
   "outputs": [],
   "source": []
  },
  {
   "cell_type": "markdown",
   "metadata": {},
   "source": [
    "### Perform API Calls\n",
    "* Perform a weather check on each city using a series of successive API calls.\n",
    "* Include a print log of each city as it'sbeing processed (with the city number and city name).\n"
   ]
  },
  {
   "cell_type": "code",
   "execution_count": null,
   "metadata": {},
   "outputs": [],
   "source": []
  },
  {
   "cell_type": "markdown",
   "metadata": {},
   "source": [
    "### Convert Raw Data to DataFrame\n",
    "* Export the city data into a .csv.\n",
    "* Display the DataFrame"
   ]
  },
  {
   "cell_type": "code",
   "execution_count": null,
   "metadata": {},
   "outputs": [],
   "source": [
    "city_dict={\"City\":cities,\n",
    "         \"Latitude\":lat,\n",
    "         \"Longtitude\":lon,\n",
    "         \"Temp\":temp,\n",
    "         \"Max Temp\":max_temp,\n",
    "         \"Cloudiness\":cloud,\n",
    "         \"Humidity\":hum,\n",
    "         \"Wind\":wind }\n",
    "            \n",
    "        \n",
    "city_temp=pd.concat([pd.Series(v,name=k) for k,v in city_dict.items()],axis=1)\n",
    "city_temp=city_temp.dropna()\n",
    "city_temp"
   ]
  },
  {
   "cell_type": "code",
   "execution_count": null,
   "metadata": {},
   "outputs": [],
   "source": [
    "city_temp.to_csv('cities.csv')"
   ]
  },
  {
   "cell_type": "markdown",
   "metadata": {},
   "source": [
    "### Plotting the Data\n",
    "* Use proper labeling of the plots using plot titles (including date of analysis) and axes labels.\n",
    "* Save the plotted figures as .pngs."
   ]
  },
  {
   "cell_type": "markdown",
   "metadata": {},
   "source": [
    "#### Latitude vs. Temperature Plot"
   ]
  },
  {
   "cell_type": "code",
   "execution_count": null,
   "metadata": {
    "scrolled": true
   },
   "outputs": [],
   "source": [
    "plt.scatter(lat,temp)\n",
    "plt.xlabel('Latitude')\n",
    "plt.ylabel('Temperature')\n",
    "plt.title('Latitude vs. Temperature Plot')"
   ]
  },
  {
   "cell_type": "markdown",
   "metadata": {},
   "source": [
    "#### Latitude vs. Humidity Plot"
   ]
  },
  {
   "cell_type": "code",
   "execution_count": null,
   "metadata": {},
   "outputs": [],
   "source": [
    "plt.scatter(lat,hum)\n",
    "plt.xlabel('Latitude')\n",
    "plt.ylabel('Humidity')\n",
    "plt.title('Latitude vs. Humidity Plot')"
   ]
  },
  {
   "cell_type": "markdown",
   "metadata": {},
   "source": [
    "#### Latitude vs. Cloudiness Plot"
   ]
  },
  {
   "cell_type": "code",
   "execution_count": null,
   "metadata": {},
   "outputs": [],
   "source": [
    "plt.scatter(lat,cloud)\n",
    "plt.xlabel('Latitude')\n",
    "plt.ylabel('Cloudiness')\n",
    "plt.title('Latitude vs. Cloudiness Plot')"
   ]
  },
  {
   "cell_type": "markdown",
   "metadata": {},
   "source": [
    "#### Latitude vs. Wind Speed Plot"
   ]
  },
  {
   "cell_type": "code",
   "execution_count": null,
   "metadata": {},
   "outputs": [],
   "source": [
    "plt.scatter(lat,wind)\n",
    "plt.xlabel('Latitude')\n",
    "plt.ylabel('Wind Speed')\n",
    "plt.title('Latitude vs. Wind Speed')"
   ]
  },
  {
   "cell_type": "markdown",
   "metadata": {},
   "source": [
    "## Linear Regression"
   ]
  },
  {
   "cell_type": "code",
   "execution_count": null,
   "metadata": {},
   "outputs": [],
   "source": [
    "# OPTIONAL: Create a function to create Linear Regression plots\n"
   ]
  },
  {
   "cell_type": "code",
   "execution_count": null,
   "metadata": {},
   "outputs": [],
   "source": [
    "# Create Northern and Southern Hemisphere DataFrames\n",
    "city_north=city_temp[city_temp['Latitude']>=0]"
   ]
  },
  {
   "cell_type": "markdown",
   "metadata": {},
   "source": [
    "####  Northern Hemisphere - Max Temp vs. Latitude Linear Regression"
   ]
  },
  {
   "cell_type": "code",
   "execution_count": null,
   "metadata": {},
   "outputs": [],
   "source": [
    "x_values = city_north['Latitude'].astype('float')\n",
    "y_values = city_north['Max Temp'].astype('float')\n",
    "\n",
    "# Run linear regression\n",
    "(slope, intercept, rvalue, pvalue, stderr) = linregress(x_values, y_values)\n",
    "regress_values = x_values * slope + intercept\n",
    "line_eq = \"y = \" + str(round(slope,2)) + \"x + \" + str(round(intercept,2))\n",
    "plt.scatter(x_values,y_values)\n",
    "\n",
    "# Plot regression line\n",
    "plt.plot(x_values,regress_values,\"r-\")\n",
    "plt.annotate(line_eq,(10,0),fontsize=15,color=\"red\")\n",
    "\n",
    "# Label plot\n",
    "plt.title('Northern Hemisphere - Max Temp vs. Latitude Linear Regression')\n",
    "plt.xlabel('Latitude')\n",
    "plt.ylabel('Max Temperature')\n",
    "\n",
    "# Print r square value\n",
    "print(f\"R squard: {rvalue}\")\n",
    "\n",
    "# Show plot\n",
    "plt.show()"
   ]
  },
  {
   "cell_type": "markdown",
   "metadata": {},
   "source": [
    "####  Southern Hemisphere - Max Temp vs. Latitude Linear Regression"
   ]
  },
  {
   "cell_type": "code",
   "execution_count": null,
   "metadata": {},
   "outputs": [],
   "source": [
    "city_south=city_temp[city_temp['Latitude']<0]\n",
    "x_values = city_south['Latitude'].astype('float')\n",
    "y_values = city_south['Max Temp'].astype('float')\n",
    "\n",
    "# Run linear regression\n",
    "(slope, intercept, rvalue, pvalue, stderr) = linregress(x_values, y_values)\n",
    "regress_values = x_values * slope + intercept\n",
    "line_eq = \"y = \" + str(round(slope,2)) + \"x + \" + str(round(intercept,2))\n",
    "plt.scatter(x_values,y_values)\n",
    "\n",
    "# Plot regression line\n",
    "plt.plot(x_values,regress_values,\"r-\")\n",
    "plt.annotate(line_eq,(-50,90),fontsize=15,color=\"red\")\n",
    "\n",
    "# Label plot\n",
    "plt.title('Southern Hemisphere - Max Temp vs. Latitude Linear Regression')\n",
    "plt.xlabel('Latitude')\n",
    "plt.ylabel('Max Temperature')\n",
    "\n",
    "# Print r square value\n",
    "print(f\"R squard: {rvalue}\")\n",
    "\n",
    "# Show plot\n",
    "plt.show()"
   ]
  },
  {
   "cell_type": "markdown",
   "metadata": {},
   "source": [
    "####  Northern Hemisphere - Humidity (%) vs. Latitude Linear Regression"
   ]
  },
  {
   "cell_type": "code",
   "execution_count": null,
   "metadata": {},
   "outputs": [],
   "source": [
    "x_values = city_north['Latitude'].astype('float')\n",
    "y_values = city_north['Humidity'].astype('float')\n",
    "\n",
    "# Run linear regression\n",
    "(slope, intercept, rvalue, pvalue, stderr) = linregress(x_values, y_values)\n",
    "regress_values = x_values * slope + intercept\n",
    "line_eq = \"y = \" + str(round(slope,2)) + \"x + \" + str(round(intercept,2))\n",
    "plt.scatter(x_values,y_values)\n",
    "\n",
    "# Plot regression line\n",
    "plt.plot(x_values,regress_values,\"r-\")\n",
    "plt.annotate(line_eq,(40,20),fontsize=15,color=\"red\")\n",
    "\n",
    "# Label plot\n",
    "plt.title('Northern Hemisphere - Humidity vs. Latitude Linear Regression')\n",
    "plt.xlabel('Latitude')\n",
    "plt.ylabel('Humidity')\n",
    "\n",
    "# Print r square value\n",
    "print(f\"R squard: {rvalue}\")\n",
    "\n",
    "# Show plot\n",
    "plt.show()"
   ]
  },
  {
   "cell_type": "markdown",
   "metadata": {},
   "source": [
    "####  Southern Hemisphere - Humidity (%) vs. Latitude Linear Regression"
   ]
  },
  {
   "cell_type": "code",
   "execution_count": null,
   "metadata": {},
   "outputs": [],
   "source": [
    "x_values = city_south['Latitude'].astype('float')\n",
    "y_values = city_south['Humidity'].astype('float')\n",
    "\n",
    "# Run linear regression\n",
    "(slope, intercept, rvalue, pvalue, stderr) = linregress(x_values, y_values)\n",
    "regress_values = x_values * slope + intercept\n",
    "line_eq = \"y = \" + str(round(slope,2)) + \"x + \" + str(round(intercept,2))\n",
    "plt.scatter(x_values,y_values)\n",
    "\n",
    "# Plot regression line\n",
    "plt.plot(x_values,regress_values,\"r-\")\n",
    "plt.annotate(line_eq,(-20,20),fontsize=15,color=\"red\")\n",
    "\n",
    "# Label plot\n",
    "plt.title('Southern Hemisphere - Humidity vs. Latitude Linear Regression')\n",
    "plt.xlabel('Latitude')\n",
    "plt.ylabel('Humidity')\n",
    "\n",
    "# Print r square value\n",
    "print(f\"R squard: {rvalue}\")\n",
    "\n",
    "# Show plot\n",
    "plt.show()"
   ]
  },
  {
   "cell_type": "markdown",
   "metadata": {},
   "source": [
    "####  Northern Hemisphere - Cloudiness (%) vs. Latitude Linear Regression"
   ]
  },
  {
   "cell_type": "code",
   "execution_count": null,
   "metadata": {},
   "outputs": [],
   "source": [
    "x_values = city_north['Latitude'].astype('float')\n",
    "y_values = city_north['Cloudiness'].astype('float')\n",
    "\n",
    "# Run linear regression\n",
    "(slope, intercept, rvalue, pvalue, stderr) = linregress(x_values, y_values)\n",
    "regress_values = x_values * slope + intercept\n",
    "line_eq = \"y = \" + str(round(slope,2)) + \"x + \" + str(round(intercept,2))\n",
    "plt.scatter(x_values,y_values)\n",
    "\n",
    "# Plot regression line\n",
    "plt.plot(x_values,regress_values,\"r-\")\n",
    "plt.annotate(line_eq,(40,20),fontsize=15,color=\"red\")\n",
    "\n",
    "# Label plot\n",
    "plt.title('Northern Hemisphere - Cloudiness vs. Latitude Linear Regression')\n",
    "plt.xlabel('Latitude')\n",
    "plt.ylabel('Cloudiness(%)')\n",
    "\n",
    "# Print r square value\n",
    "print(f\"R squard: {rvalue}\")\n",
    "\n",
    "# Show plot\n",
    "plt.show()"
   ]
  },
  {
   "cell_type": "markdown",
   "metadata": {},
   "source": [
    "####  Southern Hemisphere - Cloudiness (%) vs. Latitude Linear Regression"
   ]
  },
  {
   "cell_type": "code",
   "execution_count": null,
   "metadata": {},
   "outputs": [],
   "source": [
    "x_values = city_south['Latitude'].astype('float')\n",
    "y_values = city_south['Cloudiness'].astype('float')\n",
    "\n",
    "# Run linear regression\n",
    "(slope, intercept, rvalue, pvalue, stderr) = linregress(x_values, y_values)\n",
    "regress_values = x_values * slope + intercept\n",
    "line_eq = \"y = \" + str(round(slope,2)) + \"x + \" + str(round(intercept,2))\n",
    "plt.scatter(x_values,y_values)\n",
    "\n",
    "# Plot regression line\n",
    "plt.plot(x_values,regress_values,\"r-\")\n",
    "plt.annotate(line_eq,(-50,100),fontsize=15,color=\"red\")\n",
    "\n",
    "# Label plot\n",
    "plt.title('Southern Hemisphere - Cloudiness (%) vs. Latitude Linear Regression')\n",
    "plt.xlabel('Latitude')\n",
    "plt.ylabel('Cloudiness(%)')\n",
    "\n",
    "# Print r square value\n",
    "print(f\"R squard: {rvalue}\")\n",
    "\n",
    "# Show plot\n",
    "plt.show()"
   ]
  },
  {
   "cell_type": "markdown",
   "metadata": {},
   "source": [
    "####  Northern Hemisphere - Wind Speed (mph) vs. Latitude Linear Regression"
   ]
  },
  {
   "cell_type": "code",
   "execution_count": null,
   "metadata": {},
   "outputs": [],
   "source": [
    "x_values = city_north['Latitude'].astype('float')\n",
    "y_values = city_north['Wind'].astype('float')\n",
    "\n",
    "# Run linear regression\n",
    "(slope, intercept, rvalue, pvalue, stderr) = linregress(x_values, y_values)\n",
    "regress_values = x_values * slope + intercept\n",
    "line_eq = \"y = \" + str(round(slope,2)) + \"x + \" + str(round(intercept,2))\n",
    "plt.scatter(x_values,y_values)\n",
    "\n",
    "# Plot regression line\n",
    "plt.plot(x_values,regress_values,\"r-\")\n",
    "plt.annotate(line_eq,(20,40),fontsize=15,color=\"red\")\n",
    "\n",
    "# Label plot\n",
    "plt.title('Northern Hemisphere - Wind Speed vs. Latitude Linear Regression')\n",
    "plt.xlabel('Latitude')\n",
    "plt.ylabel('Wind Speed (mph)')\n",
    "\n",
    "# Print r square value\n",
    "print(f\"R squard: {rvalue}\")\n",
    "\n",
    "# Show plot\n",
    "plt.show()"
   ]
  },
  {
   "cell_type": "markdown",
   "metadata": {},
   "source": [
    "####  Southern Hemisphere - Wind Speed (mph) vs. Latitude Linear Regression"
   ]
  },
  {
   "cell_type": "code",
   "execution_count": null,
   "metadata": {},
   "outputs": [],
   "source": [
    "x_values = city_south['Latitude'].astype('float')\n",
    "y_values = city_south['Wind'].astype('float')\n",
    "\n",
    "# Run linear regression\n",
    "(slope, intercept, rvalue, pvalue, stderr) = linregress(x_values, y_values)\n",
    "regress_values = x_values * slope + intercept\n",
    "line_eq = \"y = \" + str(round(slope,2)) + \"x + \" + str(round(intercept,2))\n",
    "plt.scatter(x_values,y_values)\n",
    "\n",
    "# Plot regression line\n",
    "plt.plot(x_values,regress_values,\"r-\")\n",
    "plt.annotate(line_eq,(-50,20),fontsize=15,color=\"red\")\n",
    "\n",
    "# Label plot\n",
    "plt.title('Southern Hemisphere - Wind Speed vs. Latitude Linear Regression')\n",
    "plt.xlabel('Latitude')\n",
    "plt.ylabel('Wind Speed (mph)')\n",
    "\n",
    "# Print r square value\n",
    "print(f\"R squard: {rvalue}\")\n",
    "\n",
    "# Show plot\n",
    "plt.show()"
   ]
  }
 ],
 "metadata": {
  "anaconda-cloud": {},
  "kernel_info": {
   "name": "python3"
  },
  "kernelspec": {
   "display_name": "Python 3",
   "language": "python",
   "name": "python3"
  },
  "language_info": {
   "codemirror_mode": {
    "name": "ipython",
    "version": 3
   },
   "file_extension": ".py",
   "mimetype": "text/x-python",
   "name": "python",
   "nbconvert_exporter": "python",
   "pygments_lexer": "ipython3",
   "version": "3.7.4"
  },
  "latex_envs": {
   "LaTeX_envs_menu_present": true,
   "autoclose": false,
   "autocomplete": true,
   "bibliofile": "biblio.bib",
   "cite_by": "apalike",
   "current_citInitial": 1,
   "eqLabelWithNumbers": true,
   "eqNumInitial": 1,
   "hotkeys": {
    "equation": "Ctrl-E",
    "itemize": "Ctrl-I"
   },
   "labels_anchors": false,
   "latex_user_defs": false,
   "report_style_numbering": false,
   "user_envs_cfg": false
  },
  "nteract": {
   "version": "0.12.3"
  }
 },
 "nbformat": 4,
 "nbformat_minor": 2
}
