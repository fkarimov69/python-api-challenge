{
 "cells": [
  {
   "cell_type": "markdown",
   "metadata": {},
   "source": [
    "# WeatherPy\n",
    "----\n",
    "\n",
    "#### Note\n",
    "* Instructions have been included for each segment. You do not have to follow them exactly, but they are included to help you think through the steps."
   ]
  },
  {
   "cell_type": "code",
   "execution_count": 3,
   "metadata": {
    "scrolled": true
   },
   "outputs": [],
   "source": [
    "# Dependencies and Setup\n",
    "import matplotlib.pyplot as plt\n",
    "import pandas as pd\n",
    "import numpy as np\n",
    "import requests\n",
    "import json\n",
    "import time\n",
    "from scipy.stats import linregress\n",
    "from citipy import citipy\n",
    "from config import api_key\n",
    "# Incorporated citipy to determine city based on latitude and longitude\n",
    "\n",
    "\n",
    "# Output File (CSV)\n",
    "output_data_file = \"output_data/cities.csv\"\n",
    "\n",
    "# Range of latitudes and longitudes\n",
    "lat_range = (-90, 90)\n",
    "lng_range = (-180, 180)"
   ]
  },
  {
   "cell_type": "markdown",
   "metadata": {},
   "source": [
    "## Generate Cities List"
   ]
  },
  {
   "cell_type": "code",
   "execution_count": 4,
   "metadata": {},
   "outputs": [
    {
     "data": {
      "text/plain": [
       "614"
      ]
     },
     "execution_count": 4,
     "metadata": {},
     "output_type": "execute_result"
    }
   ],
   "source": [
    "# List for holding lat_lngs and cities\n",
    "lat_lngs = []\n",
    "cities = []\n",
    "# Create a set of random lat and lng combinations\n",
    "lats = np.random.uniform(low=-90.000, high=90.000, size=1500)\n",
    "lngs = np.random.uniform(low=-180.000, high=180.000, size=1500)\n",
    "lat_lngs = zip(lats, lngs)\n",
    "\n",
    "# Identify nearest city for each lat, lng combination\n",
    "for lat_lng in lat_lngs:\n",
    "    city = citipy.nearest_city(lat_lng[0], lat_lng[1]).city_name\n",
    "    \n",
    "    # If the city is unique, then add it to a our cities list\n",
    "    if city not in cities:\n",
    "        cities.append(city)\n",
    "\n",
    "# Print the city count to confirm sufficient count\n",
    "len(cities)\n"
   ]
  },
  {
   "cell_type": "code",
   "execution_count": 6,
   "metadata": {},
   "outputs": [],
   "source": [
    "url=\"http://api.openweathermap.org/data/2.5/weather?\"\n",
    "\n",
    "query_url=f\"{url}appid={api_key}&q=\"\n",
    "#response=requests.get(query_url+city+\"&units=imperial\").json()\n",
    "#response"
   ]
  },
  {
   "cell_type": "code",
   "execution_count": 7,
   "metadata": {},
   "outputs": [
    {
     "name": "stdout",
     "output_type": "stream",
     "text": [
      "Begining Data retrieval\n",
      "Nothing\n",
      "Procesing record 1:narsaq\n",
      "Procesing record 2:atuona\n",
      "Procesing record 3:victoria\n",
      "Procesing record 4:cape town\n",
      "Procesing record 5:rikitea\n",
      "Procesing record 6:chapais\n",
      "Procesing record 7:mataura\n",
      "Procesing record 8:la palma\n",
      "Procesing record 9:koson\n",
      "Procesing record 10:new norfolk\n",
      "Nothing\n",
      "Procesing record 11:esperance\n",
      "Nothing\n",
      "Procesing record 12:puerto ayora\n",
      "Procesing record 13:busselton\n",
      "Procesing record 14:hobart\n",
      "Procesing record 15:gazimurskiy zavod\n",
      "Procesing record 16:hambantota\n",
      "Procesing record 17:ribeira grande\n",
      "Procesing record 18:bahia blanca\n",
      "Procesing record 19:katangli\n",
      "Procesing record 20:sakakah\n",
      "Procesing record 21:shawinigan\n",
      "Procesing record 22:kapaa\n",
      "Nothing\n",
      "Nothing\n",
      "Procesing record 23:bluff\n",
      "Procesing record 24:tuktoyaktuk\n",
      "Procesing record 25:sao filipe\n",
      "Procesing record 26:srednekolymsk\n",
      "Procesing record 27:havoysund\n",
      "Procesing record 28:lasa\n",
      "Procesing record 29:thompson\n",
      "Procesing record 30:tanout\n",
      "Procesing record 31:georgetown\n",
      "Procesing record 32:hilo\n",
      "Procesing record 33:pokhara\n",
      "Procesing record 34:torbay\n",
      "Procesing record 35:mbaiki\n",
      "Procesing record 36:vao\n",
      "Procesing record 37:mehamn\n",
      "Procesing record 38:coquimbo\n",
      "Procesing record 39:chokurdakh\n",
      "Procesing record 40:kaitangata\n",
      "Procesing record 41:upernavik\n",
      "Procesing record 42:jamestown\n",
      "Procesing record 43:airai\n",
      "Procesing record 44:ushuaia\n",
      "Procesing record 45:verkhnyaya inta\n",
      "Procesing record 46:bambous virieux\n",
      "Procesing record 47:andra\n",
      "Procesing record 48:ilulissat\n",
      "Procesing record 49:punta arenas\n",
      "Procesing record 50:butaritari\n",
      "Procesing record 51:hermanus\n",
      "Procesing record 52:caraquet\n",
      "Procesing record 53:weligama\n",
      "Procesing record 54:la asuncion\n",
      "Procesing record 55:clyde river\n",
      "Procesing record 56:vaini\n",
      "Procesing record 57:longyearbyen\n",
      "Procesing record 58:avera\n",
      "Procesing record 59:cozumel\n",
      "Procesing record 60:sur\n",
      "Procesing record 61:bida\n",
      "Procesing record 62:saint-philippe\n",
      "Procesing record 63:port-gentil\n",
      "Procesing record 64:norman wells\n",
      "Procesing record 65:katsuura\n",
      "Procesing record 66:savelugu\n",
      "Procesing record 67:inta\n",
      "Procesing record 68:iranshahr\n",
      "Procesing record 69:bethel\n",
      "Procesing record 70:port macquarie\n",
      "Procesing record 71:provideniya\n",
      "Procesing record 72:mzimba\n",
      "Procesing record 73:nihommatsu\n",
      "Procesing record 74:tura\n",
      "Procesing record 75:namibe\n",
      "Procesing record 76:satka\n",
      "Procesing record 77:cabo san lucas\n",
      "Procesing record 78:northam\n",
      "Nothing\n",
      "Procesing record 79:padang\n",
      "Nothing\n",
      "Procesing record 80:kodiak\n",
      "Procesing record 81:snasa\n",
      "Procesing record 82:port alfred\n",
      "Procesing record 83:vitim\n",
      "Procesing record 84:wanaka\n",
      "Procesing record 85:bengkulu\n",
      "Procesing record 86:sitka\n",
      "Procesing record 87:saint george\n",
      "Procesing record 88:podgorenskiy\n",
      "Procesing record 89:nikolskoye\n",
      "Procesing record 90:cassilandia\n",
      "Procesing record 91:tuatapere\n",
      "Procesing record 92:kruisfontein\n",
      "Procesing record 93:cururupu\n",
      "Procesing record 94:verkhoyansk\n",
      "Procesing record 95:san quintin\n",
      "Procesing record 96:kavaratti\n",
      "Nothing\n",
      "Procesing record 97:khatanga\n",
      "Procesing record 98:khasan\n",
      "Procesing record 99:banda aceh\n",
      "Procesing record 100:barrow\n",
      "Procesing record 101:botwood\n",
      "Procesing record 102:tasiilaq\n",
      "Procesing record 103:qaanaaq\n",
      "Procesing record 104:cidreira\n",
      "Procesing record 105:kirakira\n",
      "Procesing record 106:albany\n",
      "Procesing record 107:praia da vitoria\n",
      "Nothing\n",
      "Procesing record 108:balkhash\n",
      "Procesing record 109:geraldton\n",
      "Procesing record 110:hami\n",
      "Procesing record 111:maniitsoq\n",
      "Procesing record 112:talcahuano\n",
      "Nothing\n",
      "Procesing record 113:avarua\n",
      "Procesing record 114:kamenka\n",
      "Procesing record 115:mongu\n",
      "Procesing record 116:muzhi\n",
      "Procesing record 117:dalby\n",
      "Procesing record 118:naze\n",
      "Procesing record 119:kuminskiy\n",
      "Procesing record 120:bredasdorp\n",
      "Procesing record 121:portland\n",
      "Procesing record 122:pevek\n",
      "Nothing\n",
      "Procesing record 123:coxim\n",
      "Procesing record 124:dubna\n",
      "Nothing\n",
      "Procesing record 125:hithadhoo\n",
      "Procesing record 126:lakes entrance\n",
      "Procesing record 127:mar del plata\n",
      "Procesing record 128:arraial do cabo\n",
      "Procesing record 129:chitipa\n",
      "Nothing\n",
      "Procesing record 130:arlit\n",
      "Procesing record 131:port elizabeth\n",
      "Procesing record 132:komsomolskiy\n",
      "Nothing\n",
      "Procesing record 133:eidsvag\n",
      "Procesing record 134:saskylakh\n",
      "Nothing\n",
      "Procesing record 135:coihaique\n",
      "Procesing record 136:meulaboh\n",
      "Procesing record 137:viedma\n",
      "Procesing record 138:yanji\n",
      "Procesing record 139:seybaplaya\n",
      "Procesing record 140:huarmey\n",
      "Procesing record 141:dikson\n",
      "Procesing record 142:fairbanks\n",
      "Procesing record 143:libertador general san martin\n",
      "Procesing record 144:sao joao da barra\n",
      "Procesing record 145:salalah\n",
      "Procesing record 146:nanortalik\n",
      "Procesing record 147:vanavara\n",
      "Procesing record 148:chumikan\n",
      "Procesing record 149:moron\n",
      "Procesing record 150:estevan\n",
      "Procesing record 151:tommot\n",
      "Procesing record 152:port hueneme\n",
      "Procesing record 153:vila franca do campo\n",
      "Procesing record 154:xining\n",
      "Procesing record 155:luderitz\n",
      "Procesing record 156:ovsyanka\n",
      "Nothing\n",
      "Nothing\n",
      "Procesing record 157:carnarvon\n",
      "Procesing record 158:taoudenni\n",
      "Procesing record 159:catia la mar\n",
      "Procesing record 160:kavieng\n",
      "Procesing record 161:axim\n",
      "Nothing\n",
      "Procesing record 162:jaggayyapeta\n",
      "Procesing record 163:otuzco\n",
      "Procesing record 164:east london\n",
      "Procesing record 165:turtas\n",
      "Procesing record 166:otradnoye\n",
      "Procesing record 167:tulagi\n",
      "Procesing record 168:san cristobal\n",
      "Procesing record 169:port blair\n",
      "Procesing record 170:andenes\n",
      "Procesing record 171:cran-gevrier\n",
      "Procesing record 172:cherskiy\n",
      "Procesing record 173:peace river\n",
      "Procesing record 174:manokwari\n",
      "Procesing record 175:coolum beach\n",
      "Procesing record 176:grindavik\n",
      "Nothing\n",
      "Procesing record 177:conakry\n",
      "Procesing record 178:seoul\n",
      "Procesing record 179:sangre grande\n",
      "Procesing record 180:lebu\n",
      "Procesing record 181:hasaki\n",
      "Procesing record 182:mount gambier\n",
      "Procesing record 183:yulara\n",
      "Procesing record 184:porto santo\n",
      "Procesing record 185:tiksi\n",
      "Procesing record 186:atambua\n",
      "Nothing\n",
      "Procesing record 187:alugan\n",
      "Procesing record 188:lopukhiv\n",
      "Procesing record 189:nacala\n",
      "Procesing record 190:benghazi\n",
      "Procesing record 191:kalat\n",
      "Procesing record 192:tiznit\n",
      "Procesing record 193:the pas\n",
      "Nothing\n",
      "Procesing record 194:bonavista\n",
      "Procesing record 195:oistins\n",
      "Procesing record 196:suntar\n",
      "Procesing record 197:partizanskoye\n",
      "Procesing record 198:mayumba\n",
      "Procesing record 199:malakal\n",
      "Nothing\n",
      "Procesing record 200:yellowknife\n",
      "Procesing record 201:okhotsk\n",
      "Procesing record 202:eenhana\n",
      "Procesing record 203:ancud\n",
      "Procesing record 204:beringovskiy\n",
      "Procesing record 205:port keats\n",
      "Nothing\n",
      "Procesing record 206:mahebourg\n",
      "Procesing record 207:abu dhabi\n",
      "Procesing record 208:severo-kurilsk\n",
      "Procesing record 209:kaseda\n",
      "Procesing record 210:krasnoselkup\n",
      "Procesing record 211:olafsvik\n",
      "Procesing record 212:mahibadhoo\n",
      "Procesing record 213:plettenberg bay\n",
      "Procesing record 214:kungurtug\n",
      "Procesing record 215:darhan\n",
      "Procesing record 216:west plains\n",
      "Procesing record 217:ponta do sol\n",
      "Procesing record 218:tokoroa\n",
      "Procesing record 219:barra patuca\n",
      "Nothing\n",
      "Procesing record 220:puro\n",
      "Procesing record 221:labytnangi\n",
      "Procesing record 222:peniche\n",
      "Procesing record 223:cabedelo\n",
      "Procesing record 224:sistranda\n",
      "Procesing record 225:pierre\n",
      "Procesing record 226:yilan\n",
      "Procesing record 227:okakarara\n",
      "Procesing record 228:dukat\n",
      "Procesing record 229:madang\n",
      "Procesing record 230:churu\n",
      "Procesing record 231:vung tau\n",
      "Nothing\n",
      "Procesing record 232:codrington\n",
      "Procesing record 233:goderich\n",
      "Procesing record 234:anan\n",
      "Procesing record 235:klaksvik\n",
      "Procesing record 236:ushibuka\n",
      "Procesing record 237:marovoay\n",
      "Procesing record 238:alekseyevka\n",
      "Procesing record 239:impfondo\n",
      "Procesing record 240:adrar\n",
      "Procesing record 241:kastornoye\n",
      "Procesing record 242:apiai\n",
      "Nothing\n",
      "Procesing record 243:isangel\n",
      "Procesing record 244:chuy\n",
      "Procesing record 245:leh\n",
      "Nothing\n",
      "Procesing record 246:lagoa\n",
      "Nothing\n",
      "Procesing record 247:evinayong\n",
      "Procesing record 248:guerrero negro\n",
      "Procesing record 249:senador jose porfirio\n",
      "Procesing record 250:lompoc\n",
      "Procesing record 251:bulalacao\n",
      "Procesing record 252:eldorado\n",
      "Procesing record 253:nsanje\n",
      "Procesing record 254:san ramon\n",
      "Nothing\n",
      "Procesing record 255:mwense\n",
      "Procesing record 256:nhulunbuy\n",
      "Procesing record 257:tessalit\n",
      "Procesing record 258:coracao de jesus\n",
      "Procesing record 259:mudanjiang\n",
      "Procesing record 260:straumen\n",
      "Procesing record 261:husavik\n",
      "Procesing record 262:witu\n",
      "Procesing record 263:cap malheureux\n",
      "Procesing record 264:ucluelet\n"
     ]
    },
    {
     "name": "stdout",
     "output_type": "stream",
     "text": [
      "Procesing record 265:vestmannaeyjar\n",
      "Procesing record 266:kloulklubed\n",
      "Procesing record 267:margate\n",
      "Procesing record 268:san patricio\n",
      "Procesing record 269:shimoda\n",
      "Procesing record 270:aliaga\n",
      "Procesing record 271:rioja\n",
      "Procesing record 272:acari\n",
      "Procesing record 273:bonthe\n",
      "Procesing record 274:tolga\n",
      "Procesing record 275:beidao\n",
      "Procesing record 276:raudeberg\n",
      "Procesing record 277:calama\n",
      "Procesing record 278:rocha\n",
      "Procesing record 279:sylacauga\n",
      "Procesing record 280:kahului\n",
      "Procesing record 281:belem de sao francisco\n",
      "Procesing record 282:llanelli\n",
      "Procesing record 283:ostrovnoy\n",
      "Procesing record 284:key west\n",
      "Procesing record 285:yumen\n",
      "Procesing record 286:yerbogachen\n",
      "Procesing record 287:flinders\n",
      "Procesing record 288:kalmunai\n",
      "Procesing record 289:erdenet\n",
      "Procesing record 290:popondetta\n",
      "Procesing record 291:cockburn town\n",
      "Procesing record 292:elat\n",
      "Procesing record 293:castro\n",
      "Procesing record 294:hay river\n",
      "Procesing record 295:lorengau\n",
      "Procesing record 296:kolokani\n",
      "Procesing record 297:korba\n",
      "Procesing record 298:saldanha\n",
      "Procesing record 299:emba\n",
      "Procesing record 300:bukavu\n",
      "Procesing record 301:prince rupert\n",
      "Procesing record 302:muros\n",
      "Procesing record 303:kaeo\n",
      "Procesing record 304:guarapari\n",
      "Procesing record 305:ostrowiec swietokrzyski\n",
      "Procesing record 306:beyneu\n",
      "Procesing record 307:seddon\n",
      "Procesing record 308:kayerkan\n",
      "Procesing record 309:bubaque\n",
      "Procesing record 310:evensk\n",
      "Procesing record 311:port lincoln\n",
      "Nothing\n",
      "Procesing record 312:tautira\n",
      "Procesing record 313:inhambane\n",
      "Procesing record 314:sungaipenuh\n",
      "Procesing record 315:singaraja\n",
      "Nothing\n",
      "Procesing record 316:karratha\n",
      "Procesing record 317:jacqueville\n",
      "Procesing record 318:machilipatnam\n",
      "Procesing record 319:kokopo\n",
      "Procesing record 320:quatre cocos\n",
      "Procesing record 321:solhan\n",
      "Procesing record 322:labuan\n",
      "Procesing record 323:awjilah\n",
      "Procesing record 324:grand gaube\n",
      "Procesing record 325:sangar\n",
      "Procesing record 326:vila velha\n",
      "Procesing record 327:champerico\n",
      "Procesing record 328:acapulco\n",
      "Procesing record 329:boende\n",
      "Procesing record 330:vostok\n",
      "Procesing record 331:te anau\n",
      "Procesing record 332:diffa\n",
      "Procesing record 333:sandakan\n",
      "Procesing record 334:ambilobe\n",
      "Procesing record 335:samarai\n",
      "Procesing record 336:comodoro rivadavia\n",
      "Procesing record 337:diego de almagro\n",
      "Procesing record 338:maceio\n",
      "Procesing record 339:erzin\n",
      "Procesing record 340:ola\n",
      "Procesing record 341:zaria\n",
      "Procesing record 342:kuopio\n",
      "Procesing record 343:wiang sa\n",
      "Procesing record 344:itarema\n",
      "Procesing record 345:nouakchott\n",
      "Procesing record 346:arenal\n",
      "Procesing record 347:whitehorse\n",
      "Procesing record 348:jorpeland\n",
      "Procesing record 349:port hardy\n",
      "Procesing record 350:souillac\n",
      "Procesing record 351:sotouboua\n",
      "Nothing\n",
      "Procesing record 352:mushie\n",
      "Procesing record 353:luganville\n",
      "Procesing record 354:kiunga\n",
      "Nothing\n",
      "Procesing record 355:chicama\n",
      "Procesing record 356:talara\n",
      "Procesing record 357:morant bay\n",
      "Procesing record 358:aksu\n",
      "Procesing record 359:alice springs\n",
      "Procesing record 360:kulhudhuffushi\n",
      "Procesing record 361:broken hill\n",
      "Nothing\n",
      "Procesing record 362:le port\n",
      "Procesing record 363:skibotn\n",
      "Procesing record 364:kuusamo\n",
      "Procesing record 365:oxford\n",
      "Procesing record 366:rancho palos verdes\n",
      "Procesing record 367:santa maria\n",
      "Procesing record 368:kathu\n",
      "Procesing record 369:cepu\n",
      "Procesing record 370:sikasso\n",
      "Procesing record 371:hickory\n",
      "Procesing record 372:si sa ket\n",
      "Procesing record 373:hearst\n",
      "Procesing record 374:rio gallegos\n",
      "Procesing record 375:sao jose da coroa grande\n",
      "Procesing record 376:sinnamary\n",
      "Procesing record 377:sawakin\n",
      "Procesing record 378:faanui\n",
      "Procesing record 379:amalapuram\n",
      "Procesing record 380:kurchum\n",
      "Procesing record 381:kibala\n",
      "Procesing record 382:de-kastri\n",
      "Procesing record 383:rishikesh\n",
      "Procesing record 384:seara\n",
      "Procesing record 385:batagay-alyta\n",
      "Nothing\n",
      "Procesing record 386:tirumullaivasal\n",
      "Procesing record 387:lake city\n",
      "Procesing record 388:shingu\n",
      "Procesing record 389:veraval\n",
      "Procesing record 390:arman\n",
      "Procesing record 391:dolinsk\n",
      "Procesing record 392:dawson creek\n",
      "Procesing record 393:courtenay\n",
      "Procesing record 394:pinheiro\n",
      "Procesing record 395:zhigansk\n",
      "Procesing record 396:san bartolome de tirajana\n",
      "Procesing record 397:hovd\n",
      "Procesing record 398:richards bay\n",
      "Procesing record 399:nome\n",
      "Procesing record 400:slavutych\n",
      "Procesing record 401:luanda\n",
      "Procesing record 402:severodvinsk\n",
      "Procesing record 403:bandarbeyla\n",
      "Procesing record 404:teya\n",
      "Procesing record 405:ankara\n",
      "Procesing record 406:oriximina\n",
      "Procesing record 407:esmeraldas\n",
      "Procesing record 408:khabary\n",
      "Procesing record 409:port moresby\n",
      "Procesing record 410:krasnyy chikoy\n",
      "Procesing record 411:altay\n",
      "Procesing record 412:bowen\n",
      "Procesing record 413:nuevo progreso\n",
      "Procesing record 414:biak\n",
      "Procesing record 415:filotion\n",
      "Procesing record 416:ahipara\n",
      "Procesing record 417:leningradskiy\n",
      "Procesing record 418:changli\n",
      "Procesing record 419:tazovskiy\n",
      "Procesing record 420:shubarkuduk\n",
      "Procesing record 421:ponta delgada\n",
      "Procesing record 422:colares\n",
      "Procesing record 423:jiexiu\n",
      "Procesing record 424:mayo\n",
      "Procesing record 425:calabozo\n",
      "Procesing record 426:edd\n",
      "Procesing record 427:sabha\n",
      "Procesing record 428:werda\n",
      "Procesing record 429:soe\n",
      "Procesing record 430:muramvya\n",
      "Procesing record 431:khani\n",
      "Procesing record 432:synya\n",
      "Procesing record 433:igrim\n",
      "Procesing record 434:yakovlevka\n",
      "Procesing record 435:fulton\n",
      "Procesing record 436:nemuro\n",
      "Procesing record 437:valdosta\n",
      "Procesing record 438:dunbar\n",
      "Procesing record 439:zdvinsk\n",
      "Procesing record 440:belaya kholunitsa\n",
      "Procesing record 441:phaltan\n",
      "Procesing record 442:marawi\n",
      "Procesing record 443:kindu\n",
      "Procesing record 444:marquette\n",
      "Nothing\n",
      "Procesing record 445:burriana\n",
      "Procesing record 446:talnakh\n",
      "Procesing record 447:port shepstone\n",
      "Nothing\n",
      "Procesing record 448:hazorasp\n",
      "Procesing record 449:paracuru\n",
      "Procesing record 450:kilembe\n",
      "Nothing\n",
      "Procesing record 451:laguna\n",
      "Procesing record 452:bud\n",
      "Nothing\n",
      "Procesing record 453:vitry-le-francois\n",
      "Procesing record 454:chiknayakanhalli\n",
      "Procesing record 455:umea\n",
      "Procesing record 456:tahta\n",
      "Procesing record 457:szczecinek\n",
      "Procesing record 458:quincy\n",
      "Procesing record 459:elk plain\n",
      "Procesing record 460:outjo\n",
      "Procesing record 461:kuryk\n",
      "Procesing record 462:eyemouth\n",
      "Procesing record 463:arinos\n",
      "Procesing record 464:chifeng\n",
      "Procesing record 465:rawson\n",
      "Procesing record 466:lavrentiya\n",
      "Procesing record 467:half moon bay\n",
      "Procesing record 468:saint-joseph\n",
      "Procesing record 469:la libertad\n",
      "Procesing record 470:tevriz\n",
      "Procesing record 471:kaoma\n",
      "Procesing record 472:butterworth\n",
      "Nothing\n",
      "Procesing record 473:takoradi\n",
      "Procesing record 474:pangnirtung\n",
      "Procesing record 475:hedaru\n",
      "Procesing record 476:alyangula\n",
      "Nothing\n",
      "Procesing record 477:egvekinot\n",
      "Procesing record 478:kununurra\n",
      "Procesing record 479:ayan\n",
      "Procesing record 480:oshakati\n",
      "Procesing record 481:nehe\n",
      "Procesing record 482:juneau\n",
      "Procesing record 483:mecca\n",
      "Procesing record 484:yeppoon\n",
      "Procesing record 485:ahuimanu\n",
      "Procesing record 486:kuching\n",
      "Procesing record 487:fortuna\n",
      "Procesing record 488:bay city\n",
      "Procesing record 489:roma\n",
      "Procesing record 490:dingle\n",
      "Procesing record 491:dankov\n",
      "Procesing record 492:riyadh\n",
      "Procesing record 493:poum\n",
      "Procesing record 494:kondinskoye\n",
      "Procesing record 495:sobolevo\n",
      "Procesing record 496:shangzhi\n",
      "Procesing record 497:mago\n",
      "Procesing record 498:boyolangu\n",
      "Procesing record 499:messina\n",
      "Procesing record 500:namatanai\n",
      "Procesing record 501:swellendam\n",
      "Procesing record 502:porto tolle\n",
      "Procesing record 503:kutum\n",
      "Procesing record 504:wynyard\n",
      "Procesing record 505:iqaluit\n",
      "Nothing\n",
      "Nothing\n",
      "Procesing record 506:maridi\n",
      "Procesing record 507:homer\n",
      "Procesing record 508:boromo\n",
      "Procesing record 509:celestun\n",
      "Procesing record 510:kangaatsiaq\n",
      "Procesing record 511:santiago de cuba\n",
      "Procesing record 512:monrovia\n",
      "Procesing record 513:qaqortoq\n",
      "Procesing record 514:san andres\n",
      "Procesing record 515:nukus\n",
      "Procesing record 516:palmer\n",
      "Procesing record 517:superior\n",
      "Procesing record 518:kudahuvadhoo\n",
      "Procesing record 519:asau\n",
      "Procesing record 520:bonfim\n",
      "Procesing record 521:nioki\n",
      "Procesing record 522:khandyga\n",
      "Nothing\n",
      "Procesing record 523:haines junction\n",
      "Nothing\n",
      "Procesing record 524:itaperuna\n",
      "Procesing record 525:pa sang\n",
      "Procesing record 526:pueblo\n",
      "Procesing record 527:westport\n",
      "Procesing record 528:lazaro cardenas\n",
      "Procesing record 529:reconquista\n",
      "Procesing record 530:nichinan\n",
      "Procesing record 531:dhidhdhoo\n"
     ]
    },
    {
     "name": "stdout",
     "output_type": "stream",
     "text": [
      "Procesing record 532:umm kaddadah\n",
      "Procesing record 533:aloleng\n",
      "Procesing record 534:mapiri\n",
      "Procesing record 535:puerto rondon\n",
      "Procesing record 536:umm lajj\n",
      "Nothing\n",
      "Procesing record 537:matagami\n",
      "Procesing record 538:zinder\n",
      "Procesing record 539:buala\n",
      "Procesing record 540:alofi\n",
      "Procesing record 541:kasongo-lunda\n",
      "Procesing record 542:marsh harbour\n",
      "Procesing record 543:saint-georges\n",
      "Procesing record 544:wajid\n",
      "Procesing record 545:ati\n",
      "Procesing record 546:hereford\n",
      "Procesing record 547:robat karim\n",
      "Procesing record 548:alekseyevsk\n",
      "Procesing record 549:lishui\n",
      "Procesing record 550:tiarei\n",
      "Procesing record 551:tonantins\n",
      "Procesing record 552:azul\n",
      "Procesing record 553:trairi\n",
      "Procesing record 554:nelson bay\n",
      "Procesing record 555:kysyl-syr\n",
      "Procesing record 556:ruteng\n",
      "Procesing record 557:tibacuy\n",
      "Procesing record 558:hokitika\n",
      "Procesing record 559:kaspiyskiy\n",
      "Procesing record 560:teguldet\n",
      "Nothing\n",
      "Procesing record 561:vuktyl\n",
      "Procesing record 562:kabin buri\n",
      "Procesing record 563:nicoya\n",
      "Procesing record 564:puerto colombia\n",
      "Nothing\n",
      "Procesing record 565:mount isa\n",
      "Nothing\n"
     ]
    }
   ],
   "source": [
    "temp=[]\n",
    "lat=[]\n",
    "lon=[]\n",
    "hum=[]\n",
    "cloud=[]\n",
    "wind=[]\n",
    "max_temp=[]\n",
    "print(f\"Begining Data retrieval\")\n",
    "for city in cities:\n",
    "    response_r=requests.get(query_url+city+\"&units=imperial\")\n",
    "    response=response_r.json()\n",
    "    try:\n",
    "        temp.append(response['main']['temp'])\n",
    "        lat.append(response['coord']['lat'])\n",
    "        lon.append(response['coord']['lon'])\n",
    "        hum.append(response['main']['humidity'])\n",
    "        cloud.append(response['clouds']['all'])\n",
    "        wind.append(response['wind']['speed'])\n",
    "        max_temp.append(response['main']['temp_max'])\n",
    "        print(f\"Procesing record {len(temp)}:{city}\")\n",
    "    except:\n",
    "        print('Nothing')\n",
    "        pass\n",
    "    \n"
   ]
  },
  {
   "cell_type": "code",
   "execution_count": null,
   "metadata": {},
   "outputs": [],
   "source": []
  },
  {
   "cell_type": "markdown",
   "metadata": {},
   "source": [
    "### Perform API Calls\n",
    "* Perform a weather check on each city using a series of successive API calls.\n",
    "* Include a print log of each city as it'sbeing processed (with the city number and city name).\n"
   ]
  },
  {
   "cell_type": "code",
   "execution_count": null,
   "metadata": {},
   "outputs": [],
   "source": []
  },
  {
   "cell_type": "markdown",
   "metadata": {},
   "source": [
    "### Convert Raw Data to DataFrame\n",
    "* Export the city data into a .csv.\n",
    "* Display the DataFrame"
   ]
  },
  {
   "cell_type": "code",
   "execution_count": 8,
   "metadata": {},
   "outputs": [
    {
     "data": {
      "text/html": [
       "<div>\n",
       "<style scoped>\n",
       "    .dataframe tbody tr th:only-of-type {\n",
       "        vertical-align: middle;\n",
       "    }\n",
       "\n",
       "    .dataframe tbody tr th {\n",
       "        vertical-align: top;\n",
       "    }\n",
       "\n",
       "    .dataframe thead th {\n",
       "        text-align: right;\n",
       "    }\n",
       "</style>\n",
       "<table border=\"1\" class=\"dataframe\">\n",
       "  <thead>\n",
       "    <tr style=\"text-align: right;\">\n",
       "      <th></th>\n",
       "      <th>City</th>\n",
       "      <th>Latitude</th>\n",
       "      <th>Longtitude</th>\n",
       "      <th>Temp</th>\n",
       "      <th>Max Temp</th>\n",
       "      <th>Cloudiness</th>\n",
       "      <th>Humidity</th>\n",
       "      <th>Wind</th>\n",
       "    </tr>\n",
       "  </thead>\n",
       "  <tbody>\n",
       "    <tr>\n",
       "      <td>0</td>\n",
       "      <td>samusu</td>\n",
       "      <td>60.92</td>\n",
       "      <td>-46.05</td>\n",
       "      <td>15.80</td>\n",
       "      <td>15.80</td>\n",
       "      <td>75.0</td>\n",
       "      <td>66.0</td>\n",
       "      <td>4.70</td>\n",
       "    </tr>\n",
       "    <tr>\n",
       "      <td>1</td>\n",
       "      <td>narsaq</td>\n",
       "      <td>-9.80</td>\n",
       "      <td>-139.03</td>\n",
       "      <td>80.69</td>\n",
       "      <td>80.69</td>\n",
       "      <td>2.0</td>\n",
       "      <td>80.0</td>\n",
       "      <td>16.53</td>\n",
       "    </tr>\n",
       "    <tr>\n",
       "      <td>2</td>\n",
       "      <td>atuona</td>\n",
       "      <td>22.29</td>\n",
       "      <td>114.16</td>\n",
       "      <td>62.13</td>\n",
       "      <td>63.00</td>\n",
       "      <td>100.0</td>\n",
       "      <td>96.0</td>\n",
       "      <td>8.01</td>\n",
       "    </tr>\n",
       "    <tr>\n",
       "      <td>3</td>\n",
       "      <td>victoria</td>\n",
       "      <td>-33.93</td>\n",
       "      <td>18.42</td>\n",
       "      <td>65.68</td>\n",
       "      <td>66.99</td>\n",
       "      <td>75.0</td>\n",
       "      <td>93.0</td>\n",
       "      <td>10.29</td>\n",
       "    </tr>\n",
       "    <tr>\n",
       "      <td>4</td>\n",
       "      <td>cape town</td>\n",
       "      <td>-23.12</td>\n",
       "      <td>-134.97</td>\n",
       "      <td>78.44</td>\n",
       "      <td>78.44</td>\n",
       "      <td>0.0</td>\n",
       "      <td>79.0</td>\n",
       "      <td>15.35</td>\n",
       "    </tr>\n",
       "    <tr>\n",
       "      <td>...</td>\n",
       "      <td>...</td>\n",
       "      <td>...</td>\n",
       "      <td>...</td>\n",
       "      <td>...</td>\n",
       "      <td>...</td>\n",
       "      <td>...</td>\n",
       "      <td>...</td>\n",
       "      <td>...</td>\n",
       "    </tr>\n",
       "    <tr>\n",
       "      <td>560</td>\n",
       "      <td>kudahuvadhoo</td>\n",
       "      <td>63.86</td>\n",
       "      <td>57.31</td>\n",
       "      <td>-8.77</td>\n",
       "      <td>-8.77</td>\n",
       "      <td>91.0</td>\n",
       "      <td>98.0</td>\n",
       "      <td>1.74</td>\n",
       "    </tr>\n",
       "    <tr>\n",
       "      <td>561</td>\n",
       "      <td>asau</td>\n",
       "      <td>13.95</td>\n",
       "      <td>101.72</td>\n",
       "      <td>73.53</td>\n",
       "      <td>73.53</td>\n",
       "      <td>84.0</td>\n",
       "      <td>84.0</td>\n",
       "      <td>3.15</td>\n",
       "    </tr>\n",
       "    <tr>\n",
       "      <td>562</td>\n",
       "      <td>bonfim</td>\n",
       "      <td>10.15</td>\n",
       "      <td>-85.45</td>\n",
       "      <td>73.00</td>\n",
       "      <td>73.00</td>\n",
       "      <td>0.0</td>\n",
       "      <td>77.0</td>\n",
       "      <td>20.00</td>\n",
       "    </tr>\n",
       "    <tr>\n",
       "      <td>563</td>\n",
       "      <td>nioki</td>\n",
       "      <td>10.99</td>\n",
       "      <td>-74.95</td>\n",
       "      <td>79.11</td>\n",
       "      <td>79.11</td>\n",
       "      <td>25.0</td>\n",
       "      <td>79.0</td>\n",
       "      <td>17.60</td>\n",
       "    </tr>\n",
       "    <tr>\n",
       "      <td>564</td>\n",
       "      <td>khandyga</td>\n",
       "      <td>-20.73</td>\n",
       "      <td>139.50</td>\n",
       "      <td>75.81</td>\n",
       "      <td>75.81</td>\n",
       "      <td>100.0</td>\n",
       "      <td>86.0</td>\n",
       "      <td>13.35</td>\n",
       "    </tr>\n",
       "  </tbody>\n",
       "</table>\n",
       "<p>565 rows × 8 columns</p>\n",
       "</div>"
      ],
      "text/plain": [
       "             City  Latitude  Longtitude   Temp  Max Temp  Cloudiness  \\\n",
       "0          samusu     60.92      -46.05  15.80     15.80        75.0   \n",
       "1          narsaq     -9.80     -139.03  80.69     80.69         2.0   \n",
       "2          atuona     22.29      114.16  62.13     63.00       100.0   \n",
       "3        victoria    -33.93       18.42  65.68     66.99        75.0   \n",
       "4       cape town    -23.12     -134.97  78.44     78.44         0.0   \n",
       "..            ...       ...         ...    ...       ...         ...   \n",
       "560  kudahuvadhoo     63.86       57.31  -8.77     -8.77        91.0   \n",
       "561          asau     13.95      101.72  73.53     73.53        84.0   \n",
       "562        bonfim     10.15      -85.45  73.00     73.00         0.0   \n",
       "563         nioki     10.99      -74.95  79.11     79.11        25.0   \n",
       "564      khandyga    -20.73      139.50  75.81     75.81       100.0   \n",
       "\n",
       "     Humidity   Wind  \n",
       "0        66.0   4.70  \n",
       "1        80.0  16.53  \n",
       "2        96.0   8.01  \n",
       "3        93.0  10.29  \n",
       "4        79.0  15.35  \n",
       "..        ...    ...  \n",
       "560      98.0   1.74  \n",
       "561      84.0   3.15  \n",
       "562      77.0  20.00  \n",
       "563      79.0  17.60  \n",
       "564      86.0  13.35  \n",
       "\n",
       "[565 rows x 8 columns]"
      ]
     },
     "execution_count": 8,
     "metadata": {},
     "output_type": "execute_result"
    }
   ],
   "source": [
    "city_dict={\"City\":cities,\n",
    "         \"Latitude\":lat,\n",
    "         \"Longtitude\":lon,\n",
    "         \"Temp\":temp,\n",
    "         \"Max Temp\":max_temp,\n",
    "         \"Cloudiness\":cloud,\n",
    "         \"Humidity\":hum,\n",
    "         \"Wind\":wind }\n",
    "            \n",
    "        \n",
    "city_temp=pd.concat([pd.Series(v,name=k) for k,v in city_dict.items()],axis=1)\n",
    "city_temp=city_temp.dropna()\n",
    "city_temp"
   ]
  },
  {
   "cell_type": "code",
   "execution_count": 9,
   "metadata": {},
   "outputs": [],
   "source": [
    "city_temp.to_csv('cities.csv')"
   ]
  },
  {
   "cell_type": "markdown",
   "metadata": {},
   "source": [
    "### Plotting the Data\n",
    "* Use proper labeling of the plots using plot titles (including date of analysis) and axes labels.\n",
    "* Save the plotted figures as .pngs."
   ]
  },
  {
   "cell_type": "markdown",
   "metadata": {},
   "source": [
    "#### Latitude vs. Temperature Plot"
   ]
  },
  {
   "cell_type": "code",
   "execution_count": 10,
   "metadata": {
    "scrolled": true
   },
   "outputs": [
    {
     "data": {
      "text/plain": [
       "Text(0.5, 1.0, 'Latitude vs. Temperature Plot')"
      ]
     },
     "execution_count": 10,
     "metadata": {},
     "output_type": "execute_result"
    },
    {
     "data": {
      "image/png": "[encoded data removed]",
      "text/plain": [
       "<Figure size 432x288 with 1 Axes>"
      ]
     },
     "metadata": {
      "needs_background": "light"
     },
     "output_type": "display_data"
    }
   ],
   "source": [
    "plt.scatter(lat,temp)\n",
    "plt.xlabel('Latitude')\n",
    "plt.ylabel('Temperature')\n",
    "plt.title('Latitude vs. Temperature Plot')"
   ]
  },
  {
   "cell_type": "markdown",
   "metadata": {},
   "source": [
    "#### Latitude vs. Humidity Plot"
   ]
  },
  {
   "cell_type": "code",
   "execution_count": 11,
   "metadata": {},
   "outputs": [
    {
     "data": {
      "text/plain": [
       "Text(0.5, 1.0, 'Latitude vs. Humidity Plot')"
      ]
     },
     "execution_count": 11,
     "metadata": {},
     "output_type": "execute_result"
    },
    {
     "data": {
      "image/png": "[encoded data removed]",
      "text/plain": [
       "<Figure size 432x288 with 1 Axes>"
      ]
     },
     "metadata": {
      "needs_background": "light"
     },
     "output_type": "display_data"
    }
   ],
   "source": [
    "plt.scatter(lat,hum)\n",
    "plt.xlabel('Latitude')\n",
    "plt.ylabel('Humidity')\n",
    "plt.title('Latitude vs. Humidity Plot')"
   ]
  },
  {
   "cell_type": "markdown",
   "metadata": {},
   "source": [
    "#### Latitude vs. Cloudiness Plot"
   ]
  },
  {
   "cell_type": "code",
   "execution_count": 12,
   "metadata": {},
   "outputs": [
    {
     "data": {
      "text/plain": [
       "Text(0.5, 1.0, 'Latitude vs. Cloudiness Plot')"
      ]
     },
     "execution_count": 12,
     "metadata": {},
     "output_type": "execute_result"
    },
    {
     "data": {
      "image/png": "[encoded data removed]",
      "text/plain": [
       "<Figure size 432x288 with 1 Axes>"
      ]
     },
     "metadata": {
      "needs_background": "light"
     },
     "output_type": "display_data"
    }
   ],
   "source": [
    "plt.scatter(lat,cloud)\n",
    "plt.xlabel('Latitude')\n",
    "plt.ylabel('Cloudiness')\n",
    "plt.title('Latitude vs. Cloudiness Plot')"
   ]
  },
  {
   "cell_type": "markdown",
   "metadata": {},
   "source": [
    "#### Latitude vs. Wind Speed Plot"
   ]
  },
  {
   "cell_type": "code",
   "execution_count": 13,
   "metadata": {},
   "outputs": [
    {
     "data": {
      "text/plain": [
       "Text(0.5, 1.0, 'Latitude vs. Wind Speed')"
      ]
     },
     "execution_count": 13,
     "metadata": {},
     "output_type": "execute_result"
    },
    {
     "data": {
      "image/png": "[encoded data removed]",
      "text/plain": [
       "<Figure size 432x288 with 1 Axes>"
      ]
     },
     "metadata": {
      "needs_background": "light"
     },
     "output_type": "display_data"
    }
   ],
   "source": [
    "plt.scatter(lat,wind)\n",
    "plt.xlabel('Latitude')\n",
    "plt.ylabel('Wind Speed')\n",
    "plt.title('Latitude vs. Wind Speed')"
   ]
  },
  {
   "cell_type": "markdown",
   "metadata": {},
   "source": [
    "## Linear Regression"
   ]
  },
  {
   "cell_type": "code",
   "execution_count": 14,
   "metadata": {},
   "outputs": [],
   "source": [
    "# OPTIONAL: Create a function to create Linear Regression plots\n"
   ]
  },
  {
   "cell_type": "code",
   "execution_count": 15,
   "metadata": {},
   "outputs": [],
   "source": [
    "# Create Northern and Southern Hemisphere DataFrames\n",
    "city_north=city_temp[city_temp['Latitude']>=0]"
   ]
  },
  {
   "cell_type": "markdown",
   "metadata": {},
   "source": [
    "####  Northern Hemisphere - Max Temp vs. Latitude Linear Regression"
   ]
  },
  {
   "cell_type": "code",
   "execution_count": 16,
   "metadata": {},
   "outputs": [
    {
     "name": "stdout",
     "output_type": "stream",
     "text": [
      "R squard: -0.8758451571830099\n"
     ]
    },
    {
     "data": {
      "image/png": "[encoded data removed]",
      "text/plain": [
       "<Figure size 432x288 with 1 Axes>"
      ]
     },
     "metadata": {
      "needs_background": "light"
     },
     "output_type": "display_data"
    }
   ],
   "source": [
    "x_values = city_north['Latitude'].astype('float')\n",
    "y_values = city_north['Max Temp'].astype('float')\n",
    "\n",
    "# Run linear regression\n",
    "(slope, intercept, rvalue, pvalue, stderr) = linregress(x_values, y_values)\n",
    "regress_values = x_values * slope + intercept\n",
    "line_eq = \"y = \" + str(round(slope,2)) + \"x + \" + str(round(intercept,2))\n",
    "plt.scatter(x_values,y_values)\n",
    "\n",
    "# Plot regression line\n",
    "plt.plot(x_values,regress_values,\"r-\")\n",
    "plt.annotate(line_eq,(10,0),fontsize=15,color=\"red\")\n",
    "\n",
    "# Label plot\n",
    "plt.title('Northern Hemisphere - Max Temp vs. Latitude Linear Regression')\n",
    "plt.xlabel('Latitude')\n",
    "plt.ylabel('Max Temperature')\n",
    "\n",
    "# Print r square value\n",
    "print(f\"R squard: {rvalue}\")\n",
    "\n",
    "# Show plot\n",
    "plt.show()"
   ]
  },
  {
   "cell_type": "markdown",
   "metadata": {},
   "source": [
    "####  Southern Hemisphere - Max Temp vs. Latitude Linear Regression"
   ]
  },
  {
   "cell_type": "code",
   "execution_count": 17,
   "metadata": {},
   "outputs": [
    {
     "name": "stdout",
     "output_type": "stream",
     "text": [
      "R squard: 0.5033548034780656\n"
     ]
    },
    {
     "data": {
      "image/png": "[encoded data removed]",
      "text/plain": [
       "<Figure size 432x288 with 1 Axes>"
      ]
     },
     "metadata": {
      "needs_background": "light"
     },
     "output_type": "display_data"
    }
   ],
   "source": [
    "city_south=city_temp[city_temp['Latitude']<0]\n",
    "x_values = city_south['Latitude'].astype('float')\n",
    "y_values = city_south['Max Temp'].astype('float')\n",
    "\n",
    "# Run linear regression\n",
    "(slope, intercept, rvalue, pvalue, stderr) = linregress(x_values, y_values)\n",
    "regress_values = x_values * slope + intercept\n",
    "line_eq = \"y = \" + str(round(slope,2)) + \"x + \" + str(round(intercept,2))\n",
    "plt.scatter(x_values,y_values)\n",
    "\n",
    "# Plot regression line\n",
    "plt.plot(x_values,regress_values,\"r-\")\n",
    "plt.annotate(line_eq,(-50,90),fontsize=15,color=\"red\")\n",
    "\n",
    "# Label plot\n",
    "plt.title('Southern Hemisphere - Max Temp vs. Latitude Linear Regression')\n",
    "plt.xlabel('Latitude')\n",
    "plt.ylabel('Max Temperature')\n",
    "\n",
    "# Print r square value\n",
    "print(f\"R squard: {rvalue}\")\n",
    "\n",
    "# Show plot\n",
    "plt.show()"
   ]
  },
  {
   "cell_type": "markdown",
   "metadata": {},
   "source": [
    "####  Northern Hemisphere - Humidity (%) vs. Latitude Linear Regression"
   ]
  },
  {
   "cell_type": "code",
   "execution_count": 18,
   "metadata": {},
   "outputs": [
    {
     "name": "stdout",
     "output_type": "stream",
     "text": [
      "R squard: 0.5121280691825474\n"
     ]
    },
    {
     "data": {
      "image/png": "[encoded data removed]",
      "text/plain": [
       "<Figure size 432x288 with 1 Axes>"
      ]
     },
     "metadata": {
      "needs_background": "light"
     },
     "output_type": "display_data"
    }
   ],
   "source": [
    "x_values = city_north['Latitude'].astype('float')\n",
    "y_values = city_north['Humidity'].astype('float')\n",
    "\n",
    "# Run linear regression\n",
    "(slope, intercept, rvalue, pvalue, stderr) = linregress(x_values, y_values)\n",
    "regress_values = x_values * slope + intercept\n",
    "line_eq = \"y = \" + str(round(slope,2)) + \"x + \" + str(round(intercept,2))\n",
    "plt.scatter(x_values,y_values)\n",
    "\n",
    "# Plot regression line\n",
    "plt.plot(x_values,regress_values,\"r-\")\n",
    "plt.annotate(line_eq,(40,20),fontsize=15,color=\"red\")\n",
    "\n",
    "# Label plot\n",
    "plt.title('Northern Hemisphere - Humidity vs. Latitude Linear Regression')\n",
    "plt.xlabel('Latitude')\n",
    "plt.ylabel('Humidity')\n",
    "\n",
    "# Print r square value\n",
    "print(f\"R squard: {rvalue}\")\n",
    "\n",
    "# Show plot\n",
    "plt.show()"
   ]
  },
  {
   "cell_type": "markdown",
   "metadata": {},
   "source": [
    "####  Southern Hemisphere - Humidity (%) vs. Latitude Linear Regression"
   ]
  },
  {
   "cell_type": "code",
   "execution_count": 19,
   "metadata": {},
   "outputs": [
    {
     "name": "stdout",
     "output_type": "stream",
     "text": [
      "R squard: 0.10658613867724606\n"
     ]
    },
    {
     "data": {
      "image/png": "[encoded data removed]",
      "text/plain": [
       "<Figure size 432x288 with 1 Axes>"
      ]
     },
     "metadata": {
      "needs_background": "light"
     },
     "output_type": "display_data"
    }
   ],
   "source": [
    "x_values = city_south['Latitude'].astype('float')\n",
    "y_values = city_south['Humidity'].astype('float')\n",
    "\n",
    "# Run linear regression\n",
    "(slope, intercept, rvalue, pvalue, stderr) = linregress(x_values, y_values)\n",
    "regress_values = x_values * slope + intercept\n",
    "line_eq = \"y = \" + str(round(slope,2)) + \"x + \" + str(round(intercept,2))\n",
    "plt.scatter(x_values,y_values)\n",
    "\n",
    "# Plot regression line\n",
    "plt.plot(x_values,regress_values,\"r-\")\n",
    "plt.annotate(line_eq,(-20,20),fontsize=15,color=\"red\")\n",
    "\n",
    "# Label plot\n",
    "plt.title('Southern Hemisphere - Humidity vs. Latitude Linear Regression')\n",
    "plt.xlabel('Latitude')\n",
    "plt.ylabel('Humidity')\n",
    "\n",
    "# Print r square value\n",
    "print(f\"R squard: {rvalue}\")\n",
    "\n",
    "# Show plot\n",
    "plt.show()"
   ]
  },
  {
   "cell_type": "markdown",
   "metadata": {},
   "source": [
    "####  Northern Hemisphere - Cloudiness (%) vs. Latitude Linear Regression"
   ]
  },
  {
   "cell_type": "code",
   "execution_count": 20,
   "metadata": {},
   "outputs": [
    {
     "name": "stdout",
     "output_type": "stream",
     "text": [
      "R squard: 0.2506392834340744\n"
     ]
    },
    {
     "data": {
      "image/png": "[encoded data removed]",
      "text/plain": [
       "<Figure size 432x288 with 1 Axes>"
      ]
     },
     "metadata": {
      "needs_background": "light"
     },
     "output_type": "display_data"
    }
   ],
   "source": [
    "x_values = city_north['Latitude'].astype('float')\n",
    "y_values = city_north['Cloudiness'].astype('float')\n",
    "\n",
    "# Run linear regression\n",
    "(slope, intercept, rvalue, pvalue, stderr) = linregress(x_values, y_values)\n",
    "regress_values = x_values * slope + intercept\n",
    "line_eq = \"y = \" + str(round(slope,2)) + \"x + \" + str(round(intercept,2))\n",
    "plt.scatter(x_values,y_values)\n",
    "\n",
    "# Plot regression line\n",
    "plt.plot(x_values,regress_values,\"r-\")\n",
    "plt.annotate(line_eq,(40,20),fontsize=15,color=\"red\")\n",
    "\n",
    "# Label plot\n",
    "plt.title('Northern Hemisphere - Cloudiness vs. Latitude Linear Regression')\n",
    "plt.xlabel('Latitude')\n",
    "plt.ylabel('Cloudiness(%)')\n",
    "\n",
    "# Print r square value\n",
    "print(f\"R squard: {rvalue}\")\n",
    "\n",
    "# Show plot\n",
    "plt.show()"
   ]
  },
  {
   "cell_type": "markdown",
   "metadata": {},
   "source": [
    "####  Southern Hemisphere - Cloudiness (%) vs. Latitude Linear Regression"
   ]
  },
  {
   "cell_type": "code",
   "execution_count": 21,
   "metadata": {},
   "outputs": [
    {
     "name": "stdout",
     "output_type": "stream",
     "text": [
      "R squard: 0.1520329731547215\n"
     ]
    },
    {
     "data": {
      "image/png": "[encoded data removed]",
      "text/plain": [
       "<Figure size 432x288 with 1 Axes>"
      ]
     },
     "metadata": {
      "needs_background": "light"
     },
     "output_type": "display_data"
    }
   ],
   "source": [
    "x_values = city_south['Latitude'].astype('float')\n",
    "y_values = city_south['Cloudiness'].astype('float')\n",
    "\n",
    "# Run linear regression\n",
    "(slope, intercept, rvalue, pvalue, stderr) = linregress(x_values, y_values)\n",
    "regress_values = x_values * slope + intercept\n",
    "line_eq = \"y = \" + str(round(slope,2)) + \"x + \" + str(round(intercept,2))\n",
    "plt.scatter(x_values,y_values)\n",
    "\n",
    "# Plot regression line\n",
    "plt.plot(x_values,regress_values,\"r-\")\n",
    "plt.annotate(line_eq,(-50,100),fontsize=15,color=\"red\")\n",
    "\n",
    "# Label plot\n",
    "plt.title('Southern Hemisphere - Cloudiness (%) vs. Latitude Linear Regression')\n",
    "plt.xlabel('Latitude')\n",
    "plt.ylabel('Cloudiness(%)')\n",
    "\n",
    "# Print r square value\n",
    "print(f\"R squard: {rvalue}\")\n",
    "\n",
    "# Show plot\n",
    "plt.show()"
   ]
  },
  {
   "cell_type": "markdown",
   "metadata": {},
   "source": [
    "####  Northern Hemisphere - Wind Speed (mph) vs. Latitude Linear Regression"
   ]
  },
  {
   "cell_type": "code",
   "execution_count": 22,
   "metadata": {},
   "outputs": [
    {
     "name": "stdout",
     "output_type": "stream",
     "text": [
      "R squard: 0.04129573846234382\n"
     ]
    },
    {
     "data": {
      "image/png": "[encoded data removed]",
      "text/plain": [
       "<Figure size 432x288 with 1 Axes>"
      ]
     },
     "metadata": {
      "needs_background": "light"
     },
     "output_type": "display_data"
    }
   ],
   "source": [
    "x_values = city_north['Latitude'].astype('float')\n",
    "y_values = city_north['Wind'].astype('float')\n",
    "\n",
    "# Run linear regression\n",
    "(slope, intercept, rvalue, pvalue, stderr) = linregress(x_values, y_values)\n",
    "regress_values = x_values * slope + intercept\n",
    "line_eq = \"y = \" + str(round(slope,2)) + \"x + \" + str(round(intercept,2))\n",
    "plt.scatter(x_values,y_values)\n",
    "\n",
    "# Plot regression line\n",
    "plt.plot(x_values,regress_values,\"r-\")\n",
    "plt.annotate(line_eq,(20,40),fontsize=15,color=\"red\")\n",
    "\n",
    "# Label plot\n",
    "plt.title('Northern Hemisphere - Wind Speed vs. Latitude Linear Regression')\n",
    "plt.xlabel('Latitude')\n",
    "plt.ylabel('Wind Speed (mph)')\n",
    "\n",
    "# Print r square value\n",
    "print(f\"R squard: {rvalue}\")\n",
    "\n",
    "# Show plot\n",
    "plt.show()"
   ]
  },
  {
   "cell_type": "markdown",
   "metadata": {},
   "source": [
    "####  Southern Hemisphere - Wind Speed (mph) vs. Latitude Linear Regression"
   ]
  },
  {
   "cell_type": "code",
   "execution_count": 23,
   "metadata": {},
   "outputs": [
    {
     "name": "stdout",
     "output_type": "stream",
     "text": [
      "R squard: -0.12649697982331018\n"
     ]
    },
    {
     "data": {
      "image/png": "[encoded data removed]",
      "text/plain": [
       "<Figure size 432x288 with 1 Axes>"
      ]
     },
     "metadata": {
      "needs_background": "light"
     },
     "output_type": "display_data"
    }
   ],
   "source": [
    "x_values = city_south['Latitude'].astype('float')\n",
    "y_values = city_south['Wind'].astype('float')\n",
    "\n",
    "# Run linear regression\n",
    "(slope, intercept, rvalue, pvalue, stderr) = linregress(x_values, y_values)\n",
    "regress_values = x_values * slope + intercept\n",
    "line_eq = \"y = \" + str(round(slope,2)) + \"x + \" + str(round(intercept,2))\n",
    "plt.scatter(x_values,y_values)\n",
    "\n",
    "# Plot regression line\n",
    "plt.plot(x_values,regress_values,\"r-\")\n",
    "plt.annotate(line_eq,(-50,20),fontsize=15,color=\"red\")\n",
    "\n",
    "# Label plot\n",
    "plt.title('Southern Hemisphere - Wind Speed vs. Latitude Linear Regression')\n",
    "plt.xlabel('Latitude')\n",
    "plt.ylabel('Wind Speed (mph)')\n",
    "\n",
    "# Print r square value\n",
    "print(f\"R squard: {rvalue}\")\n",
    "\n",
    "# Show plot\n",
    "plt.show()"
   ]
  },
  {
   "cell_type": "code",
   "execution_count": null,
   "metadata": {},
   "outputs": [],
   "source": []
  },
  {
   "cell_type": "code",
   "execution_count": null,
   "metadata": {},
   "outputs": [],
   "source": []
  }
 ],
 "metadata": {
  "anaconda-cloud": {},
  "kernel_info": {
   "name": "python3"
  },
  "kernelspec": {
   "display_name": "Python 3",
   "language": "python",
   "name": "python3"
  },
  "language_info": {
   "codemirror_mode": {
    "name": "ipython",
    "version": 3
   },
   "file_extension": ".py",
   "mimetype": "text/x-python",
   "name": "python",
   "nbconvert_exporter": "python",
   "pygments_lexer": "ipython3",
   "version": "3.7.4"
  },
  "latex_envs": {
   "LaTeX_envs_menu_present": true,
   "autoclose": false,
   "autocomplete": true,
   "bibliofile": "biblio.bib",
   "cite_by": "apalike",
   "current_citInitial": 1,
   "eqLabelWithNumbers": true,
   "eqNumInitial": 1,
   "hotkeys": {
    "equation": "Ctrl-E",
    "itemize": "Ctrl-I"
   },
   "labels_anchors": false,
   "latex_user_defs": false,
   "report_style_numbering": false,
   "user_envs_cfg": false
  },
  "nteract": {
   "version": "0.12.3"
  }
 },
 "nbformat": 4,
 "nbformat_minor": 2
}
